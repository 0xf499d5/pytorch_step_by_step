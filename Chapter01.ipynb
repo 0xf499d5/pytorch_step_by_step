{
 "cells": [
  {
   "cell_type": "markdown",
   "metadata": {},
   "source": [
    "# Deep Learning with PyTorch Step-by-Step: A Beginner's Guide"
   ]
  },
  {
   "cell_type": "markdown",
   "metadata": {},
   "source": [
    "# Chapter 1"
   ]
  },
  {
   "cell_type": "code",
   "execution_count": 1,
   "metadata": {
    "execution": {
     "iopub.execute_input": "2025-09-10T08:50:41.135875Z",
     "iopub.status.busy": "2025-09-10T08:50:41.135654Z",
     "iopub.status.idle": "2025-09-10T08:51:54.513959Z",
     "shell.execute_reply": "2025-09-10T08:51:54.513391Z",
     "shell.execute_reply.started": "2025-09-10T08:50:41.135841Z"
    },
    "trusted": true
   },
   "outputs": [
    {
     "name": "stdout",
     "output_type": "stream",
     "text": [
      "Installing torchviz...\n",
      "Collecting torchviz\n",
      "  Downloading torchviz-0.0.3-py3-none-any.whl.metadata (2.1 kB)\n",
      "Requirement already satisfied: torch in /usr/local/lib/python3.11/dist-packages (from torchviz) (2.6.0+cu124)\n",
      "Requirement already satisfied: graphviz in /usr/local/lib/python3.11/dist-packages (from torchviz) (0.21)\n",
      "Requirement already satisfied: filelock in /usr/local/lib/python3.11/dist-packages (from torch->torchviz) (3.18.0)\n",
      "Requirement already satisfied: typing-extensions>=4.10.0 in /usr/local/lib/python3.11/dist-packages (from torch->torchviz) (4.14.0)\n",
      "Requirement already satisfied: networkx in /usr/local/lib/python3.11/dist-packages (from torch->torchviz) (3.5)\n",
      "Requirement already satisfied: jinja2 in /usr/local/lib/python3.11/dist-packages (from torch->torchviz) (3.1.6)\n",
      "Requirement already satisfied: fsspec in /usr/local/lib/python3.11/dist-packages (from torch->torchviz) (2025.5.1)\n",
      "Collecting nvidia-cuda-nvrtc-cu12==12.4.127 (from torch->torchviz)\n",
      "  Downloading nvidia_cuda_nvrtc_cu12-12.4.127-py3-none-manylinux2014_x86_64.whl.metadata (1.5 kB)\n",
      "Collecting nvidia-cuda-runtime-cu12==12.4.127 (from torch->torchviz)\n",
      "  Downloading nvidia_cuda_runtime_cu12-12.4.127-py3-none-manylinux2014_x86_64.whl.metadata (1.5 kB)\n",
      "Collecting nvidia-cuda-cupti-cu12==12.4.127 (from torch->torchviz)\n",
      "  Downloading nvidia_cuda_cupti_cu12-12.4.127-py3-none-manylinux2014_x86_64.whl.metadata (1.6 kB)\n",
      "Collecting nvidia-cudnn-cu12==9.1.0.70 (from torch->torchviz)\n",
      "  Downloading nvidia_cudnn_cu12-9.1.0.70-py3-none-manylinux2014_x86_64.whl.metadata (1.6 kB)\n",
      "Collecting nvidia-cublas-cu12==12.4.5.8 (from torch->torchviz)\n",
      "  Downloading nvidia_cublas_cu12-12.4.5.8-py3-none-manylinux2014_x86_64.whl.metadata (1.5 kB)\n",
      "Collecting nvidia-cufft-cu12==11.2.1.3 (from torch->torchviz)\n",
      "  Downloading nvidia_cufft_cu12-11.2.1.3-py3-none-manylinux2014_x86_64.whl.metadata (1.5 kB)\n",
      "Collecting nvidia-curand-cu12==10.3.5.147 (from torch->torchviz)\n",
      "  Downloading nvidia_curand_cu12-10.3.5.147-py3-none-manylinux2014_x86_64.whl.metadata (1.5 kB)\n",
      "Collecting nvidia-cusolver-cu12==11.6.1.9 (from torch->torchviz)\n",
      "  Downloading nvidia_cusolver_cu12-11.6.1.9-py3-none-manylinux2014_x86_64.whl.metadata (1.6 kB)\n",
      "Collecting nvidia-cusparse-cu12==12.3.1.170 (from torch->torchviz)\n",
      "  Downloading nvidia_cusparse_cu12-12.3.1.170-py3-none-manylinux2014_x86_64.whl.metadata (1.6 kB)\n",
      "Requirement already satisfied: nvidia-cusparselt-cu12==0.6.2 in /usr/local/lib/python3.11/dist-packages (from torch->torchviz) (0.6.2)\n",
      "Requirement already satisfied: nvidia-nccl-cu12==2.21.5 in /usr/local/lib/python3.11/dist-packages (from torch->torchviz) (2.21.5)\n",
      "Requirement already satisfied: nvidia-nvtx-cu12==12.4.127 in /usr/local/lib/python3.11/dist-packages (from torch->torchviz) (12.4.127)\n",
      "Collecting nvidia-nvjitlink-cu12==12.4.127 (from torch->torchviz)\n",
      "  Downloading nvidia_nvjitlink_cu12-12.4.127-py3-none-manylinux2014_x86_64.whl.metadata (1.5 kB)\n",
      "Requirement already satisfied: triton==3.2.0 in /usr/local/lib/python3.11/dist-packages (from torch->torchviz) (3.2.0)\n",
      "Requirement already satisfied: sympy==1.13.1 in /usr/local/lib/python3.11/dist-packages (from torch->torchviz) (1.13.1)\n",
      "Requirement already satisfied: mpmath<1.4,>=1.1.0 in /usr/local/lib/python3.11/dist-packages (from sympy==1.13.1->torch->torchviz) (1.3.0)\n",
      "Requirement already satisfied: MarkupSafe>=2.0 in /usr/local/lib/python3.11/dist-packages (from jinja2->torch->torchviz) (3.0.2)\n",
      "Downloading torchviz-0.0.3-py3-none-any.whl (5.7 kB)\n",
      "Downloading nvidia_cublas_cu12-12.4.5.8-py3-none-manylinux2014_x86_64.whl (363.4 MB)\n",
      "   ━━━━━━━━━━━━━━━━━━━━━━━━━━━━━━━━━━━━━━━━ 363.4/363.4 MB 4.8 MB/s eta 0:00:00\n",
      "Downloading nvidia_cuda_cupti_cu12-12.4.127-py3-none-manylinux2014_x86_64.whl (13.8 MB)\n",
      "   ━━━━━━━━━━━━━━━━━━━━━━━━━━━━━━━━━━━━━━━━ 13.8/13.8 MB 87.6 MB/s eta 0:00:00\n",
      "Downloading nvidia_cuda_nvrtc_cu12-12.4.127-py3-none-manylinux2014_x86_64.whl (24.6 MB)\n",
      "   ━━━━━━━━━━━━━━━━━━━━━━━━━━━━━━━━━━━━━━━━ 24.6/24.6 MB 65.8 MB/s eta 0:00:00\n",
      "Downloading nvidia_cuda_runtime_cu12-12.4.127-py3-none-manylinux2014_x86_64.whl (883 kB)\n",
      "   ━━━━━━━━━━━━━━━━━━━━━━━━━━━━━━━━━━━━━━━━ 883.7/883.7 kB 42.9 MB/s eta 0:00:00\n",
      "Downloading nvidia_cudnn_cu12-9.1.0.70-py3-none-manylinux2014_x86_64.whl (664.8 MB)\n",
      "   ━━━━━━━━━━━━━━━━━━━━━━━━━━━━━━━━━━━━━━━━ 664.8/664.8 MB 2.6 MB/s eta 0:00:00\n",
      "Downloading nvidia_cufft_cu12-11.2.1.3-py3-none-manylinux2014_x86_64.whl (211.5 MB)\n",
      "   ━━━━━━━━━━━━━━━━━━━━━━━━━━━━━━━━━━━━━━━━ 211.5/211.5 MB 8.1 MB/s eta 0:00:00\n",
      "Downloading nvidia_curand_cu12-10.3.5.147-py3-none-manylinux2014_x86_64.whl (56.3 MB)\n",
      "   ━━━━━━━━━━━━━━━━━━━━━━━━━━━━━━━━━━━━━━━━ 56.3/56.3 MB 27.5 MB/s eta 0:00:00\n",
      "Downloading nvidia_cusolver_cu12-11.6.1.9-py3-none-manylinux2014_x86_64.whl (127.9 MB)\n",
      "   ━━━━━━━━━━━━━━━━━━━━━━━━━━━━━━━━━━━━━━━━ 127.9/127.9 MB 9.5 MB/s eta 0:00:00\n",
      "Downloading nvidia_cusparse_cu12-12.3.1.170-py3-none-manylinux2014_x86_64.whl (207.5 MB)\n",
      "   ━━━━━━━━━━━━━━━━━━━━━━━━━━━━━━━━━━━━━━━━ 207.5/207.5 MB 8.1 MB/s eta 0:00:00\n",
      "Downloading nvidia_nvjitlink_cu12-12.4.127-py3-none-manylinux2014_x86_64.whl (21.1 MB)\n",
      "   ━━━━━━━━━━━━━━━━━━━━━━━━━━━━━━━━━━━━━━━━ 21.1/21.1 MB 74.9 MB/s eta 0:00:00\n",
      "Installing collected packages: nvidia-nvjitlink-cu12, nvidia-curand-cu12, nvidia-cufft-cu12, nvidia-cuda-runtime-cu12, nvidia-cuda-nvrtc-cu12, nvidia-cuda-cupti-cu12, nvidia-cublas-cu12, nvidia-cusparse-cu12, nvidia-cudnn-cu12, nvidia-cusolver-cu12, torchviz\n",
      "  Attempting uninstall: nvidia-nvjitlink-cu12\n",
      "    Found existing installation: nvidia-nvjitlink-cu12 12.5.82\n",
      "    Uninstalling nvidia-nvjitlink-cu12-12.5.82:\n",
      "      Successfully uninstalled nvidia-nvjitlink-cu12-12.5.82\n",
      "  Attempting uninstall: nvidia-curand-cu12\n",
      "    Found existing installation: nvidia-curand-cu12 10.3.6.82\n",
      "    Uninstalling nvidia-curand-cu12-10.3.6.82:\n",
      "      Successfully uninstalled nvidia-curand-cu12-10.3.6.82\n",
      "  Attempting uninstall: nvidia-cufft-cu12\n",
      "    Found existing installation: nvidia-cufft-cu12 11.2.3.61\n",
      "    Uninstalling nvidia-cufft-cu12-11.2.3.61:\n",
      "      Successfully uninstalled nvidia-cufft-cu12-11.2.3.61\n",
      "  Attempting uninstall: nvidia-cuda-runtime-cu12\n",
      "    Found existing installation: nvidia-cuda-runtime-cu12 12.5.82\n",
      "    Uninstalling nvidia-cuda-runtime-cu12-12.5.82:\n",
      "      Successfully uninstalled nvidia-cuda-runtime-cu12-12.5.82\n",
      "  Attempting uninstall: nvidia-cuda-nvrtc-cu12\n",
      "    Found existing installation: nvidia-cuda-nvrtc-cu12 12.5.82\n",
      "    Uninstalling nvidia-cuda-nvrtc-cu12-12.5.82:\n",
      "      Successfully uninstalled nvidia-cuda-nvrtc-cu12-12.5.82\n",
      "  Attempting uninstall: nvidia-cuda-cupti-cu12\n",
      "    Found existing installation: nvidia-cuda-cupti-cu12 12.5.82\n",
      "    Uninstalling nvidia-cuda-cupti-cu12-12.5.82:\n",
      "      Successfully uninstalled nvidia-cuda-cupti-cu12-12.5.82\n",
      "  Attempting uninstall: nvidia-cublas-cu12\n",
      "    Found existing installation: nvidia-cublas-cu12 12.5.3.2\n",
      "    Uninstalling nvidia-cublas-cu12-12.5.3.2:\n",
      "      Successfully uninstalled nvidia-cublas-cu12-12.5.3.2\n",
      "  Attempting uninstall: nvidia-cusparse-cu12\n",
      "    Found existing installation: nvidia-cusparse-cu12 12.5.1.3\n",
      "    Uninstalling nvidia-cusparse-cu12-12.5.1.3:\n",
      "      Successfully uninstalled nvidia-cusparse-cu12-12.5.1.3\n",
      "  Attempting uninstall: nvidia-cudnn-cu12\n",
      "    Found existing installation: nvidia-cudnn-cu12 9.3.0.75\n",
      "    Uninstalling nvidia-cudnn-cu12-9.3.0.75:\n",
      "      Successfully uninstalled nvidia-cudnn-cu12-9.3.0.75\n",
      "  Attempting uninstall: nvidia-cusolver-cu12\n",
      "    Found existing installation: nvidia-cusolver-cu12 11.6.3.83\n",
      "    Uninstalling nvidia-cusolver-cu12-11.6.3.83:\n",
      "      Successfully uninstalled nvidia-cusolver-cu12-11.6.3.83\n",
      "Successfully installed nvidia-cublas-cu12-12.4.5.8 nvidia-cuda-cupti-cu12-12.4.127 nvidia-cuda-nvrtc-cu12-12.4.127 nvidia-cuda-runtime-cu12-12.4.127 nvidia-cudnn-cu12-9.1.0.70 nvidia-cufft-cu12-11.2.1.3 nvidia-curand-cu12-10.3.5.147 nvidia-cusolver-cu12-11.6.1.9 nvidia-cusparse-cu12-12.3.1.170 nvidia-nvjitlink-cu12-12.4.127 torchviz-0.0.3\n",
      "Downloading files from GitHub repo to Colab...\n",
      "Creating folders...\n",
      "Finished!\n"
     ]
    }
   ],
   "source": [
    "try:\n",
    "    import google.colab\n",
    "    import requests\n",
    "    url = 'https://raw.githubusercontent.com/dvgodoy/PyTorchStepByStep/master/config.py'\n",
    "    r = requests.get(url, allow_redirects=True)\n",
    "    open('config.py', 'wb').write(r.content)    \n",
    "except ModuleNotFoundError:\n",
    "    pass\n",
    "\n",
    "from config import *\n",
    "config_chapter1()\n",
    "# This is needed to render the plots in this chapter\n",
    "from plots.chapter1 import *"
   ]
  },
  {
   "cell_type": "code",
   "execution_count": 2,
   "metadata": {
    "execution": {
     "iopub.execute_input": "2025-09-10T08:51:54.515470Z",
     "iopub.status.busy": "2025-09-10T08:51:54.515106Z",
     "iopub.status.idle": "2025-09-10T08:51:57.882819Z",
     "shell.execute_reply": "2025-09-10T08:51:57.882172Z",
     "shell.execute_reply.started": "2025-09-10T08:51:54.515445Z"
    },
    "trusted": true
   },
   "outputs": [],
   "source": [
    "import numpy as np\n",
    "from sklearn.linear_model import LinearRegression\n",
    "\n",
    "import torch\n",
    "import torch.optim as optim\n",
    "import torch.nn as nn\n",
    "from torchviz import make_dot"
   ]
  },
  {
   "cell_type": "markdown",
   "metadata": {},
   "source": [
    "# 1.0 A Simple Regression Problem\n",
    "\n",
    "$$\n",
    "\\Large y = b + w x + \\epsilon\n",
    "$$"
   ]
  },
  {
   "cell_type": "markdown",
   "metadata": {},
   "source": [
    "# 1.1 Data Generation"
   ]
  },
  {
   "cell_type": "markdown",
   "metadata": {},
   "source": [
    "### 1.1.1 Synthetic Data Generation"
   ]
  },
  {
   "cell_type": "code",
   "execution_count": 3,
   "metadata": {
    "execution": {
     "iopub.execute_input": "2025-09-10T08:51:57.883990Z",
     "iopub.status.busy": "2025-09-10T08:51:57.883585Z",
     "iopub.status.idle": "2025-09-10T08:51:57.888701Z",
     "shell.execute_reply": "2025-09-10T08:51:57.888006Z",
     "shell.execute_reply.started": "2025-09-10T08:51:57.883967Z"
    },
    "trusted": true
   },
   "outputs": [],
   "source": [
    "true_b = 1\n",
    "true_w = 2\n",
    "N = 100\n",
    "\n",
    "# Data Generation\n",
    "np.random.seed(42)\n",
    "x = np.random.rand(N, 1)\n",
    "epsilon = (.1 * np.random.randn(N, 1))\n",
    "y = true_b + true_w * x + epsilon"
   ]
  },
  {
   "cell_type": "markdown",
   "metadata": {},
   "source": [
    "### 1.1.2 Data Split"
   ]
  },
  {
   "cell_type": "code",
   "execution_count": 4,
   "metadata": {
    "execution": {
     "iopub.execute_input": "2025-09-10T08:51:57.890499Z",
     "iopub.status.busy": "2025-09-10T08:51:57.890281Z",
     "iopub.status.idle": "2025-09-10T08:51:57.909224Z",
     "shell.execute_reply": "2025-09-10T08:51:57.908532Z",
     "shell.execute_reply.started": "2025-09-10T08:51:57.890483Z"
    },
    "trusted": true
   },
   "outputs": [],
   "source": [
    "# Shuffles the indices\n",
    "idx = np.arange(N)\n",
    "np.random.shuffle(idx)\n",
    "\n",
    "# Uses first 80 random indices for train\n",
    "train_idx = idx[:int(N*.8)]\n",
    "# Uses the remaining indices for validation\n",
    "val_idx = idx[int(N*.8):]\n",
    "\n",
    "# Generates train and validation sets\n",
    "x_train, y_train = x[train_idx], y[train_idx]\n",
    "x_val, y_val = x[val_idx], y[val_idx]"
   ]
  },
  {
   "cell_type": "code",
   "execution_count": 5,
   "metadata": {
    "execution": {
     "iopub.execute_input": "2025-09-10T08:51:57.910029Z",
     "iopub.status.busy": "2025-09-10T08:51:57.909873Z",
     "iopub.status.idle": "2025-09-10T08:51:58.353590Z",
     "shell.execute_reply": "2025-09-10T08:51:58.352897Z",
     "shell.execute_reply.started": "2025-09-10T08:51:57.910015Z"
    },
    "trusted": true
   },
   "outputs": [
    {
     "data": {
      "text/plain": [
       "(<Figure size 1200x600 with 2 Axes>,\n",
       " array([<Axes: title={'center': 'Generated Data - Train'}, xlabel='x', ylabel='y'>,\n",
       "        <Axes: title={'center': 'Generated Data - Validation'}, xlabel='x', ylabel='y'>],\n",
       "       dtype=object))"
      ]
     },
     "execution_count": 5,
     "metadata": {},
     "output_type": "execute_result"
    },
    {
     "data": {
      "image/png": "[encoded data removed]",
      "text/plain": [
       "<Figure size 1200x600 with 2 Axes>"
      ]
     },
     "metadata": {},
     "output_type": "display_data"
    }
   ],
   "source": [
    "figure1(x_train, y_train, x_val, y_val)"
   ]
  },
  {
   "cell_type": "markdown",
   "metadata": {},
   "source": [
    "# 1.2 Gradient Descent\n",
    "\n",
    "梯度下降的基本步骤：\n",
    "1. 随机初始化\n",
    "2. 计算模型的预测\n",
    "3. 计算损失\n",
    "4. 计算梯度\n",
    "5. 更新参数\n",
    "6. 循环往复"
   ]
  },
  {
   "cell_type": "markdown",
   "metadata": {},
   "source": [
    "## Step 0: Random Initialization"
   ]
  },
  {
   "cell_type": "code",
   "execution_count": 6,
   "metadata": {
    "execution": {
     "iopub.execute_input": "2025-09-10T08:51:58.354850Z",
     "iopub.status.busy": "2025-09-10T08:51:58.354581Z",
     "iopub.status.idle": "2025-09-10T08:51:58.359101Z",
     "shell.execute_reply": "2025-09-10T08:51:58.358341Z",
     "shell.execute_reply.started": "2025-09-10T08:51:58.354832Z"
    },
    "trusted": true
   },
   "outputs": [
    {
     "name": "stdout",
     "output_type": "stream",
     "text": [
      "[0.49671415] [-0.1382643]\n"
     ]
    }
   ],
   "source": [
    "# Step 0 - Initializes parameters \"b\" and \"w\" randomly\n",
    "np.random.seed(42)\n",
    "b = np.random.randn(1)\n",
    "w = np.random.randn(1)\n",
    "\n",
    "print(b, w)"
   ]
  },
  {
   "cell_type": "markdown",
   "metadata": {},
   "source": [
    "## Step 1: Compute Model's Predictions"
   ]
  },
  {
   "cell_type": "code",
   "execution_count": 7,
   "metadata": {
    "execution": {
     "iopub.execute_input": "2025-09-10T08:51:58.359987Z",
     "iopub.status.busy": "2025-09-10T08:51:58.359760Z",
     "iopub.status.idle": "2025-09-10T08:51:58.373450Z",
     "shell.execute_reply": "2025-09-10T08:51:58.372809Z",
     "shell.execute_reply.started": "2025-09-10T08:51:58.359965Z"
    },
    "trusted": true
   },
   "outputs": [],
   "source": [
    "# Step 1 - Computes our model's predicted output - forward pass\n",
    "yhat = b + w * x_train"
   ]
  },
  {
   "cell_type": "markdown",
   "metadata": {},
   "source": [
    "## Step 2: Compute the Loss"
   ]
  },
  {
   "cell_type": "code",
   "execution_count": 8,
   "metadata": {
    "execution": {
     "iopub.execute_input": "2025-09-10T08:51:58.374592Z",
     "iopub.status.busy": "2025-09-10T08:51:58.374223Z",
     "iopub.status.idle": "2025-09-10T08:51:58.388037Z",
     "shell.execute_reply": "2025-09-10T08:51:58.387373Z",
     "shell.execute_reply.started": "2025-09-10T08:51:58.374568Z"
    },
    "trusted": true
   },
   "outputs": [
    {
     "name": "stdout",
     "output_type": "stream",
     "text": [
      "2.7421577700550976\n"
     ]
    }
   ],
   "source": [
    "# Step 2 - Computing the loss\n",
    "# We are using ALL data points, so this is BATCH gradient\n",
    "# descent. How wrong is our model? That's the error!\n",
    "error = (yhat - y_train)\n",
    "\n",
    "# It is a regression, so it computes mean squared error (MSE)\n",
    "loss = (error ** 2).mean()\n",
    "\n",
    "print(loss)"
   ]
  },
  {
   "cell_type": "markdown",
   "metadata": {},
   "source": [
    "## Step 3: Compute the Gradients"
   ]
  },
  {
   "cell_type": "code",
   "execution_count": 9,
   "metadata": {
    "execution": {
     "iopub.execute_input": "2025-09-10T08:51:58.388956Z",
     "iopub.status.busy": "2025-09-10T08:51:58.388798Z",
     "iopub.status.idle": "2025-09-10T08:51:58.402186Z",
     "shell.execute_reply": "2025-09-10T08:51:58.401551Z",
     "shell.execute_reply.started": "2025-09-10T08:51:58.388943Z"
    },
    "trusted": true
   },
   "outputs": [
    {
     "name": "stdout",
     "output_type": "stream",
     "text": [
      "-3.044811379650508 -1.8337537171510832\n"
     ]
    }
   ],
   "source": [
    "# Step 3 - Computes gradients for both \"b\" and \"w\" parameters\n",
    "b_grad = 2 * error.mean()\n",
    "w_grad = 2 * (x_train * error).mean()\n",
    "print(b_grad, w_grad)"
   ]
  },
  {
   "cell_type": "markdown",
   "metadata": {},
   "source": [
    "## Step 4: Update the Parameters"
   ]
  },
  {
   "cell_type": "code",
   "execution_count": 10,
   "metadata": {
    "execution": {
     "iopub.execute_input": "2025-09-10T08:51:58.404962Z",
     "iopub.status.busy": "2025-09-10T08:51:58.404742Z",
     "iopub.status.idle": "2025-09-10T08:51:58.415131Z",
     "shell.execute_reply": "2025-09-10T08:51:58.414564Z",
     "shell.execute_reply.started": "2025-09-10T08:51:58.404943Z"
    },
    "trusted": true
   },
   "outputs": [
    {
     "name": "stdout",
     "output_type": "stream",
     "text": [
      "Before updating: [0.49671415], [-0.1382643]\n",
      "After updating: [0.80119529], [0.04511107]\n"
     ]
    }
   ],
   "source": [
    "# Sets learning rate - this is \"eta\" ~ the \"n\" like Greek letter\n",
    "lr = 0.1\n",
    "print(f\"Before updating: {b}, {w}\")\n",
    "\n",
    "# Step 4 - Updates parameters using gradients and \n",
    "# the learning rate\n",
    "b = b - lr * b_grad\n",
    "w = w - lr * w_grad\n",
    "\n",
    "print(f\"After updating: {b}, {w}\")"
   ]
  },
  {
   "cell_type": "markdown",
   "metadata": {},
   "source": [
    "## Step 5: Rinse and Repeat!"
   ]
  },
  {
   "cell_type": "code",
   "execution_count": 11,
   "metadata": {
    "execution": {
     "iopub.execute_input": "2025-09-10T08:51:58.416122Z",
     "iopub.status.busy": "2025-09-10T08:51:58.415881Z",
     "iopub.status.idle": "2025-09-10T08:51:58.427967Z",
     "shell.execute_reply": "2025-09-10T08:51:58.427230Z",
     "shell.execute_reply.started": "2025-09-10T08:51:58.416100Z"
    },
    "trusted": true
   },
   "outputs": [],
   "source": [
    "# Go back to Step 1 and run observe how your parameters b and w change"
   ]
  },
  {
   "cell_type": "markdown",
   "metadata": {},
   "source": [
    "# 1.3 Linear Regression in Numpy"
   ]
  },
  {
   "cell_type": "code",
   "execution_count": 12,
   "metadata": {
    "execution": {
     "iopub.execute_input": "2025-09-10T08:51:58.429133Z",
     "iopub.status.busy": "2025-09-10T08:51:58.428882Z",
     "iopub.status.idle": "2025-09-10T08:51:58.467574Z",
     "shell.execute_reply": "2025-09-10T08:51:58.467038Z",
     "shell.execute_reply.started": "2025-09-10T08:51:58.429117Z"
    },
    "trusted": true
   },
   "outputs": [
    {
     "name": "stdout",
     "output_type": "stream",
     "text": [
      "[0.49671415] [-0.1382643]\n",
      "[1.02354094] [1.96896411]\n"
     ]
    }
   ],
   "source": [
    "# Step 0 - Initializes parameters \"b\" and \"w\" randomly\n",
    "np.random.seed(42)\n",
    "b = np.random.randn(1)\n",
    "w = np.random.randn(1)\n",
    "\n",
    "print(b, w)\n",
    "\n",
    "# Sets learning rate - this is \"eta\" ~ the \"n\"-like Greek letter\n",
    "lr = 0.1\n",
    "# Defines number of epochs\n",
    "n_epochs = 1000\n",
    "\n",
    "for epoch in range(n_epochs):\n",
    "    # Step 1 - Computes model's predicted output - forward pass\n",
    "    yhat = b + w * x_train\n",
    "    \n",
    "    # Step 2 - Computes the loss\n",
    "    # We are using ALL data points, so this is BATCH gradient\n",
    "    # descent. How wrong is our model? That's the error!   \n",
    "    error = (yhat - y_train)\n",
    "    # It is a regression, so it computes mean squared error (MSE)\n",
    "    loss = (error ** 2).mean()\n",
    "    \n",
    "    # Step 3 - Computes gradients for both \"b\" and \"w\" parameters\n",
    "    b_grad = 2 * error.mean()\n",
    "    w_grad = 2 * (x_train * error).mean()\n",
    "    \n",
    "    # Step 4 - Updates parameters using gradients and \n",
    "    # the learning rate\n",
    "    b = b - lr * b_grad\n",
    "    w = w - lr * w_grad\n",
    "    \n",
    "print(b, w)"
   ]
  },
  {
   "cell_type": "code",
   "execution_count": 13,
   "metadata": {
    "execution": {
     "iopub.execute_input": "2025-09-10T08:51:58.468493Z",
     "iopub.status.busy": "2025-09-10T08:51:58.468257Z",
     "iopub.status.idle": "2025-09-10T08:51:58.483903Z",
     "shell.execute_reply": "2025-09-10T08:51:58.483231Z",
     "shell.execute_reply.started": "2025-09-10T08:51:58.468473Z"
    },
    "trusted": true
   },
   "outputs": [
    {
     "name": "stdout",
     "output_type": "stream",
     "text": [
      "b: [1.02354075], w: [1.96896447]\n"
     ]
    }
   ],
   "source": [
    "# Sanity Check: do we get the same results as our\n",
    "# gradient descent?\n",
    "linr = LinearRegression()\n",
    "linr.fit(x_train, y_train)\n",
    "print(f\"b: {linr.intercept_}, w: {linr.coef_[0]}\")"
   ]
  },
  {
   "cell_type": "code",
   "execution_count": 14,
   "metadata": {
    "execution": {
     "iopub.execute_input": "2025-09-10T08:51:58.484746Z",
     "iopub.status.busy": "2025-09-10T08:51:58.484497Z",
     "iopub.status.idle": "2025-09-10T08:51:58.680749Z",
     "shell.execute_reply": "2025-09-10T08:51:58.680026Z",
     "shell.execute_reply.started": "2025-09-10T08:51:58.484731Z"
    },
    "trusted": true
   },
   "outputs": [
    {
     "data": {
      "image/png": "[encoded data removed]",
      "text/plain": [
       "<Figure size 600x600 with 1 Axes>"
      ]
     },
     "metadata": {},
     "output_type": "display_data"
    }
   ],
   "source": [
    "fig = figure3(x_train, y_train)"
   ]
  },
  {
   "cell_type": "markdown",
   "metadata": {},
   "source": [
    "# 1.4 PyTorch"
   ]
  },
  {
   "cell_type": "markdown",
   "metadata": {},
   "source": [
    "## 1.4.1 Tensor"
   ]
  },
  {
   "cell_type": "code",
   "execution_count": 15,
   "metadata": {
    "execution": {
     "iopub.execute_input": "2025-09-10T08:51:58.681716Z",
     "iopub.status.busy": "2025-09-10T08:51:58.681460Z",
     "iopub.status.idle": "2025-09-10T08:51:58.769033Z",
     "shell.execute_reply": "2025-09-10T08:51:58.768475Z",
     "shell.execute_reply.started": "2025-09-10T08:51:58.681700Z"
    },
    "trusted": true
   },
   "outputs": [
    {
     "name": "stdout",
     "output_type": "stream",
     "text": [
      "tensor(3.1416)\n",
      "tensor([1, 2, 3])\n",
      "tensor([[1., 1., 1.],\n",
      "        [1., 1., 1.]])\n",
      "tensor([[[-0.8408, -0.6441, -1.9556,  0.0653],\n",
      "         [-1.6680,  1.3536, -0.5874,  0.4636],\n",
      "         [-1.5538, -0.6041, -0.2679, -0.7288]],\n",
      "\n",
      "        [[ 1.5170, -0.0470,  0.5700,  0.4062],\n",
      "         [ 0.1097, -0.1520, -1.2263,  0.0534],\n",
      "         [-0.4581, -0.3552,  2.0114,  1.3648]]])\n"
     ]
    }
   ],
   "source": [
    "scalar = torch.tensor(3.14159)\n",
    "vector = torch.tensor([1, 2, 3])\n",
    "matrix = torch.ones((2, 3), dtype=torch.float)\n",
    "tensor = torch.randn((2, 3, 4), dtype=torch.float)\n",
    "\n",
    "print(scalar)\n",
    "print(vector)\n",
    "print(matrix)\n",
    "print(tensor)"
   ]
  },
  {
   "cell_type": "code",
   "execution_count": 16,
   "metadata": {
    "execution": {
     "iopub.execute_input": "2025-09-10T08:51:58.769849Z",
     "iopub.status.busy": "2025-09-10T08:51:58.769617Z",
     "iopub.status.idle": "2025-09-10T08:51:58.773955Z",
     "shell.execute_reply": "2025-09-10T08:51:58.773337Z",
     "shell.execute_reply.started": "2025-09-10T08:51:58.769833Z"
    },
    "trusted": true
   },
   "outputs": [
    {
     "name": "stdout",
     "output_type": "stream",
     "text": [
      "torch.Size([2, 3, 4]) torch.Size([2, 3, 4])\n"
     ]
    }
   ],
   "source": [
    "print(tensor.size(), tensor.shape)"
   ]
  },
  {
   "cell_type": "markdown",
   "metadata": {},
   "source": [
    "标量也有空形状："
   ]
  },
  {
   "cell_type": "code",
   "execution_count": 17,
   "metadata": {
    "execution": {
     "iopub.execute_input": "2025-09-10T08:51:58.774900Z",
     "iopub.status.busy": "2025-09-10T08:51:58.774655Z",
     "iopub.status.idle": "2025-09-10T08:51:58.787985Z",
     "shell.execute_reply": "2025-09-10T08:51:58.787376Z",
     "shell.execute_reply.started": "2025-09-10T08:51:58.774876Z"
    },
    "trusted": true
   },
   "outputs": [
    {
     "name": "stdout",
     "output_type": "stream",
     "text": [
      "torch.Size([]) torch.Size([])\n"
     ]
    }
   ],
   "source": [
    "print(scalar.size(), scalar.shape)"
   ]
  },
  {
   "cell_type": "markdown",
   "metadata": {},
   "source": [
    "重塑张量：可以使用`torch.reshape`或者`torch.view`，推荐使用`torch.view`，不过需要注意的是，`torch.view`的返回值将会与原始张量共享基础数据："
   ]
  },
  {
   "cell_type": "code",
   "execution_count": 18,
   "metadata": {
    "execution": {
     "iopub.execute_input": "2025-09-10T08:51:58.788924Z",
     "iopub.status.busy": "2025-09-10T08:51:58.788692Z",
     "iopub.status.idle": "2025-09-10T08:51:58.805937Z",
     "shell.execute_reply": "2025-09-10T08:51:58.805222Z",
     "shell.execute_reply.started": "2025-09-10T08:51:58.788900Z"
    },
    "trusted": true
   },
   "outputs": [
    {
     "name": "stdout",
     "output_type": "stream",
     "text": [
      "tensor([[1., 2., 1.],\n",
      "        [1., 1., 1.]])\n",
      "tensor([[1., 2., 1., 1., 1., 1.]])\n"
     ]
    }
   ],
   "source": [
    "# We get a tensor with a different shape but it still is\n",
    "# the SAME tensor\n",
    "same_matrix = matrix.view(1, 6)\n",
    "# If we change one of its elements...\n",
    "same_matrix[0, 1] = 2.\n",
    "# It changes both variables: matrix and same_matrix\n",
    "print(matrix)\n",
    "print(same_matrix)"
   ]
  },
  {
   "cell_type": "markdown",
   "metadata": {},
   "source": [
    "复制`tensor`：`torch.Tensor.new_tensor`或者`torch.Tensor.clone`，优先使用`torch.Tensor.clone`："
   ]
  },
  {
   "cell_type": "code",
   "execution_count": 19,
   "metadata": {
    "execution": {
     "iopub.execute_input": "2025-09-10T08:51:58.806962Z",
     "iopub.status.busy": "2025-09-10T08:51:58.806670Z",
     "iopub.status.idle": "2025-09-10T08:51:58.817157Z",
     "shell.execute_reply": "2025-09-10T08:51:58.816507Z",
     "shell.execute_reply.started": "2025-09-10T08:51:58.806945Z"
    },
    "trusted": true
   },
   "outputs": [
    {
     "name": "stdout",
     "output_type": "stream",
     "text": [
      "tensor([[1., 2., 1.],\n",
      "        [1., 1., 1.]])\n",
      "tensor([[1., 3., 1., 1., 1., 1.]])\n"
     ]
    },
    {
     "name": "stderr",
     "output_type": "stream",
     "text": [
      "/tmp/ipykernel_36/1277334554.py:2: UserWarning: To copy construct from a tensor, it is recommended to use sourceTensor.clone().detach() or sourceTensor.clone().detach().requires_grad_(True), rather than tensor.new_tensor(sourceTensor).\n",
      "  different_matrix = matrix.new_tensor(matrix.view(1, 6))\n"
     ]
    }
   ],
   "source": [
    "# We can use \"new_tensor\" method to REALLY copy it into a new one\n",
    "different_matrix = matrix.new_tensor(matrix.view(1, 6))\n",
    "# Now, if we change one of its elements...\n",
    "different_matrix[0, 1] = 3.\n",
    "# The original tensor (matrix) is left untouched!\n",
    "# But we get a \"warning\" from PyTorch telling us \n",
    "# to use \"clone()\" instead!\n",
    "print(matrix)\n",
    "print(different_matrix)"
   ]
  },
  {
   "cell_type": "code",
   "execution_count": 20,
   "metadata": {
    "execution": {
     "iopub.execute_input": "2025-09-10T08:51:58.818109Z",
     "iopub.status.busy": "2025-09-10T08:51:58.817851Z",
     "iopub.status.idle": "2025-09-10T08:51:58.834023Z",
     "shell.execute_reply": "2025-09-10T08:51:58.833380Z",
     "shell.execute_reply.started": "2025-09-10T08:51:58.818088Z"
    },
    "trusted": true
   },
   "outputs": [
    {
     "name": "stdout",
     "output_type": "stream",
     "text": [
      "tensor([[1., 2., 1.],\n",
      "        [1., 1., 1.]])\n",
      "tensor([[1., 4., 1., 1., 1., 1.]])\n"
     ]
    }
   ],
   "source": [
    "# Lets follow PyTorch's suggestion and use \"clone\" method\n",
    "another_matrix = matrix.view(1, 6).clone().detach()\n",
    "# Again, if we change one of its elements...\n",
    "another_matrix[0, 1] = 4.\n",
    "# The original tensor (matrix) is left untouched!\n",
    "print(matrix)\n",
    "print(another_matrix)"
   ]
  },
  {
   "cell_type": "markdown",
   "metadata": {},
   "source": [
    "`torch.Tensor.detach`方法会将`tensor`从计算图中删除。"
   ]
  },
  {
   "cell_type": "markdown",
   "metadata": {},
   "source": [
    "## 1.4.2 Loading Data, Devices and CUDA"
   ]
  },
  {
   "cell_type": "markdown",
   "metadata": {},
   "source": [
    "### 1.4.2.1 torch.Tensor and numpy.ndarray\n",
    "`torch.Tensor`和`numpy.ndarray`之间的相互转换："
   ]
  },
  {
   "cell_type": "code",
   "execution_count": 21,
   "metadata": {
    "execution": {
     "iopub.execute_input": "2025-09-10T08:51:58.834987Z",
     "iopub.status.busy": "2025-09-10T08:51:58.834728Z",
     "iopub.status.idle": "2025-09-10T08:51:58.847695Z",
     "shell.execute_reply": "2025-09-10T08:51:58.846851Z",
     "shell.execute_reply.started": "2025-09-10T08:51:58.834971Z"
    },
    "trusted": true
   },
   "outputs": [
    {
     "name": "stdout",
     "output_type": "stream",
     "text": [
      "type of x_train: <class 'numpy.ndarray'>, and x_train.shape: (80, 1)\n",
      "type of x_train_tensor: <class 'torch.Tensor'>, x_train_tensor.shape: torch.Size([80, 1])\n"
     ]
    }
   ],
   "source": [
    "x_train_tensor = torch.as_tensor(x_train)\n",
    "# x_train.dtype, x_train_tensor.dtype\n",
    "print(f\"type of x_train: {type(x_train)}, and x_train.shape: {x_train.shape}\")\n",
    "print(f\"type of x_train_tensor: {type(x_train_tensor)}, x_train_tensor.shape: {x_train_tensor.shape}\")"
   ]
  },
  {
   "cell_type": "code",
   "execution_count": 22,
   "metadata": {
    "execution": {
     "iopub.execute_input": "2025-09-10T08:51:58.848806Z",
     "iopub.status.busy": "2025-09-10T08:51:58.848486Z",
     "iopub.status.idle": "2025-09-10T08:51:58.863050Z",
     "shell.execute_reply": "2025-09-10T08:51:58.862493Z",
     "shell.execute_reply.started": "2025-09-10T08:51:58.848787Z"
    },
    "trusted": true
   },
   "outputs": [
    {
     "data": {
      "text/plain": [
       "torch.float32"
      ]
     },
     "execution_count": 22,
     "metadata": {},
     "output_type": "execute_result"
    }
   ],
   "source": [
    "float_tensor = x_train_tensor.float()\n",
    "float_tensor.dtype"
   ]
  },
  {
   "cell_type": "code",
   "execution_count": 23,
   "metadata": {
    "execution": {
     "iopub.execute_input": "2025-09-10T08:51:58.864047Z",
     "iopub.status.busy": "2025-09-10T08:51:58.863838Z",
     "iopub.status.idle": "2025-09-10T08:51:58.877115Z",
     "shell.execute_reply": "2025-09-10T08:51:58.876385Z",
     "shell.execute_reply.started": "2025-09-10T08:51:58.864025Z"
    },
    "trusted": true
   },
   "outputs": [
    {
     "data": {
      "text/plain": [
       "tensor([1, 0, 3])"
      ]
     },
     "execution_count": 23,
     "metadata": {},
     "output_type": "execute_result"
    }
   ],
   "source": [
    "dummy_array = np.array([1, 2, 3])\n",
    "dummy_tensor = torch.as_tensor(dummy_array)\n",
    "# Modifies the numpy array\n",
    "dummy_array[1] = 0\n",
    "# Tensor gets modified too...\n",
    "dummy_tensor"
   ]
  },
  {
   "cell_type": "code",
   "execution_count": 24,
   "metadata": {
    "execution": {
     "iopub.execute_input": "2025-09-10T08:51:58.878040Z",
     "iopub.status.busy": "2025-09-10T08:51:58.877799Z",
     "iopub.status.idle": "2025-09-10T08:51:58.890881Z",
     "shell.execute_reply": "2025-09-10T08:51:58.890234Z",
     "shell.execute_reply.started": "2025-09-10T08:51:58.878017Z"
    },
    "trusted": true
   },
   "outputs": [
    {
     "data": {
      "text/plain": [
       "array([1, 0, 3])"
      ]
     },
     "execution_count": 24,
     "metadata": {},
     "output_type": "execute_result"
    }
   ],
   "source": [
    "dummy_tensor.numpy()  # torch.Tensor to numpy.ndarray"
   ]
  },
  {
   "cell_type": "markdown",
   "metadata": {},
   "source": [
    "### 1.4.2.2 Defining your device"
   ]
  },
  {
   "cell_type": "code",
   "execution_count": 25,
   "metadata": {
    "execution": {
     "iopub.execute_input": "2025-09-10T08:51:58.891990Z",
     "iopub.status.busy": "2025-09-10T08:51:58.891575Z",
     "iopub.status.idle": "2025-09-10T08:51:58.966939Z",
     "shell.execute_reply": "2025-09-10T08:51:58.966392Z",
     "shell.execute_reply.started": "2025-09-10T08:51:58.891964Z"
    },
    "trusted": true
   },
   "outputs": [
    {
     "data": {
      "text/plain": [
       "'cuda'"
      ]
     },
     "execution_count": 25,
     "metadata": {},
     "output_type": "execute_result"
    }
   ],
   "source": [
    "device = \"cuda\" if torch.cuda.is_available() else \"cpu\"\n",
    "device"
   ]
  },
  {
   "cell_type": "code",
   "execution_count": 26,
   "metadata": {
    "execution": {
     "iopub.execute_input": "2025-09-10T08:51:58.967904Z",
     "iopub.status.busy": "2025-09-10T08:51:58.967675Z",
     "iopub.status.idle": "2025-09-10T08:51:59.002911Z",
     "shell.execute_reply": "2025-09-10T08:51:59.002404Z",
     "shell.execute_reply.started": "2025-09-10T08:51:58.967880Z"
    },
    "trusted": true
   },
   "outputs": [
    {
     "name": "stdout",
     "output_type": "stream",
     "text": [
      "Tesla P100-PCIE-16GB\n"
     ]
    }
   ],
   "source": [
    "n_cudas = torch.cuda.device_count()\n",
    "for i in range(n_cudas):\n",
    "    print(torch.cuda.get_device_name(i))"
   ]
  },
  {
   "cell_type": "code",
   "execution_count": 27,
   "metadata": {
    "execution": {
     "iopub.execute_input": "2025-09-10T08:51:59.003753Z",
     "iopub.status.busy": "2025-09-10T08:51:59.003505Z",
     "iopub.status.idle": "2025-09-10T08:51:59.463392Z",
     "shell.execute_reply": "2025-09-10T08:51:59.462797Z",
     "shell.execute_reply.started": "2025-09-10T08:51:59.003734Z"
    },
    "trusted": true
   },
   "outputs": [
    {
     "data": {
      "text/plain": [
       "tensor([0.7713], device='cuda:0', dtype=torch.float64)"
      ]
     },
     "execution_count": 27,
     "metadata": {},
     "output_type": "execute_result"
    }
   ],
   "source": [
    "gpu_tensor = torch.as_tensor(x_train).to(device)\n",
    "gpu_tensor[0]"
   ]
  },
  {
   "cell_type": "code",
   "execution_count": 28,
   "metadata": {
    "execution": {
     "iopub.execute_input": "2025-09-10T08:51:59.468750Z",
     "iopub.status.busy": "2025-09-10T08:51:59.468554Z",
     "iopub.status.idle": "2025-09-10T08:51:59.473203Z",
     "shell.execute_reply": "2025-09-10T08:51:59.472558Z",
     "shell.execute_reply.started": "2025-09-10T08:51:59.468735Z"
    },
    "scrolled": true,
    "trusted": true
   },
   "outputs": [],
   "source": [
    "device = 'cuda' if torch.cuda.is_available() else 'cpu'\n",
    "\n",
    "# Our data was in Numpy arrays, but we need to transform them \n",
    "# into PyTorch's Tensors and then we send them to the \n",
    "# chosen device\n",
    "x_train_tensor = torch.as_tensor(x_train).float().to(device)\n",
    "y_train_tensor = torch.as_tensor(y_train).float().to(device)"
   ]
  },
  {
   "cell_type": "code",
   "execution_count": 33,
   "metadata": {
    "execution": {
     "iopub.execute_input": "2025-09-10T08:57:21.417820Z",
     "iopub.status.busy": "2025-09-10T08:57:21.416961Z",
     "iopub.status.idle": "2025-09-10T08:57:21.422983Z",
     "shell.execute_reply": "2025-09-10T08:57:21.422282Z",
     "shell.execute_reply.started": "2025-09-10T08:57:21.417794Z"
    },
    "trusted": true
   },
   "outputs": [
    {
     "name": "stdout",
     "output_type": "stream",
     "text": [
      "<class 'numpy.ndarray'>\n",
      "<class 'torch.Tensor'>\n",
      "<class 'torch.Tensor'>\n",
      "torch.cuda.FloatTensor\n",
      "torch.FloatTensor\n"
     ]
    }
   ],
   "source": [
    "# Here we can see the difference - notice that .type() is more\n",
    "# useful since it also tells us WHERE the tensor is (device)\n",
    "x_train_cpu_tensor = torch.as_tensor(x_train).float()\n",
    "print(type(x_train))\n",
    "print(type(x_train_tensor))\n",
    "print(type(x_train_cpu_tensor))\n",
    "print(x_train_tensor.type())\n",
    "print(x_train_cpu_tensor.type())"
   ]
  },
  {
   "cell_type": "markdown",
   "metadata": {},
   "source": [
    "可以观察到PyTorch中的Tensor分为CPU上的`torch.FloatTensor`以及GPU上的`torch.cuda.FloatTensor`。"
   ]
  },
  {
   "cell_type": "markdown",
   "metadata": {},
   "source": [
    "另外，NumPy无法处理`torch.cuda.FloatTensor`："
   ]
  },
  {
   "cell_type": "code",
   "execution_count": 30,
   "metadata": {
    "execution": {
     "iopub.execute_input": "2025-09-10T08:51:59.487716Z",
     "iopub.status.busy": "2025-09-10T08:51:59.487484Z",
     "iopub.status.idle": "2025-09-10T08:51:59.522341Z",
     "shell.execute_reply": "2025-09-10T08:51:59.521408Z",
     "shell.execute_reply.started": "2025-09-10T08:51:59.487700Z"
    },
    "trusted": true
   },
   "outputs": [
    {
     "ename": "TypeError",
     "evalue": "can't convert cuda:0 device type tensor to numpy. Use Tensor.cpu() to copy the tensor to host memory first.",
     "output_type": "error",
     "traceback": [
      "\u001b[0;31m---------------------------------------------------------------------------\u001b[0m",
      "\u001b[0;31mTypeError\u001b[0m                                 Traceback (most recent call last)",
      "\u001b[0;32m/tmp/ipykernel_36/974534203.py\u001b[0m in \u001b[0;36m<cell line: 0>\u001b[0;34m()\u001b[0m\n\u001b[0;32m----> 1\u001b[0;31m \u001b[0mback_to_numpy\u001b[0m \u001b[0;34m=\u001b[0m \u001b[0mx_train_tensor\u001b[0m\u001b[0;34m.\u001b[0m\u001b[0mnumpy\u001b[0m\u001b[0;34m(\u001b[0m\u001b[0;34m)\u001b[0m\u001b[0;34m\u001b[0m\u001b[0;34m\u001b[0m\u001b[0m\n\u001b[0m",
      "\u001b[0;31mTypeError\u001b[0m: can't convert cuda:0 device type tensor to numpy. Use Tensor.cpu() to copy the tensor to host memory first."
     ]
    }
   ],
   "source": [
    "back_to_numpy = x_train_tensor.numpy()"
   ]
  },
  {
   "cell_type": "markdown",
   "metadata": {},
   "source": [
    "如果非得要把GPU上的Tensor转换为NumPy的ndarray，需要先将GPU上的Tensor转换为CPU上的Tensor："
   ]
  },
  {
   "cell_type": "code",
   "execution_count": 39,
   "metadata": {
    "execution": {
     "iopub.execute_input": "2025-09-10T09:02:50.167353Z",
     "iopub.status.busy": "2025-09-10T09:02:50.167086Z",
     "iopub.status.idle": "2025-09-10T09:02:50.172567Z",
     "shell.execute_reply": "2025-09-10T09:02:50.171853Z",
     "shell.execute_reply.started": "2025-09-10T09:02:50.167327Z"
    },
    "trusted": true
   },
   "outputs": [
    {
     "name": "stdout",
     "output_type": "stream",
     "text": [
      "type of x_train_tensor: torch.cuda.FloatTensor\n",
      "type of x_train_cpu_tensor: torch.FloatTensor\n",
      "type of back_to_numpy: <class 'numpy.ndarray'>\n"
     ]
    }
   ],
   "source": [
    "x_train_cpu_tensor = x_train_tensor.cpu()\n",
    "back_to_numpy = x_train_cpu_tensor.numpy()\n",
    "print(f\"type of x_train_tensor: {x_train_tensor.type()}\")\n",
    "print(f\"type of x_train_cpu_tensor: {x_train_cpu_tensor.type()}\")\n",
    "print(f\"type of back_to_numpy: {type(back_to_numpy)}\")"
   ]
  },
  {
   "cell_type": "markdown",
   "metadata": {},
   "source": [
    "## 1.4.3 Creating Parameters\n",
    "\n",
    "用作训练数据的张量和用作训练参数的张量有什么区别？答案是后者需要计算梯度，所以两者的外在区别就是：后者需要设置`requires_grad = True`。\n",
    "\n",
    "以下四个代码块分别展示了创建训练参数的四种方式，其中最后一种是正确方式的最佳实践："
   ]
  },
  {
   "cell_type": "code",
   "execution_count": 43,
   "metadata": {
    "execution": {
     "iopub.execute_input": "2025-09-10T09:09:33.646437Z",
     "iopub.status.busy": "2025-09-10T09:09:33.646146Z",
     "iopub.status.idle": "2025-09-10T09:09:33.653366Z",
     "shell.execute_reply": "2025-09-10T09:09:33.652688Z",
     "shell.execute_reply.started": "2025-09-10T09:09:33.646419Z"
    },
    "trusted": true
   },
   "outputs": [
    {
     "name": "stdout",
     "output_type": "stream",
     "text": [
      "tensor([0.3367], requires_grad=True) tensor([0.1288], requires_grad=True)\n"
     ]
    }
   ],
   "source": [
    "# FIRST (CPU only)\n",
    "# Initializes parameters \"b\" and \"w\" randomly, ALMOST as we\n",
    "# did in Numpy since we want to apply gradient descent on\n",
    "# these parameters we need to set REQUIRES_GRAD = TRUE\n",
    "torch.manual_seed(42)\n",
    "b = torch.randn(1, requires_grad=True, dtype=torch.float)\n",
    "w = torch.randn(1, requires_grad=True, dtype=torch.float)\n",
    "print(b, w)"
   ]
  },
  {
   "cell_type": "code",
   "execution_count": 45,
   "metadata": {
    "execution": {
     "iopub.execute_input": "2025-09-10T09:12:17.891643Z",
     "iopub.status.busy": "2025-09-10T09:12:17.891334Z",
     "iopub.status.idle": "2025-09-10T09:12:17.902085Z",
     "shell.execute_reply": "2025-09-10T09:12:17.901339Z",
     "shell.execute_reply.started": "2025-09-10T09:12:17.891621Z"
    },
    "trusted": true
   },
   "outputs": [
    {
     "name": "stdout",
     "output_type": "stream",
     "text": [
      "tensor([0.3367], device='cuda:0', grad_fn=<ToCopyBackward0>) tensor([0.1288], device='cuda:0', grad_fn=<ToCopyBackward0>)\n"
     ]
    }
   ],
   "source": [
    "# SECOND (Missing grads on GPU)\n",
    "# But what if we want to run it on a GPU? We could just\n",
    "# send them to device, right?\n",
    "torch.manual_seed(42)\n",
    "b = torch.randn(1, requires_grad=True, dtype=torch.float).to(device)\n",
    "w = torch.randn(1, requires_grad=True, dtype=torch.float).to(device)\n",
    "print(b, w)\n",
    "# Sorry, but NO! The to(device) \"shadows\" the gradient...\n",
    "# And you can see it's missing 'requires_grad = True'."
   ]
  },
  {
   "cell_type": "code",
   "execution_count": 47,
   "metadata": {
    "execution": {
     "iopub.execute_input": "2025-09-10T09:13:47.528800Z",
     "iopub.status.busy": "2025-09-10T09:13:47.528088Z",
     "iopub.status.idle": "2025-09-10T09:13:47.536728Z",
     "shell.execute_reply": "2025-09-10T09:13:47.536023Z",
     "shell.execute_reply.started": "2025-09-10T09:13:47.528774Z"
    },
    "trusted": true
   },
   "outputs": [
    {
     "name": "stdout",
     "output_type": "stream",
     "text": [
      "tensor([0.3367], device='cuda:0', requires_grad=True) tensor([0.1288], device='cuda:0', requires_grad=True)\n"
     ]
    }
   ],
   "source": [
    "# THIRD (Re-enable 'requires_grad' on GPU)\n",
    "# We can either create regular tensors and send them to\n",
    "# the device (as we did with our data)\n",
    "torch.manual_seed(42)\n",
    "b = torch.randn(1, dtype=torch.float).to(device)\n",
    "w = torch.randn(1, dtype=torch.float).to(device)\n",
    "# and THEN set them as requiring gradients...\n",
    "b.requires_grad_()  # modify in-place\n",
    "w.requires_grad_()\n",
    "print(b, w)"
   ]
  },
  {
   "cell_type": "code",
   "execution_count": 49,
   "metadata": {
    "execution": {
     "iopub.execute_input": "2025-09-10T09:15:12.097743Z",
     "iopub.status.busy": "2025-09-10T09:15:12.097041Z",
     "iopub.status.idle": "2025-09-10T09:15:12.105144Z",
     "shell.execute_reply": "2025-09-10T09:15:12.104596Z",
     "shell.execute_reply.started": "2025-09-10T09:15:12.097721Z"
    },
    "trusted": true
   },
   "outputs": [
    {
     "name": "stdout",
     "output_type": "stream",
     "text": [
      "tensor([0.1940], device='cuda:0', requires_grad=True) tensor([0.1391], device='cuda:0', requires_grad=True)\n"
     ]
    }
   ],
   "source": [
    "# FINAL\n",
    "# We can specify the device at the moment of creation\n",
    "# RECOMMENDED!\n",
    "\n",
    "# Step 0 - Initializes parameters \"b\" and \"w\" randomly\n",
    "torch.manual_seed(42)\n",
    "b = torch.randn(1, requires_grad=True, dtype=torch.float, device=device)\n",
    "w = torch.randn(1, requires_grad=True, dtype=torch.float, device=device)\n",
    "print(b, w)"
   ]
  },
  {
   "cell_type": "markdown",
   "metadata": {},
   "source": [
    "所以，手动创建训练参数的最佳实践就是在定义参数张量时就为其指定设备。"
   ]
  },
  {
   "cell_type": "markdown",
   "metadata": {},
   "source": [
    "# 1.5 Autograd"
   ]
  },
  {
   "cell_type": "markdown",
   "metadata": {},
   "source": [
    "## 1.5.1 backward"
   ]
  },
  {
   "cell_type": "markdown",
   "metadata": {},
   "source": [
    "从损失函数开始进行反向传播："
   ]
  },
  {
   "cell_type": "code",
   "execution_count": 56,
   "metadata": {
    "execution": {
     "iopub.execute_input": "2025-09-10T09:45:03.356169Z",
     "iopub.status.busy": "2025-09-10T09:45:03.355447Z",
     "iopub.status.idle": "2025-09-10T09:45:03.363831Z",
     "shell.execute_reply": "2025-09-10T09:45:03.363197Z",
     "shell.execute_reply.started": "2025-09-10T09:45:03.356143Z"
    },
    "trusted": true
   },
   "outputs": [],
   "source": [
    "# Step 1 - Computes our model's predicted output - forward pass\n",
    "yhat = b + w * x_train_tensor\n",
    "\n",
    "# Step 2 - Computes the loss\n",
    "# We are using ALL data points, so this is BATCH gradient descent\n",
    "# How wrong is our model? That's the error! \n",
    "error = (yhat - y_train_tensor)\n",
    "# It is a regression, so it computes mean squared error (MSE)\n",
    "loss = (error ** 2).mean()\n",
    "\n",
    "# Step 3 - Computes gradients for both \"b\" and \"w\" parameters\n",
    "# No more manual computation of gradients! \n",
    "# b_grad = 2 * error.mean()\n",
    "# w_grad = 2 * (x_tensor * error).mean()\n",
    "loss.backward()"
   ]
  },
  {
   "cell_type": "code",
   "execution_count": 51,
   "metadata": {
    "execution": {
     "iopub.execute_input": "2025-09-10T09:42:01.468306Z",
     "iopub.status.busy": "2025-09-10T09:42:01.468036Z",
     "iopub.status.idle": "2025-09-10T09:42:01.472728Z",
     "shell.execute_reply": "2025-09-10T09:42:01.471959Z",
     "shell.execute_reply.started": "2025-09-10T09:42:01.468287Z"
    },
    "trusted": true
   },
   "outputs": [
    {
     "name": "stdout",
     "output_type": "stream",
     "text": [
      "True True True True\n",
      "False False\n"
     ]
    }
   ],
   "source": [
    "print(error.requires_grad, yhat.requires_grad, \\\n",
    "      b.requires_grad, w.requires_grad)\n",
    "print(y_train_tensor.requires_grad, x_train_tensor.requires_grad)"
   ]
  },
  {
   "cell_type": "markdown",
   "metadata": {},
   "source": [
    "## 1.5.2 grad"
   ]
  },
  {
   "cell_type": "code",
   "execution_count": 57,
   "metadata": {
    "execution": {
     "iopub.execute_input": "2025-09-10T09:45:06.769551Z",
     "iopub.status.busy": "2025-09-10T09:45:06.768993Z",
     "iopub.status.idle": "2025-09-10T09:45:06.775343Z",
     "shell.execute_reply": "2025-09-10T09:45:06.774793Z",
     "shell.execute_reply.started": "2025-09-10T09:45:06.769529Z"
    },
    "trusted": true
   },
   "outputs": [
    {
     "name": "stdout",
     "output_type": "stream",
     "text": [
      "tensor([-6.7762], device='cuda:0') tensor([-3.8878], device='cuda:0')\n"
     ]
    }
   ],
   "source": [
    "print(b.grad, w.grad)"
   ]
  },
  {
   "cell_type": "code",
   "execution_count": 58,
   "metadata": {
    "execution": {
     "iopub.execute_input": "2025-09-10T09:45:49.078689Z",
     "iopub.status.busy": "2025-09-10T09:45:49.078031Z",
     "iopub.status.idle": "2025-09-10T09:45:49.081721Z",
     "shell.execute_reply": "2025-09-10T09:45:49.081019Z",
     "shell.execute_reply.started": "2025-09-10T09:45:49.078666Z"
    },
    "trusted": true
   },
   "outputs": [],
   "source": [
    "# Just run the two cells above one more time to observe gradient accumulation"
   ]
  },
  {
   "cell_type": "markdown",
   "metadata": {},
   "source": [
    "## 1.5.3 zero_"
   ]
  },
  {
   "cell_type": "markdown",
   "metadata": {},
   "source": [
    "手动清空累积的梯度："
   ]
  },
  {
   "cell_type": "code",
   "execution_count": null,
   "metadata": {
    "execution": {
     "iopub.status.busy": "2025-09-10T08:51:59.535065Z",
     "iopub.status.idle": "2025-09-10T08:51:59.535384Z",
     "shell.execute_reply": "2025-09-10T08:51:59.535232Z",
     "shell.execute_reply.started": "2025-09-10T08:51:59.535218Z"
    },
    "trusted": true
   },
   "outputs": [],
   "source": [
    "# This code will be placed *after* Step 4\n",
    "# (updating the parameters)\n",
    "b.grad.zero_(), w.grad.zero_()"
   ]
  },
  {
   "cell_type": "markdown",
   "metadata": {},
   "source": [
    "## 1.5.4 Updating Parameters"
   ]
  },
  {
   "cell_type": "code",
   "execution_count": 70,
   "metadata": {
    "execution": {
     "iopub.execute_input": "2025-09-10T10:01:43.907331Z",
     "iopub.status.busy": "2025-09-10T10:01:43.907054Z",
     "iopub.status.idle": "2025-09-10T10:01:44.366292Z",
     "shell.execute_reply": "2025-09-10T10:01:44.365557Z",
     "shell.execute_reply.started": "2025-09-10T10:01:43.907304Z"
    },
    "trusted": true
   },
   "outputs": [
    {
     "name": "stdout",
     "output_type": "stream",
     "text": [
      "tensor([1.0235], device='cuda:0', requires_grad=True) tensor([1.9690], device='cuda:0', requires_grad=True)\n"
     ]
    }
   ],
   "source": [
    "# Sets learning rate - this is \"eta\" ~ the \"n\"-like Greek letter\n",
    "lr = 0.1\n",
    "\n",
    "# Step 0 - Initializes parameters \"b\" and \"w\" randomly\n",
    "torch.manual_seed(42)\n",
    "b = torch.randn(1, requires_grad=True, \\\n",
    "                dtype=torch.float, device=device)\n",
    "w = torch.randn(1, requires_grad=True, \\\n",
    "                dtype=torch.float, device=device)\n",
    "\n",
    "# Defines number of epochs\n",
    "n_epochs = 1000\n",
    "\n",
    "for epoch in range(n_epochs):\n",
    "    # Step 1 - Computes model's predicted output - forward pass\n",
    "    yhat = b + w * x_train_tensor\n",
    "    \n",
    "    # Step 2 - Computes the loss\n",
    "    # We are using ALL data points, so this is BATCH gradient\n",
    "    # descent. How wrong is our model? That's the error!\n",
    "    error = (yhat - y_train_tensor)\n",
    "    # It is a regression, so it computes mean squared error (MSE)\n",
    "    loss = (error ** 2).mean()\n",
    "\n",
    "    # Step 3 - Computes gradients for both \"b\" and \"w\" parameters\n",
    "    # No more manual computation of gradients! \n",
    "    # b_grad = 2 * error.mean()\n",
    "    # w_grad = 2 * (x_tensor * error).mean()   \n",
    "    # We just tell PyTorch to work its way BACKWARDS \n",
    "    # from the specified loss!\n",
    "    loss.backward()\n",
    "    \n",
    "    # Step 4 - Updates parameters using gradients and \n",
    "    # the learning rate. But not so fast...\n",
    "    # FIRST ATTEMPT - just using the same code as before\n",
    "    # AttributeError: 'NoneType' object has no attribute 'zero_'\n",
    "    # try:\n",
    "    #     b = b - lr * b.grad\n",
    "    #     w = w - lr * w.grad\n",
    "    #     print(b)\n",
    "    #     b.grad.zero_()\n",
    "    #     w.grad.zero_()\n",
    "    # except AttributeError as e:\n",
    "    #     err_msg = \"'NoneType' object has no attribute 'zero_'\"\n",
    "    #     assert str(e) == err_msg\n",
    "\n",
    "    # SECOND ATTEMPT - using in-place Python assigment\n",
    "    # RuntimeError: a leaf Variable that requires grad\n",
    "    # has been used in an in-place operation.\n",
    "    # try:\n",
    "    #     b -= lr * b.grad\n",
    "    #     w -= lr * w.grad        \n",
    "    # except RuntimeError as e:\n",
    "    #     err_msg = \"a leaf Variable that requires grad is being used in an in-place operation.\"\n",
    "    #     assert str(e) == err_msg\n",
    "    #     print(f\"b: {b}\")\n",
    "    #     print(f\"w: {w}\")\n",
    "    #     break\n",
    "    \n",
    "    # THIRD ATTEMPT - NO_GRAD for the win!\n",
    "    # We need to use NO_GRAD to keep the update out of\n",
    "    # the gradient computation. Why is that? It boils \n",
    "    # down to the DYNAMIC GRAPH that PyTorch uses...\n",
    "    with torch.no_grad():\n",
    "        b -= lr * b.grad\n",
    "        w -= lr * w.grad\n",
    "    \n",
    "    # PyTorch is \"clingy\" to its computed gradients, we\n",
    "    # need to tell it to let it go...\n",
    "    b.grad.zero_()\n",
    "    w.grad.zero_()\n",
    "    \n",
    "print(b, w)"
   ]
  },
  {
   "cell_type": "markdown",
   "metadata": {},
   "source": [
    "## 1.5.5 no_grad"
   ]
  },
  {
   "cell_type": "code",
   "execution_count": 71,
   "metadata": {
    "execution": {
     "iopub.execute_input": "2025-09-10T10:01:55.748304Z",
     "iopub.status.busy": "2025-09-10T10:01:55.747797Z",
     "iopub.status.idle": "2025-09-10T10:01:55.751544Z",
     "shell.execute_reply": "2025-09-10T10:01:55.750980Z",
     "shell.execute_reply.started": "2025-09-10T10:01:55.748280Z"
    },
    "trusted": true
   },
   "outputs": [],
   "source": [
    "# This is what we used in the THIRD ATTEMPT..."
   ]
  },
  {
   "cell_type": "markdown",
   "metadata": {},
   "source": [
    "# 1.6 Dynamic Computation Graph"
   ]
  },
  {
   "cell_type": "code",
   "execution_count": 72,
   "metadata": {
    "execution": {
     "iopub.execute_input": "2025-09-10T10:03:22.043555Z",
     "iopub.status.busy": "2025-09-10T10:03:22.043243Z",
     "iopub.status.idle": "2025-09-10T10:03:22.112726Z",
     "shell.execute_reply": "2025-09-10T10:03:22.112142Z",
     "shell.execute_reply.started": "2025-09-10T10:03:22.043507Z"
    },
    "trusted": true
   },
   "outputs": [
    {
     "data": {
      "image/svg+xml": [
       "<?xml version=\"1.0\" encoding=\"UTF-8\" standalone=\"no\"?>\n",
       "<!DOCTYPE svg PUBLIC \"-//W3C//DTD SVG 1.1//EN\"\n",
       " \"http://www.w3.org/Graphics/SVG/1.1/DTD/svg11.dtd\">\n",
       "<!-- Generated by graphviz version 2.43.0 (0)\n",
       " -->\n",
       "<!-- Title: %3 Pages: 1 -->\n",
       "<svg width=\"222pt\" height=\"283pt\"\n",
       " viewBox=\"0.00 0.00 222.00 283.00\" xmlns=\"http://www.w3.org/2000/svg\" xmlns:xlink=\"http://www.w3.org/1999/xlink\">\n",
       "<g id=\"graph0\" class=\"graph\" transform=\"scale(1 1) rotate(0) translate(4 279)\">\n",
       "<title>%3</title>\n",
       "<polygon fill=\"white\" stroke=\"transparent\" points=\"-4,4 -4,-279 218,-279 218,4 -4,4\"/>\n",
       "<!-- 132264323721328 -->\n",
       "<g id=\"node1\" class=\"node\">\n",
       "<title>132264323721328</title>\n",
       "<polygon fill=\"#caff70\" stroke=\"black\" points=\"139,-31 74,-31 74,0 139,0 139,-31\"/>\n",
       "<text text-anchor=\"middle\" x=\"106.5\" y=\"-7\" font-family=\"monospace\" font-size=\"10.00\"> (80, 1)</text>\n",
       "</g>\n",
       "<!-- 132264331343808 -->\n",
       "<g id=\"node2\" class=\"node\">\n",
       "<title>132264331343808</title>\n",
       "<polygon fill=\"lightgrey\" stroke=\"black\" points=\"151,-86 62,-86 62,-67 151,-67 151,-86\"/>\n",
       "<text text-anchor=\"middle\" x=\"106.5\" y=\"-74\" font-family=\"monospace\" font-size=\"10.00\">AddBackward0</text>\n",
       "</g>\n",
       "<!-- 132264331343808&#45;&gt;132264323721328 -->\n",
       "<g id=\"edge6\" class=\"edge\">\n",
       "<title>132264331343808&#45;&gt;132264323721328</title>\n",
       "<path fill=\"none\" stroke=\"black\" d=\"M106.5,-66.79C106.5,-60.07 106.5,-50.4 106.5,-41.34\"/>\n",
       "<polygon fill=\"black\" stroke=\"black\" points=\"110,-41.19 106.5,-31.19 103,-41.19 110,-41.19\"/>\n",
       "</g>\n",
       "<!-- 132264331345872 -->\n",
       "<g id=\"node3\" class=\"node\">\n",
       "<title>132264331345872</title>\n",
       "<polygon fill=\"lightgrey\" stroke=\"black\" points=\"101,-141 0,-141 0,-122 101,-122 101,-141\"/>\n",
       "<text text-anchor=\"middle\" x=\"50.5\" y=\"-129\" font-family=\"monospace\" font-size=\"10.00\">AccumulateGrad</text>\n",
       "</g>\n",
       "<!-- 132264331345872&#45;&gt;132264331343808 -->\n",
       "<g id=\"edge1\" class=\"edge\">\n",
       "<title>132264331345872&#45;&gt;132264331343808</title>\n",
       "<path fill=\"none\" stroke=\"black\" d=\"M59.5,-121.98C67.69,-114.23 80.01,-102.58 89.97,-93.14\"/>\n",
       "<polygon fill=\"black\" stroke=\"black\" points=\"92.48,-95.59 97.34,-86.17 87.67,-90.5 92.48,-95.59\"/>\n",
       "</g>\n",
       "<!-- 132264323718160 -->\n",
       "<g id=\"node4\" class=\"node\">\n",
       "<title>132264323718160</title>\n",
       "<polygon fill=\"lightblue\" stroke=\"black\" points=\"77.5,-208 23.5,-208 23.5,-177 77.5,-177 77.5,-208\"/>\n",
       "<text text-anchor=\"middle\" x=\"50.5\" y=\"-184\" font-family=\"monospace\" font-size=\"10.00\"> (1)</text>\n",
       "</g>\n",
       "<!-- 132264323718160&#45;&gt;132264331345872 -->\n",
       "<g id=\"edge2\" class=\"edge\">\n",
       "<title>132264323718160&#45;&gt;132264331345872</title>\n",
       "<path fill=\"none\" stroke=\"black\" d=\"M50.5,-176.92C50.5,-169.22 50.5,-159.69 50.5,-151.43\"/>\n",
       "<polygon fill=\"black\" stroke=\"black\" points=\"54,-151.25 50.5,-141.25 47,-151.25 54,-151.25\"/>\n",
       "</g>\n",
       "<!-- 132264331334928 -->\n",
       "<g id=\"node5\" class=\"node\">\n",
       "<title>132264331334928</title>\n",
       "<polygon fill=\"lightgrey\" stroke=\"black\" points=\"208,-141 119,-141 119,-122 208,-122 208,-141\"/>\n",
       "<text text-anchor=\"middle\" x=\"163.5\" y=\"-129\" font-family=\"monospace\" font-size=\"10.00\">MulBackward0</text>\n",
       "</g>\n",
       "<!-- 132264331334928&#45;&gt;132264331343808 -->\n",
       "<g id=\"edge3\" class=\"edge\">\n",
       "<title>132264331334928&#45;&gt;132264331343808</title>\n",
       "<path fill=\"none\" stroke=\"black\" d=\"M154.34,-121.98C146,-114.23 133.47,-102.58 123.32,-93.14\"/>\n",
       "<polygon fill=\"black\" stroke=\"black\" points=\"125.53,-90.42 115.82,-86.17 120.76,-95.54 125.53,-90.42\"/>\n",
       "</g>\n",
       "<!-- 132264331345824 -->\n",
       "<g id=\"node6\" class=\"node\">\n",
       "<title>132264331345824</title>\n",
       "<polygon fill=\"lightgrey\" stroke=\"black\" points=\"214,-202 113,-202 113,-183 214,-183 214,-202\"/>\n",
       "<text text-anchor=\"middle\" x=\"163.5\" y=\"-190\" font-family=\"monospace\" font-size=\"10.00\">AccumulateGrad</text>\n",
       "</g>\n",
       "<!-- 132264331345824&#45;&gt;132264331334928 -->\n",
       "<g id=\"edge4\" class=\"edge\">\n",
       "<title>132264331345824&#45;&gt;132264331334928</title>\n",
       "<path fill=\"none\" stroke=\"black\" d=\"M163.5,-182.79C163.5,-174.6 163.5,-162.06 163.5,-151.55\"/>\n",
       "<polygon fill=\"black\" stroke=\"black\" points=\"167,-151.24 163.5,-141.24 160,-151.24 167,-151.24\"/>\n",
       "</g>\n",
       "<!-- 132264323717104 -->\n",
       "<g id=\"node7\" class=\"node\">\n",
       "<title>132264323717104</title>\n",
       "<polygon fill=\"lightblue\" stroke=\"black\" points=\"190.5,-275 136.5,-275 136.5,-244 190.5,-244 190.5,-275\"/>\n",
       "<text text-anchor=\"middle\" x=\"163.5\" y=\"-251\" font-family=\"monospace\" font-size=\"10.00\"> (1)</text>\n",
       "</g>\n",
       "<!-- 132264323717104&#45;&gt;132264331345824 -->\n",
       "<g id=\"edge5\" class=\"edge\">\n",
       "<title>132264323717104&#45;&gt;132264331345824</title>\n",
       "<path fill=\"none\" stroke=\"black\" d=\"M163.5,-243.75C163.5,-234.39 163.5,-222.19 163.5,-212.16\"/>\n",
       "<polygon fill=\"black\" stroke=\"black\" points=\"167,-212.02 163.5,-202.02 160,-212.02 167,-212.02\"/>\n",
       "</g>\n",
       "</g>\n",
       "</svg>\n"
      ],
      "text/plain": [
       "<graphviz.graphs.Digraph at 0x784b306de0d0>"
      ]
     },
     "execution_count": 72,
     "metadata": {},
     "output_type": "execute_result"
    }
   ],
   "source": [
    "# Step 0 - Initializes parameters \"b\" and \"w\" randomly\n",
    "torch.manual_seed(42)\n",
    "b = torch.randn(1, requires_grad=True, \\\n",
    "                dtype=torch.float, device=device)\n",
    "w = torch.randn(1, requires_grad=True, \\\n",
    "                dtype=torch.float, device=device)\n",
    "\n",
    "# Step 1 - Computes our model's predicted output - forward pass\n",
    "yhat = b + w * x_train_tensor\n",
    "\n",
    "# Step 2 - Computes the loss\n",
    "# We are using ALL data points, so this is BATCH gradient\n",
    "# descent. How wrong is our model? That's the error! \n",
    "error = (yhat - y_train_tensor)\n",
    "# It is a regression, so it computes mean squared error (MSE)\n",
    "loss = (error ** 2).mean()\n",
    "\n",
    "# We can try plotting the graph for any python variable: \n",
    "# yhat, error, loss...\n",
    "make_dot(yhat)"
   ]
  },
  {
   "cell_type": "code",
   "execution_count": 73,
   "metadata": {
    "execution": {
     "iopub.execute_input": "2025-09-10T10:05:05.001991Z",
     "iopub.status.busy": "2025-09-10T10:05:05.001398Z",
     "iopub.status.idle": "2025-09-10T10:05:05.026267Z",
     "shell.execute_reply": "2025-09-10T10:05:05.025749Z",
     "shell.execute_reply.started": "2025-09-10T10:05:05.001968Z"
    },
    "trusted": true
   },
   "outputs": [
    {
     "data": {
      "image/svg+xml": [
       "<?xml version=\"1.0\" encoding=\"UTF-8\" standalone=\"no\"?>\n",
       "<!DOCTYPE svg PUBLIC \"-//W3C//DTD SVG 1.1//EN\"\n",
       " \"http://www.w3.org/Graphics/SVG/1.1/DTD/svg11.dtd\">\n",
       "<!-- Generated by graphviz version 2.43.0 (0)\n",
       " -->\n",
       "<!-- Title: %3 Pages: 1 -->\n",
       "<svg width=\"109pt\" height=\"271pt\"\n",
       " viewBox=\"0.00 0.00 109.00 271.00\" xmlns=\"http://www.w3.org/2000/svg\" xmlns:xlink=\"http://www.w3.org/1999/xlink\">\n",
       "<g id=\"graph0\" class=\"graph\" transform=\"scale(1 1) rotate(0) translate(4 267)\">\n",
       "<title>%3</title>\n",
       "<polygon fill=\"white\" stroke=\"transparent\" points=\"-4,4 -4,-267 105,-267 105,4 -4,4\"/>\n",
       "<!-- 132264323871568 -->\n",
       "<g id=\"node1\" class=\"node\">\n",
       "<title>132264323871568</title>\n",
       "<polygon fill=\"#caff70\" stroke=\"black\" points=\"83,-31 18,-31 18,0 83,0 83,-31\"/>\n",
       "<text text-anchor=\"middle\" x=\"50.5\" y=\"-7\" font-family=\"monospace\" font-size=\"10.00\"> (80, 1)</text>\n",
       "</g>\n",
       "<!-- 132264331337904 -->\n",
       "<g id=\"node2\" class=\"node\">\n",
       "<title>132264331337904</title>\n",
       "<polygon fill=\"lightgrey\" stroke=\"black\" points=\"95,-86 6,-86 6,-67 95,-67 95,-86\"/>\n",
       "<text text-anchor=\"middle\" x=\"50.5\" y=\"-74\" font-family=\"monospace\" font-size=\"10.00\">AddBackward0</text>\n",
       "</g>\n",
       "<!-- 132264331337904&#45;&gt;132264323871568 -->\n",
       "<g id=\"edge4\" class=\"edge\">\n",
       "<title>132264331337904&#45;&gt;132264323871568</title>\n",
       "<path fill=\"none\" stroke=\"black\" d=\"M50.5,-66.79C50.5,-60.07 50.5,-50.4 50.5,-41.34\"/>\n",
       "<polygon fill=\"black\" stroke=\"black\" points=\"54,-41.19 50.5,-31.19 47,-41.19 54,-41.19\"/>\n",
       "</g>\n",
       "<!-- 132264331333680 -->\n",
       "<g id=\"node3\" class=\"node\">\n",
       "<title>132264331333680</title>\n",
       "<polygon fill=\"lightgrey\" stroke=\"black\" points=\"95,-141 6,-141 6,-122 95,-122 95,-141\"/>\n",
       "<text text-anchor=\"middle\" x=\"50.5\" y=\"-129\" font-family=\"monospace\" font-size=\"10.00\">MulBackward0</text>\n",
       "</g>\n",
       "<!-- 132264331333680&#45;&gt;132264331337904 -->\n",
       "<g id=\"edge1\" class=\"edge\">\n",
       "<title>132264331333680&#45;&gt;132264331337904</title>\n",
       "<path fill=\"none\" stroke=\"black\" d=\"M50.5,-121.75C50.5,-114.8 50.5,-104.85 50.5,-96.13\"/>\n",
       "<polygon fill=\"black\" stroke=\"black\" points=\"54,-96.09 50.5,-86.09 47,-96.09 54,-96.09\"/>\n",
       "</g>\n",
       "<!-- 132264331344240 -->\n",
       "<g id=\"node4\" class=\"node\">\n",
       "<title>132264331344240</title>\n",
       "<polygon fill=\"lightgrey\" stroke=\"black\" points=\"101,-196 0,-196 0,-177 101,-177 101,-196\"/>\n",
       "<text text-anchor=\"middle\" x=\"50.5\" y=\"-184\" font-family=\"monospace\" font-size=\"10.00\">AccumulateGrad</text>\n",
       "</g>\n",
       "<!-- 132264331344240&#45;&gt;132264331333680 -->\n",
       "<g id=\"edge2\" class=\"edge\">\n",
       "<title>132264331344240&#45;&gt;132264331333680</title>\n",
       "<path fill=\"none\" stroke=\"black\" d=\"M50.5,-176.75C50.5,-169.8 50.5,-159.85 50.5,-151.13\"/>\n",
       "<polygon fill=\"black\" stroke=\"black\" points=\"54,-151.09 50.5,-141.09 47,-151.09 54,-151.09\"/>\n",
       "</g>\n",
       "<!-- 132264323586800 -->\n",
       "<g id=\"node5\" class=\"node\">\n",
       "<title>132264323586800</title>\n",
       "<polygon fill=\"lightblue\" stroke=\"black\" points=\"77.5,-263 23.5,-263 23.5,-232 77.5,-232 77.5,-263\"/>\n",
       "<text text-anchor=\"middle\" x=\"50.5\" y=\"-239\" font-family=\"monospace\" font-size=\"10.00\"> (1)</text>\n",
       "</g>\n",
       "<!-- 132264323586800&#45;&gt;132264331344240 -->\n",
       "<g id=\"edge3\" class=\"edge\">\n",
       "<title>132264323586800&#45;&gt;132264331344240</title>\n",
       "<path fill=\"none\" stroke=\"black\" d=\"M50.5,-231.92C50.5,-224.22 50.5,-214.69 50.5,-206.43\"/>\n",
       "<polygon fill=\"black\" stroke=\"black\" points=\"54,-206.25 50.5,-196.25 47,-206.25 54,-206.25\"/>\n",
       "</g>\n",
       "</g>\n",
       "</svg>\n"
      ],
      "text/plain": [
       "<graphviz.graphs.Digraph at 0x784b306c9d50>"
      ]
     },
     "execution_count": 73,
     "metadata": {},
     "output_type": "execute_result"
    }
   ],
   "source": [
    "b_nograd = torch.randn(1, requires_grad=False, \\\n",
    "                       dtype=torch.float, device=device)\n",
    "w = torch.randn(1, requires_grad=True, \\\n",
    "                dtype=torch.float, device=device)\n",
    "\n",
    "yhat = b_nograd + w * x_train_tensor\n",
    "\n",
    "make_dot(yhat)"
   ]
  },
  {
   "cell_type": "code",
   "execution_count": 74,
   "metadata": {
    "execution": {
     "iopub.execute_input": "2025-09-10T10:05:29.428462Z",
     "iopub.status.busy": "2025-09-10T10:05:29.427960Z",
     "iopub.status.idle": "2025-09-10T10:05:29.454953Z",
     "shell.execute_reply": "2025-09-10T10:05:29.454191Z",
     "shell.execute_reply.started": "2025-09-10T10:05:29.428441Z"
    },
    "trusted": true
   },
   "outputs": [
    {
     "data": {
      "image/svg+xml": [
       "<?xml version=\"1.0\" encoding=\"UTF-8\" standalone=\"no\"?>\n",
       "<!DOCTYPE svg PUBLIC \"-//W3C//DTD SVG 1.1//EN\"\n",
       " \"http://www.w3.org/Graphics/SVG/1.1/DTD/svg11.dtd\">\n",
       "<!-- Generated by graphviz version 2.43.0 (0)\n",
       " -->\n",
       "<!-- Title: %3 Pages: 1 -->\n",
       "<svg width=\"326pt\" height=\"503pt\"\n",
       " viewBox=\"0.00 0.00 326.00 503.00\" xmlns=\"http://www.w3.org/2000/svg\" xmlns:xlink=\"http://www.w3.org/1999/xlink\">\n",
       "<g id=\"graph0\" class=\"graph\" transform=\"scale(1 1) rotate(0) translate(4 499)\">\n",
       "<title>%3</title>\n",
       "<polygon fill=\"white\" stroke=\"transparent\" points=\"-4,4 -4,-499 322,-499 322,4 -4,4\"/>\n",
       "<!-- 132264323871760 -->\n",
       "<g id=\"node1\" class=\"node\">\n",
       "<title>132264323871760</title>\n",
       "<polygon fill=\"#caff70\" stroke=\"black\" points=\"242.5,-31 188.5,-31 188.5,0 242.5,0 242.5,-31\"/>\n",
       "<text text-anchor=\"middle\" x=\"215.5\" y=\"-7\" font-family=\"monospace\" font-size=\"10.00\"> ()</text>\n",
       "</g>\n",
       "<!-- 132264331338912 -->\n",
       "<g id=\"node2\" class=\"node\">\n",
       "<title>132264331338912</title>\n",
       "<polygon fill=\"lightgrey\" stroke=\"black\" points=\"260,-86 171,-86 171,-67 260,-67 260,-86\"/>\n",
       "<text text-anchor=\"middle\" x=\"215.5\" y=\"-74\" font-family=\"monospace\" font-size=\"10.00\">AddBackward0</text>\n",
       "</g>\n",
       "<!-- 132264331338912&#45;&gt;132264323871760 -->\n",
       "<g id=\"edge14\" class=\"edge\">\n",
       "<title>132264331338912&#45;&gt;132264323871760</title>\n",
       "<path fill=\"none\" stroke=\"black\" d=\"M215.5,-66.79C215.5,-60.07 215.5,-50.4 215.5,-41.34\"/>\n",
       "<polygon fill=\"black\" stroke=\"black\" points=\"219,-41.19 215.5,-31.19 212,-41.19 219,-41.19\"/>\n",
       "</g>\n",
       "<!-- 132264331331616 -->\n",
       "<g id=\"node3\" class=\"node\">\n",
       "<title>132264331331616</title>\n",
       "<polygon fill=\"lightgrey\" stroke=\"black\" points=\"225,-141 130,-141 130,-122 225,-122 225,-141\"/>\n",
       "<text text-anchor=\"middle\" x=\"177.5\" y=\"-129\" font-family=\"monospace\" font-size=\"10.00\">MeanBackward0</text>\n",
       "</g>\n",
       "<!-- 132264331331616&#45;&gt;132264331338912 -->\n",
       "<g id=\"edge1\" class=\"edge\">\n",
       "<title>132264331331616&#45;&gt;132264331338912</title>\n",
       "<path fill=\"none\" stroke=\"black\" d=\"M183.77,-121.75C189.09,-114.34 196.86,-103.5 203.38,-94.41\"/>\n",
       "<polygon fill=\"black\" stroke=\"black\" points=\"206.36,-96.26 209.34,-86.09 200.67,-92.18 206.36,-96.26\"/>\n",
       "</g>\n",
       "<!-- 132264331333152 -->\n",
       "<g id=\"node4\" class=\"node\">\n",
       "<title>132264331333152</title>\n",
       "<polygon fill=\"lightgrey\" stroke=\"black\" points=\"205,-196 116,-196 116,-177 205,-177 205,-196\"/>\n",
       "<text text-anchor=\"middle\" x=\"160.5\" y=\"-184\" font-family=\"monospace\" font-size=\"10.00\">PowBackward0</text>\n",
       "</g>\n",
       "<!-- 132264331333152&#45;&gt;132264331331616 -->\n",
       "<g id=\"edge2\" class=\"edge\">\n",
       "<title>132264331333152&#45;&gt;132264331331616</title>\n",
       "<path fill=\"none\" stroke=\"black\" d=\"M163.31,-176.75C165.56,-169.72 168.8,-159.62 171.62,-150.84\"/>\n",
       "<polygon fill=\"black\" stroke=\"black\" points=\"175.02,-151.68 174.75,-141.09 168.36,-149.54 175.02,-151.68\"/>\n",
       "</g>\n",
       "<!-- 132264331335552 -->\n",
       "<g id=\"node5\" class=\"node\">\n",
       "<title>132264331335552</title>\n",
       "<polygon fill=\"lightgrey\" stroke=\"black\" points=\"205,-251 116,-251 116,-232 205,-232 205,-251\"/>\n",
       "<text text-anchor=\"middle\" x=\"160.5\" y=\"-239\" font-family=\"monospace\" font-size=\"10.00\">SubBackward0</text>\n",
       "</g>\n",
       "<!-- 132264331335552&#45;&gt;132264331333152 -->\n",
       "<g id=\"edge3\" class=\"edge\">\n",
       "<title>132264331335552&#45;&gt;132264331333152</title>\n",
       "<path fill=\"none\" stroke=\"black\" d=\"M160.5,-231.75C160.5,-224.8 160.5,-214.85 160.5,-206.13\"/>\n",
       "<polygon fill=\"black\" stroke=\"black\" points=\"164,-206.09 160.5,-196.09 157,-206.09 164,-206.09\"/>\n",
       "</g>\n",
       "<!-- 132264331331856 -->\n",
       "<g id=\"node6\" class=\"node\">\n",
       "<title>132264331331856</title>\n",
       "<polygon fill=\"lightgrey\" stroke=\"black\" points=\"205,-306 116,-306 116,-287 205,-287 205,-306\"/>\n",
       "<text text-anchor=\"middle\" x=\"160.5\" y=\"-294\" font-family=\"monospace\" font-size=\"10.00\">AddBackward0</text>\n",
       "</g>\n",
       "<!-- 132264331331856&#45;&gt;132264331335552 -->\n",
       "<g id=\"edge4\" class=\"edge\">\n",
       "<title>132264331331856&#45;&gt;132264331335552</title>\n",
       "<path fill=\"none\" stroke=\"black\" d=\"M160.5,-286.75C160.5,-279.8 160.5,-269.85 160.5,-261.13\"/>\n",
       "<polygon fill=\"black\" stroke=\"black\" points=\"164,-261.09 160.5,-251.09 157,-261.09 164,-261.09\"/>\n",
       "</g>\n",
       "<!-- 132264331332864 -->\n",
       "<g id=\"node7\" class=\"node\">\n",
       "<title>132264331332864</title>\n",
       "<polygon fill=\"lightgrey\" stroke=\"black\" points=\"101,-361 0,-361 0,-342 101,-342 101,-361\"/>\n",
       "<text text-anchor=\"middle\" x=\"50.5\" y=\"-349\" font-family=\"monospace\" font-size=\"10.00\">AccumulateGrad</text>\n",
       "</g>\n",
       "<!-- 132264331332864&#45;&gt;132264331331856 -->\n",
       "<g id=\"edge5\" class=\"edge\">\n",
       "<title>132264331332864&#45;&gt;132264331331856</title>\n",
       "<path fill=\"none\" stroke=\"black\" d=\"M68.17,-341.98C85.79,-333.5 113.08,-320.35 133.43,-310.54\"/>\n",
       "<polygon fill=\"black\" stroke=\"black\" points=\"135.02,-313.66 142.51,-306.17 131.98,-307.36 135.02,-313.66\"/>\n",
       "</g>\n",
       "<!-- 132264323870608 -->\n",
       "<g id=\"node8\" class=\"node\">\n",
       "<title>132264323870608</title>\n",
       "<polygon fill=\"lightblue\" stroke=\"black\" points=\"77.5,-428 23.5,-428 23.5,-397 77.5,-397 77.5,-428\"/>\n",
       "<text text-anchor=\"middle\" x=\"50.5\" y=\"-404\" font-family=\"monospace\" font-size=\"10.00\"> (1)</text>\n",
       "</g>\n",
       "<!-- 132264323870608&#45;&gt;132264331332864 -->\n",
       "<g id=\"edge6\" class=\"edge\">\n",
       "<title>132264323870608&#45;&gt;132264331332864</title>\n",
       "<path fill=\"none\" stroke=\"black\" d=\"M50.5,-396.92C50.5,-389.22 50.5,-379.69 50.5,-371.43\"/>\n",
       "<polygon fill=\"black\" stroke=\"black\" points=\"54,-371.25 50.5,-361.25 47,-371.25 54,-371.25\"/>\n",
       "</g>\n",
       "<!-- 132264331343424 -->\n",
       "<g id=\"node9\" class=\"node\">\n",
       "<title>132264331343424</title>\n",
       "<polygon fill=\"lightgrey\" stroke=\"black\" points=\"208,-361 119,-361 119,-342 208,-342 208,-361\"/>\n",
       "<text text-anchor=\"middle\" x=\"163.5\" y=\"-349\" font-family=\"monospace\" font-size=\"10.00\">MulBackward0</text>\n",
       "</g>\n",
       "<!-- 132264331343424&#45;&gt;132264331331856 -->\n",
       "<g id=\"edge7\" class=\"edge\">\n",
       "<title>132264331343424&#45;&gt;132264331331856</title>\n",
       "<path fill=\"none\" stroke=\"black\" d=\"M163,-341.75C162.61,-334.8 162.05,-324.85 161.55,-316.13\"/>\n",
       "<polygon fill=\"black\" stroke=\"black\" points=\"165.05,-315.88 160.99,-306.09 158.06,-316.27 165.05,-315.88\"/>\n",
       "</g>\n",
       "<!-- 132264331345296 -->\n",
       "<g id=\"node10\" class=\"node\">\n",
       "<title>132264331345296</title>\n",
       "<polygon fill=\"lightgrey\" stroke=\"black\" points=\"267,-422 166,-422 166,-403 267,-403 267,-422\"/>\n",
       "<text text-anchor=\"middle\" x=\"216.5\" y=\"-410\" font-family=\"monospace\" font-size=\"10.00\">AccumulateGrad</text>\n",
       "</g>\n",
       "<!-- 132264331345296&#45;&gt;132264331343424 -->\n",
       "<g id=\"edge8\" class=\"edge\">\n",
       "<title>132264331345296&#45;&gt;132264331343424</title>\n",
       "<path fill=\"none\" stroke=\"black\" d=\"M208.68,-402.79C200.69,-393.91 188.11,-379.89 178.24,-368.91\"/>\n",
       "<polygon fill=\"black\" stroke=\"black\" points=\"180.64,-366.34 171.35,-361.24 175.43,-371.02 180.64,-366.34\"/>\n",
       "</g>\n",
       "<!-- 132264331336656 -->\n",
       "<g id=\"node14\" class=\"node\">\n",
       "<title>132264331336656</title>\n",
       "<polygon fill=\"lightgrey\" stroke=\"black\" points=\"315,-361 226,-361 226,-342 315,-342 315,-361\"/>\n",
       "<text text-anchor=\"middle\" x=\"270.5\" y=\"-349\" font-family=\"monospace\" font-size=\"10.00\">MulBackward0</text>\n",
       "</g>\n",
       "<!-- 132264331345296&#45;&gt;132264331336656 -->\n",
       "<g id=\"edge13\" class=\"edge\">\n",
       "<title>132264331345296&#45;&gt;132264331336656</title>\n",
       "<path fill=\"none\" stroke=\"black\" d=\"M224.47,-402.79C232.6,-393.91 245.43,-379.89 255.48,-368.91\"/>\n",
       "<polygon fill=\"black\" stroke=\"black\" points=\"258.33,-370.98 262.5,-361.24 253.17,-366.26 258.33,-370.98\"/>\n",
       "</g>\n",
       "<!-- 132264323870800 -->\n",
       "<g id=\"node11\" class=\"node\">\n",
       "<title>132264323870800</title>\n",
       "<polygon fill=\"lightblue\" stroke=\"black\" points=\"243.5,-495 189.5,-495 189.5,-464 243.5,-464 243.5,-495\"/>\n",
       "<text text-anchor=\"middle\" x=\"216.5\" y=\"-471\" font-family=\"monospace\" font-size=\"10.00\"> (1)</text>\n",
       "</g>\n",
       "<!-- 132264323870800&#45;&gt;132264331345296 -->\n",
       "<g id=\"edge9\" class=\"edge\">\n",
       "<title>132264323870800&#45;&gt;132264331345296</title>\n",
       "<path fill=\"none\" stroke=\"black\" d=\"M216.5,-463.75C216.5,-454.39 216.5,-442.19 216.5,-432.16\"/>\n",
       "<polygon fill=\"black\" stroke=\"black\" points=\"220,-432.02 216.5,-422.02 213,-432.02 220,-432.02\"/>\n",
       "</g>\n",
       "<!-- 132264331333200 -->\n",
       "<g id=\"node12\" class=\"node\">\n",
       "<title>132264331333200</title>\n",
       "<polygon fill=\"lightgrey\" stroke=\"black\" points=\"318,-196 223,-196 223,-177 318,-177 318,-196\"/>\n",
       "<text text-anchor=\"middle\" x=\"270.5\" y=\"-184\" font-family=\"monospace\" font-size=\"10.00\">MeanBackward0</text>\n",
       "</g>\n",
       "<!-- 132264331333200&#45;&gt;132264331338912 -->\n",
       "<g id=\"edge10\" class=\"edge\">\n",
       "<title>132264331333200&#45;&gt;132264331338912</title>\n",
       "<path fill=\"none\" stroke=\"black\" d=\"M266,-176.66C256.97,-158.93 236.5,-118.73 224.57,-95.32\"/>\n",
       "<polygon fill=\"black\" stroke=\"black\" points=\"227.57,-93.48 219.91,-86.16 221.33,-96.66 227.57,-93.48\"/>\n",
       "</g>\n",
       "<!-- 132264331344816 -->\n",
       "<g id=\"node13\" class=\"node\">\n",
       "<title>132264331344816</title>\n",
       "<polygon fill=\"lightgrey\" stroke=\"black\" points=\"315,-306 226,-306 226,-287 315,-287 315,-306\"/>\n",
       "<text text-anchor=\"middle\" x=\"270.5\" y=\"-294\" font-family=\"monospace\" font-size=\"10.00\">SubBackward0</text>\n",
       "</g>\n",
       "<!-- 132264331344816&#45;&gt;132264331333200 -->\n",
       "<g id=\"edge11\" class=\"edge\">\n",
       "<title>132264331344816&#45;&gt;132264331333200</title>\n",
       "<path fill=\"none\" stroke=\"black\" d=\"M270.5,-286.66C270.5,-269.17 270.5,-229.8 270.5,-206.27\"/>\n",
       "<polygon fill=\"black\" stroke=\"black\" points=\"274,-206.16 270.5,-196.16 267,-206.16 274,-206.16\"/>\n",
       "</g>\n",
       "<!-- 132264331336656&#45;&gt;132264331344816 -->\n",
       "<g id=\"edge12\" class=\"edge\">\n",
       "<title>132264331336656&#45;&gt;132264331344816</title>\n",
       "<path fill=\"none\" stroke=\"black\" d=\"M270.5,-341.75C270.5,-334.8 270.5,-324.85 270.5,-316.13\"/>\n",
       "<polygon fill=\"black\" stroke=\"black\" points=\"274,-316.09 270.5,-306.09 267,-316.09 274,-316.09\"/>\n",
       "</g>\n",
       "</g>\n",
       "</svg>\n"
      ],
      "text/plain": [
       "<graphviz.graphs.Digraph at 0x784b30005b90>"
      ]
     },
     "execution_count": 74,
     "metadata": {},
     "output_type": "execute_result"
    }
   ],
   "source": [
    "b = torch.randn(1, requires_grad=True, \\\n",
    "                dtype=torch.float, device=device)\n",
    "w = torch.randn(1, requires_grad=True, \\\n",
    "                dtype=torch.float, device=device)\n",
    "\n",
    "yhat = b + w * x_train_tensor\n",
    "error = yhat - y_train_tensor\n",
    "loss = (error ** 2).mean()\n",
    "\n",
    "# this makes no sense!!\n",
    "if loss > 0:\n",
    "    yhat2 = w * x_train_tensor\n",
    "    error2 = yhat2 - y_train_tensor\n",
    "    \n",
    "# neither does this :-)\n",
    "loss += error2.mean()\n",
    "\n",
    "make_dot(loss)"
   ]
  },
  {
   "cell_type": "markdown",
   "metadata": {},
   "source": [
    "# 1.7 Optimizer"
   ]
  },
  {
   "cell_type": "markdown",
   "metadata": {},
   "source": [
    "## 1.7.1 BP / step / zero_grad\n",
    "\n",
    "训练循环中，反向传播和参数更新的正确顺序：\n",
    "1. 反向传播\n",
    "2. 更新参数\n",
    "3. 清空梯度"
   ]
  },
  {
   "cell_type": "code",
   "execution_count": 80,
   "metadata": {
    "execution": {
     "iopub.execute_input": "2025-09-10T10:07:53.172647Z",
     "iopub.status.busy": "2025-09-10T10:07:53.172362Z",
     "iopub.status.idle": "2025-09-10T10:07:53.176256Z",
     "shell.execute_reply": "2025-09-10T10:07:53.175547Z",
     "shell.execute_reply.started": "2025-09-10T10:07:53.172625Z"
    },
    "trusted": true
   },
   "outputs": [],
   "source": [
    "# Defines a SGD optimizer to update the parameters\n",
    "optimizer = optim.SGD(params=[b, w], lr=lr)"
   ]
  },
  {
   "cell_type": "code",
   "execution_count": 93,
   "metadata": {
    "execution": {
     "iopub.execute_input": "2025-09-10T10:13:20.924874Z",
     "iopub.status.busy": "2025-09-10T10:13:20.924588Z",
     "iopub.status.idle": "2025-09-10T10:13:21.494971Z",
     "shell.execute_reply": "2025-09-10T10:13:21.494312Z",
     "shell.execute_reply.started": "2025-09-10T10:13:20.924853Z"
    },
    "trusted": true
   },
   "outputs": [
    {
     "name": "stdout",
     "output_type": "stream",
     "text": [
      "Epoch 998: b.grad: None, w.grad: None\n",
      "Epoch 999: b.grad: tensor([5.4762e-07], device='cuda:0'), w.grad: tensor([-5.7358e-07], device='cuda:0')\n",
      "b: tensor([1.0235], device='cuda:0', requires_grad=True), w: tensor([1.9690], device='cuda:0', requires_grad=True)\n"
     ]
    }
   ],
   "source": [
    "# Sets learning rate - this is \"eta\" ~ the \"n\"-like Greek letter\n",
    "lr = 0.1\n",
    "\n",
    "# Step 0 - Initializes parameters \"b\" and \"w\" randomly\n",
    "torch.manual_seed(42)\n",
    "b = torch.randn(1, requires_grad=True, \\\n",
    "                dtype=torch.float, device=device)\n",
    "w = torch.randn(1, requires_grad=True, \\\n",
    "                dtype=torch.float, device=device)\n",
    "\n",
    "# Defines a SGD optimizer to update the parameters\n",
    "optimizer = optim.SGD([b, w], lr=lr)\n",
    "\n",
    "# Defines number of epochs\n",
    "n_epochs = 1000\n",
    "\n",
    "for epoch in range(n_epochs):\n",
    "    # Step 1 - Computes model's predicted output - forward pass\n",
    "    yhat = b + w * x_train_tensor\n",
    "    \n",
    "    # Step 2 - Computes the loss\n",
    "    # We are using ALL data points, so this is BATCH gradient \n",
    "    # descent. How wrong is our model? That's the error! \n",
    "    error = (yhat - y_train_tensor)\n",
    "    # It is a regression, so it computes mean squared error (MSE)\n",
    "    loss = (error ** 2).mean()\n",
    "\n",
    "    # Step 3 - Computes gradients for both \"b\" and \"w\" parameters\n",
    "    loss.backward()\n",
    "    \n",
    "    # Step 4 - Updates parameters using gradients and \n",
    "    # the learning rate. No more manual update!\n",
    "    # with torch.no_grad():\n",
    "    #     b -= lr * b.grad\n",
    "    #     w -= lr * w.grad\n",
    "    optimizer.step()\n",
    "    \n",
    "    # No more telling Pytorch to let gradients go!\n",
    "    # b.grad.zero_()\n",
    "    # w.grad.zero_()\n",
    "    if epoch != n_epochs - 1:\n",
    "        optimizer.zero_grad()\n",
    "        if epoch == n_epochs - 2:\n",
    "            print(f\"Epoch {epoch}: b.grad: {b.grad}, w.grad: {w.grad}\")\n",
    "            # output: Epoch 998: b.grad: None, w.grad: None\n",
    "    else:\n",
    "        print(f\"Epoch {epoch}: b.grad: {b.grad}, w.grad: {w.grad}\")\n",
    "        # output: Epoch 999: b.grad: tensor([5.4762e-07], device='cuda:0'), w.grad: tensor([-5.7358e-07], device='cuda:0')\n",
    "    \n",
    "print(f\"b: {b}, w: {w}\")"
   ]
  },
  {
   "cell_type": "markdown",
   "metadata": {},
   "source": [
    "# 1.8 Loss"
   ]
  },
  {
   "cell_type": "code",
   "execution_count": 103,
   "metadata": {
    "execution": {
     "iopub.execute_input": "2025-09-10T10:45:41.264899Z",
     "iopub.status.busy": "2025-09-10T10:45:41.264141Z",
     "iopub.status.idle": "2025-09-10T10:45:41.269064Z",
     "shell.execute_reply": "2025-09-10T10:45:41.268555Z",
     "shell.execute_reply.started": "2025-09-10T10:45:41.264873Z"
    },
    "trusted": true
   },
   "outputs": [
    {
     "data": {
      "text/plain": [
       "torch.nn.modules.loss.MSELoss"
      ]
     },
     "execution_count": 103,
     "metadata": {},
     "output_type": "execute_result"
    }
   ],
   "source": [
    "# Defines a MSE loss function\n",
    "loss_fn = nn.MSELoss(reduction='mean')\n",
    "type(loss_fn)\n",
    "\n",
    "# import torch.nn.functional as F\n",
    "# loss_fn = F.mse_loss"
   ]
  },
  {
   "cell_type": "code",
   "execution_count": 104,
   "metadata": {
    "execution": {
     "iopub.execute_input": "2025-09-10T10:45:44.026621Z",
     "iopub.status.busy": "2025-09-10T10:45:44.025912Z",
     "iopub.status.idle": "2025-09-10T10:45:44.036118Z",
     "shell.execute_reply": "2025-09-10T10:45:44.035427Z",
     "shell.execute_reply.started": "2025-09-10T10:45:44.026587Z"
    },
    "trusted": true
   },
   "outputs": [
    {
     "data": {
      "text/plain": [
       "tensor(1.1700)"
      ]
     },
     "execution_count": 104,
     "metadata": {},
     "output_type": "execute_result"
    }
   ],
   "source": [
    "# This is a random example to illustrate the loss function\n",
    "predictions = torch.tensor([0.5, 1.0])\n",
    "labels = torch.tensor([2.0, 1.3])\n",
    "loss_fn(predictions, labels)"
   ]
  },
  {
   "cell_type": "code",
   "execution_count": 105,
   "metadata": {
    "execution": {
     "iopub.execute_input": "2025-09-10T10:46:34.944529Z",
     "iopub.status.busy": "2025-09-10T10:46:34.943959Z",
     "iopub.status.idle": "2025-09-10T10:46:35.491028Z",
     "shell.execute_reply": "2025-09-10T10:46:35.490403Z",
     "shell.execute_reply.started": "2025-09-10T10:46:34.944496Z"
    },
    "trusted": true
   },
   "outputs": [
    {
     "name": "stdout",
     "output_type": "stream",
     "text": [
      "tensor([1.0235], device='cuda:0', requires_grad=True) tensor([1.9690], device='cuda:0', requires_grad=True)\n"
     ]
    }
   ],
   "source": [
    "# Sets learning rate - this is \"eta\" ~ the \"n\"-like\n",
    "# Greek letter\n",
    "lr = 0.1\n",
    "\n",
    "# Step 0 - Initializes parameters \"b\" and \"w\" randomly\n",
    "torch.manual_seed(42)\n",
    "b = torch.randn(1, requires_grad=True, \\\n",
    "                dtype=torch.float, device=device)\n",
    "w = torch.randn(1, requires_grad=True, \\\n",
    "                dtype=torch.float, device=device)\n",
    "\n",
    "# Defines a SGD optimizer to update the parameters\n",
    "optimizer = optim.SGD([b, w], lr=lr)\n",
    "\n",
    "# Defines a MSE loss function\n",
    "loss_fn = nn.MSELoss(reduction='mean')\n",
    "\n",
    "# Defines number of epochs\n",
    "n_epochs = 1000\n",
    "\n",
    "for epoch in range(n_epochs):\n",
    "    # Step 1 - Computes model's predicted output - forward pass\n",
    "    yhat = b + w * x_train_tensor\n",
    "    \n",
    "    # Step 2 - Computes the loss\n",
    "    # No more manual loss!\n",
    "    # error = (yhat - y_train_tensor)\n",
    "    # loss = (error ** 2).mean()\n",
    "    loss = loss_fn(yhat, y_train_tensor)\n",
    "\n",
    "    # Step 3 - Computes gradients for both \"b\" and \"w\" parameters\n",
    "    loss.backward()\n",
    "    \n",
    "    # Step 4 - Updates parameters using gradients and\n",
    "    # the learning rate\n",
    "    optimizer.step()\n",
    "    optimizer.zero_grad()\n",
    "    \n",
    "print(b, w)"
   ]
  },
  {
   "cell_type": "code",
   "execution_count": 106,
   "metadata": {
    "execution": {
     "iopub.execute_input": "2025-09-10T10:46:41.954739Z",
     "iopub.status.busy": "2025-09-10T10:46:41.954140Z",
     "iopub.status.idle": "2025-09-10T10:46:41.959678Z",
     "shell.execute_reply": "2025-09-10T10:46:41.958965Z",
     "shell.execute_reply.started": "2025-09-10T10:46:41.954716Z"
    },
    "trusted": true
   },
   "outputs": [
    {
     "data": {
      "text/plain": [
       "tensor(0.0080, device='cuda:0', grad_fn=<MseLossBackward0>)"
      ]
     },
     "execution_count": 106,
     "metadata": {},
     "output_type": "execute_result"
    }
   ],
   "source": [
    "loss"
   ]
  },
  {
   "cell_type": "code",
   "execution_count": 107,
   "metadata": {
    "execution": {
     "iopub.execute_input": "2025-09-10T10:46:43.693299Z",
     "iopub.status.busy": "2025-09-10T10:46:43.693035Z",
     "iopub.status.idle": "2025-09-10T10:46:43.706002Z",
     "shell.execute_reply": "2025-09-10T10:46:43.705107Z",
     "shell.execute_reply.started": "2025-09-10T10:46:43.693281Z"
    },
    "trusted": true
   },
   "outputs": [
    {
     "ename": "RuntimeError",
     "evalue": "Can't call numpy() on Tensor that requires grad. Use tensor.detach().numpy() instead.",
     "output_type": "error",
     "traceback": [
      "\u001b[0;31m---------------------------------------------------------------------------\u001b[0m",
      "\u001b[0;31mRuntimeError\u001b[0m                              Traceback (most recent call last)",
      "\u001b[0;32m/tmp/ipykernel_36/744731074.py\u001b[0m in \u001b[0;36m<cell line: 0>\u001b[0;34m()\u001b[0m\n\u001b[0;32m----> 1\u001b[0;31m \u001b[0mloss\u001b[0m\u001b[0;34m.\u001b[0m\u001b[0mcpu\u001b[0m\u001b[0;34m(\u001b[0m\u001b[0;34m)\u001b[0m\u001b[0;34m.\u001b[0m\u001b[0mnumpy\u001b[0m\u001b[0;34m(\u001b[0m\u001b[0;34m)\u001b[0m\u001b[0;34m\u001b[0m\u001b[0;34m\u001b[0m\u001b[0m\n\u001b[0m",
      "\u001b[0;31mRuntimeError\u001b[0m: Can't call numpy() on Tensor that requires grad. Use tensor.detach().numpy() instead."
     ]
    }
   ],
   "source": [
    "loss.cpu().numpy()"
   ]
  },
  {
   "cell_type": "code",
   "execution_count": 108,
   "metadata": {
    "execution": {
     "iopub.execute_input": "2025-09-10T10:46:56.104225Z",
     "iopub.status.busy": "2025-09-10T10:46:56.103964Z",
     "iopub.status.idle": "2025-09-10T10:46:56.109914Z",
     "shell.execute_reply": "2025-09-10T10:46:56.109202Z",
     "shell.execute_reply.started": "2025-09-10T10:46:56.104206Z"
    },
    "trusted": true
   },
   "outputs": [
    {
     "data": {
      "text/plain": [
       "array(0.00804466, dtype=float32)"
      ]
     },
     "execution_count": 108,
     "metadata": {},
     "output_type": "execute_result"
    }
   ],
   "source": [
    "loss.detach().cpu().numpy()"
   ]
  },
  {
   "cell_type": "code",
   "execution_count": 109,
   "metadata": {
    "execution": {
     "iopub.execute_input": "2025-09-10T10:46:58.675579Z",
     "iopub.status.busy": "2025-09-10T10:46:58.675182Z",
     "iopub.status.idle": "2025-09-10T10:46:58.679379Z",
     "shell.execute_reply": "2025-09-10T10:46:58.678858Z",
     "shell.execute_reply.started": "2025-09-10T10:46:58.675552Z"
    },
    "trusted": true
   },
   "outputs": [
    {
     "name": "stdout",
     "output_type": "stream",
     "text": [
      "0.008044655434787273 0.008044655434787273\n"
     ]
    }
   ],
   "source": [
    "print(loss.item(), loss.tolist())"
   ]
  },
  {
   "cell_type": "markdown",
   "metadata": {},
   "source": [
    "# 1.9 Model"
   ]
  },
  {
   "cell_type": "markdown",
   "metadata": {},
   "source": [
    "## 1.9.1 Define Model"
   ]
  },
  {
   "cell_type": "code",
   "execution_count": 110,
   "metadata": {
    "execution": {
     "iopub.execute_input": "2025-09-10T10:48:34.695322Z",
     "iopub.status.busy": "2025-09-10T10:48:34.694636Z",
     "iopub.status.idle": "2025-09-10T10:48:34.700035Z",
     "shell.execute_reply": "2025-09-10T10:48:34.699275Z",
     "shell.execute_reply.started": "2025-09-10T10:48:34.695297Z"
    },
    "trusted": true
   },
   "outputs": [],
   "source": [
    "class ManualLinearRegression(nn.Module):\n",
    "    def __init__(self):\n",
    "        super().__init__()\n",
    "        # To make \"b\" and \"w\" real parameters of the model,\n",
    "        # we need to wrap them with nn.Parameter\n",
    "        self.b = nn.Parameter(torch.randn(1,\n",
    "                                          requires_grad=True, \n",
    "                                          dtype=torch.float))\n",
    "        self.w = nn.Parameter(torch.randn(1, \n",
    "                                          requires_grad=True,\n",
    "                                          dtype=torch.float))\n",
    "        \n",
    "    def forward(self, x):\n",
    "        # Computes the outputs / predictions\n",
    "        return self.b + self.w * x"
   ]
  },
  {
   "cell_type": "markdown",
   "metadata": {},
   "source": [
    "## 1.9.2 Parameters"
   ]
  },
  {
   "cell_type": "markdown",
   "metadata": {},
   "source": [
    "使用匿名的方式访问模型的训练参数："
   ]
  },
  {
   "cell_type": "code",
   "execution_count": 111,
   "metadata": {
    "execution": {
     "iopub.execute_input": "2025-09-10T10:48:44.266093Z",
     "iopub.status.busy": "2025-09-10T10:48:44.265833Z",
     "iopub.status.idle": "2025-09-10T10:48:44.272974Z",
     "shell.execute_reply": "2025-09-10T10:48:44.272263Z",
     "shell.execute_reply.started": "2025-09-10T10:48:44.266075Z"
    },
    "trusted": true
   },
   "outputs": [
    {
     "data": {
      "text/plain": [
       "[Parameter containing:\n",
       " tensor([0.3367], requires_grad=True),\n",
       " Parameter containing:\n",
       " tensor([0.1288], requires_grad=True)]"
      ]
     },
     "execution_count": 111,
     "metadata": {},
     "output_type": "execute_result"
    }
   ],
   "source": [
    "torch.manual_seed(42)\n",
    "# Creates a \"dummy\" instance of our ManualLinearRegression model\n",
    "dummy = ManualLinearRegression()\n",
    "list(dummy.parameters())"
   ]
  },
  {
   "cell_type": "markdown",
   "metadata": {},
   "source": [
    "## 1.9.3 state_dict"
   ]
  },
  {
   "cell_type": "markdown",
   "metadata": {},
   "source": [
    "使用带名字的方式访问模型的训练参数："
   ]
  },
  {
   "cell_type": "code",
   "execution_count": 112,
   "metadata": {
    "execution": {
     "iopub.execute_input": "2025-09-10T10:48:49.387778Z",
     "iopub.status.busy": "2025-09-10T10:48:49.387199Z",
     "iopub.status.idle": "2025-09-10T10:48:49.393484Z",
     "shell.execute_reply": "2025-09-10T10:48:49.392859Z",
     "shell.execute_reply.started": "2025-09-10T10:48:49.387753Z"
    },
    "trusted": true
   },
   "outputs": [
    {
     "data": {
      "text/plain": [
       "OrderedDict([('b', tensor([0.3367])), ('w', tensor([0.1288]))])"
      ]
     },
     "execution_count": 112,
     "metadata": {},
     "output_type": "execute_result"
    }
   ],
   "source": [
    "dummy.state_dict()"
   ]
  },
  {
   "cell_type": "markdown",
   "metadata": {},
   "source": [
    "优化企业有自己的`state_dict`："
   ]
  },
  {
   "cell_type": "code",
   "execution_count": 113,
   "metadata": {
    "execution": {
     "iopub.execute_input": "2025-09-10T10:49:42.004777Z",
     "iopub.status.busy": "2025-09-10T10:49:42.004463Z",
     "iopub.status.idle": "2025-09-10T10:49:42.009586Z",
     "shell.execute_reply": "2025-09-10T10:49:42.009011Z",
     "shell.execute_reply.started": "2025-09-10T10:49:42.004754Z"
    },
    "trusted": true
   },
   "outputs": [
    {
     "data": {
      "text/plain": [
       "{'state': {},\n",
       " 'param_groups': [{'lr': 0.1,\n",
       "   'momentum': 0,\n",
       "   'dampening': 0,\n",
       "   'weight_decay': 0,\n",
       "   'nesterov': False,\n",
       "   'maximize': False,\n",
       "   'foreach': None,\n",
       "   'differentiable': False,\n",
       "   'fused': None,\n",
       "   'params': [0, 1]}]}"
      ]
     },
     "execution_count": 113,
     "metadata": {},
     "output_type": "execute_result"
    }
   ],
   "source": [
    "optimizer.state_dict()"
   ]
  },
  {
   "cell_type": "markdown",
   "metadata": {},
   "source": [
    "## 1.9.4 device"
   ]
  },
  {
   "cell_type": "code",
   "execution_count": 116,
   "metadata": {
    "execution": {
     "iopub.execute_input": "2025-09-10T10:52:04.778155Z",
     "iopub.status.busy": "2025-09-10T10:52:04.777584Z",
     "iopub.status.idle": "2025-09-10T10:52:04.783696Z",
     "shell.execute_reply": "2025-09-10T10:52:04.783121Z",
     "shell.execute_reply.started": "2025-09-10T10:52:04.778134Z"
    },
    "trusted": true
   },
   "outputs": [
    {
     "data": {
      "text/plain": [
       "ManualLinearRegression()"
      ]
     },
     "execution_count": 116,
     "metadata": {},
     "output_type": "execute_result"
    }
   ],
   "source": [
    "torch.manual_seed(42)\n",
    "# Creates a \"dummy\" instance of our ManualLinearRegression model\n",
    "# and sends it to the device\n",
    "dummy = ManualLinearRegression().to(device)\n",
    "dummy"
   ]
  },
  {
   "cell_type": "markdown",
   "metadata": {},
   "source": [
    "## 1.9.5 Forward Pass"
   ]
  },
  {
   "cell_type": "code",
   "execution_count": 117,
   "metadata": {
    "execution": {
     "iopub.execute_input": "2025-09-10T10:52:41.570550Z",
     "iopub.status.busy": "2025-09-10T10:52:41.569979Z",
     "iopub.status.idle": "2025-09-10T10:52:42.083924Z",
     "shell.execute_reply": "2025-09-10T10:52:42.083286Z",
     "shell.execute_reply.started": "2025-09-10T10:52:41.570528Z"
    },
    "trusted": true
   },
   "outputs": [
    {
     "name": "stdout",
     "output_type": "stream",
     "text": [
      "OrderedDict([('b', tensor([1.0235], device='cuda:0')), ('w', tensor([1.9690], device='cuda:0'))])\n"
     ]
    }
   ],
   "source": [
    "# Sets learning rate - this is \"eta\" ~ the \"n\"-like\n",
    "# Greek letter\n",
    "lr = 0.1\n",
    "\n",
    "# Step 0 - Initializes parameters \"b\" and \"w\" randomly\n",
    "torch.manual_seed(42)\n",
    "# Now we can create a model and send it at once to the device\n",
    "model = ManualLinearRegression().to(device)\n",
    "\n",
    "# Defines a SGD optimizer to update the parameters \n",
    "# (now retrieved directly from the model)\n",
    "optimizer = optim.SGD(model.parameters(), lr=lr)\n",
    "\n",
    "# Defines a MSE loss function\n",
    "loss_fn = nn.MSELoss(reduction='mean')\n",
    "\n",
    "# Defines number of epochs\n",
    "n_epochs = 1000\n",
    "\n",
    "for epoch in range(n_epochs):\n",
    "    model.train() # What is this?!?\n",
    "\n",
    "    # Step 1 - Computes model's predicted output - forward pass\n",
    "    # No more manual prediction!\n",
    "    yhat = model(x_train_tensor)\n",
    "    \n",
    "    # Step 2 - Computes the loss\n",
    "    loss = loss_fn(yhat, y_train_tensor)\n",
    "\n",
    "    # Step 3 - Computes gradients for both \"b\" and \"w\" parameters\n",
    "    loss.backward()\n",
    "    \n",
    "    # Step 4 - Updates parameters using gradients and\n",
    "    # the learning rate\n",
    "    optimizer.step()\n",
    "    optimizer.zero_grad()\n",
    "    \n",
    "# We can also inspect its parameters using its state_dict\n",
    "print(model.state_dict())"
   ]
  },
  {
   "cell_type": "markdown",
   "metadata": {},
   "source": [
    "## 1.9.6 model.train()"
   ]
  },
  {
   "cell_type": "code",
   "execution_count": 118,
   "metadata": {
    "execution": {
     "iopub.execute_input": "2025-09-10T10:53:26.331027Z",
     "iopub.status.busy": "2025-09-10T10:53:26.330268Z",
     "iopub.status.idle": "2025-09-10T10:53:26.333590Z",
     "shell.execute_reply": "2025-09-10T10:53:26.332998Z",
     "shell.execute_reply.started": "2025-09-10T10:53:26.331002Z"
    },
    "trusted": true
   },
   "outputs": [],
   "source": [
    "## Never forget to include model.train() in your training loop!"
   ]
  },
  {
   "cell_type": "markdown",
   "metadata": {},
   "source": [
    "## 1.9.7 Nested Models"
   ]
  },
  {
   "cell_type": "code",
   "execution_count": 119,
   "metadata": {
    "execution": {
     "iopub.execute_input": "2025-09-10T10:53:53.166566Z",
     "iopub.status.busy": "2025-09-10T10:53:53.165974Z",
     "iopub.status.idle": "2025-09-10T10:53:53.171220Z",
     "shell.execute_reply": "2025-09-10T10:53:53.170708Z",
     "shell.execute_reply.started": "2025-09-10T10:53:53.166545Z"
    },
    "trusted": true
   },
   "outputs": [
    {
     "data": {
      "text/plain": [
       "Linear(in_features=1, out_features=1, bias=True)"
      ]
     },
     "execution_count": 119,
     "metadata": {},
     "output_type": "execute_result"
    }
   ],
   "source": [
    "linear = nn.Linear(1, 1)\n",
    "linear"
   ]
  },
  {
   "cell_type": "code",
   "execution_count": 120,
   "metadata": {
    "execution": {
     "iopub.execute_input": "2025-09-10T10:54:00.985692Z",
     "iopub.status.busy": "2025-09-10T10:54:00.985303Z",
     "iopub.status.idle": "2025-09-10T10:54:00.991221Z",
     "shell.execute_reply": "2025-09-10T10:54:00.990719Z",
     "shell.execute_reply.started": "2025-09-10T10:54:00.985669Z"
    },
    "trusted": true
   },
   "outputs": [
    {
     "data": {
      "text/plain": [
       "OrderedDict([('weight', tensor([[-0.2191]])), ('bias', tensor([0.2018]))])"
      ]
     },
     "execution_count": 120,
     "metadata": {},
     "output_type": "execute_result"
    }
   ],
   "source": [
    "linear.state_dict()"
   ]
  },
  {
   "cell_type": "code",
   "execution_count": 121,
   "metadata": {
    "execution": {
     "iopub.execute_input": "2025-09-10T10:54:12.745493Z",
     "iopub.status.busy": "2025-09-10T10:54:12.745232Z",
     "iopub.status.idle": "2025-09-10T10:54:12.749481Z",
     "shell.execute_reply": "2025-09-10T10:54:12.748804Z",
     "shell.execute_reply.started": "2025-09-10T10:54:12.745472Z"
    },
    "trusted": true
   },
   "outputs": [],
   "source": [
    "class MyLinearRegression(nn.Module):\n",
    "    def __init__(self):\n",
    "        super().__init__()\n",
    "        # Instead of our custom parameters, we use a Linear model\n",
    "        # with single input and single output\n",
    "        self.linear = nn.Linear(1, 1)\n",
    "                \n",
    "    def forward(self, x):\n",
    "        # Now it only takes a call\n",
    "        self.linear(x)"
   ]
  },
  {
   "cell_type": "code",
   "execution_count": 122,
   "metadata": {
    "execution": {
     "iopub.execute_input": "2025-09-10T10:54:15.404241Z",
     "iopub.status.busy": "2025-09-10T10:54:15.403750Z",
     "iopub.status.idle": "2025-09-10T10:54:15.412068Z",
     "shell.execute_reply": "2025-09-10T10:54:15.411397Z",
     "shell.execute_reply.started": "2025-09-10T10:54:15.404216Z"
    },
    "trusted": true
   },
   "outputs": [
    {
     "data": {
      "text/plain": [
       "[Parameter containing:\n",
       " tensor([[0.7645]], device='cuda:0', requires_grad=True),\n",
       " Parameter containing:\n",
       " tensor([0.8300], device='cuda:0', requires_grad=True)]"
      ]
     },
     "execution_count": 122,
     "metadata": {},
     "output_type": "execute_result"
    }
   ],
   "source": [
    "torch.manual_seed(42)\n",
    "dummy = MyLinearRegression().to(device)\n",
    "list(dummy.parameters())"
   ]
  },
  {
   "cell_type": "code",
   "execution_count": 123,
   "metadata": {
    "execution": {
     "iopub.execute_input": "2025-09-10T10:54:19.218218Z",
     "iopub.status.busy": "2025-09-10T10:54:19.217762Z",
     "iopub.status.idle": "2025-09-10T10:54:19.224133Z",
     "shell.execute_reply": "2025-09-10T10:54:19.223631Z",
     "shell.execute_reply.started": "2025-09-10T10:54:19.218196Z"
    },
    "trusted": true
   },
   "outputs": [
    {
     "data": {
      "text/plain": [
       "OrderedDict([('linear.weight', tensor([[0.7645]], device='cuda:0')),\n",
       "             ('linear.bias', tensor([0.8300], device='cuda:0'))])"
      ]
     },
     "execution_count": 123,
     "metadata": {},
     "output_type": "execute_result"
    }
   ],
   "source": [
    "dummy.state_dict()"
   ]
  },
  {
   "cell_type": "markdown",
   "metadata": {},
   "source": [
    "## 1.9.8 Sequential Models"
   ]
  },
  {
   "cell_type": "markdown",
   "metadata": {},
   "source": [
    "### Cell 1.12"
   ]
  },
  {
   "cell_type": "code",
   "execution_count": 124,
   "metadata": {
    "execution": {
     "iopub.execute_input": "2025-09-10T10:54:36.299756Z",
     "iopub.status.busy": "2025-09-10T10:54:36.299038Z",
     "iopub.status.idle": "2025-09-10T10:54:36.306780Z",
     "shell.execute_reply": "2025-09-10T10:54:36.306227Z",
     "shell.execute_reply.started": "2025-09-10T10:54:36.299730Z"
    },
    "trusted": true
   },
   "outputs": [
    {
     "data": {
      "text/plain": [
       "OrderedDict([('0.weight', tensor([[0.7645]], device='cuda:0')),\n",
       "             ('0.bias', tensor([0.8300], device='cuda:0'))])"
      ]
     },
     "execution_count": 124,
     "metadata": {},
     "output_type": "execute_result"
    }
   ],
   "source": [
    "torch.manual_seed(42)\n",
    "# Alternatively, you can use a Sequential model\n",
    "model = nn.Sequential(nn.Linear(1, 1)).to(device)\n",
    "\n",
    "model.state_dict()"
   ]
  },
  {
   "cell_type": "markdown",
   "metadata": {},
   "source": [
    "## 1.9.9 Layers"
   ]
  },
  {
   "cell_type": "code",
   "execution_count": 125,
   "metadata": {
    "execution": {
     "iopub.execute_input": "2025-09-10T10:54:54.002189Z",
     "iopub.status.busy": "2025-09-10T10:54:54.001958Z",
     "iopub.status.idle": "2025-09-10T10:54:54.011864Z",
     "shell.execute_reply": "2025-09-10T10:54:54.011321Z",
     "shell.execute_reply.started": "2025-09-10T10:54:54.002174Z"
    },
    "trusted": true
   },
   "outputs": [
    {
     "data": {
      "text/plain": [
       "OrderedDict([('0.weight',\n",
       "              tensor([[ 0.4414,  0.4792, -0.1353],\n",
       "                      [ 0.5304, -0.1265,  0.1165],\n",
       "                      [-0.2811,  0.3391,  0.5090],\n",
       "                      [-0.4236,  0.5018,  0.1081],\n",
       "                      [ 0.4266,  0.0782,  0.2784]], device='cuda:0')),\n",
       "             ('0.bias',\n",
       "              tensor([-0.0815,  0.4451,  0.0853, -0.2695,  0.1472], device='cuda:0')),\n",
       "             ('1.weight',\n",
       "              tensor([[-0.2060, -0.0524, -0.1816,  0.2967, -0.3530]], device='cuda:0')),\n",
       "             ('1.bias', tensor([-0.2062], device='cuda:0'))])"
      ]
     },
     "execution_count": 125,
     "metadata": {},
     "output_type": "execute_result"
    }
   ],
   "source": [
    "torch.manual_seed(42)\n",
    "# Building the model from the figure above\n",
    "model = nn.Sequential(nn.Linear(3, 5), nn.Linear(5, 1)).to(device)\n",
    "\n",
    "model.state_dict()"
   ]
  },
  {
   "cell_type": "code",
   "execution_count": 126,
   "metadata": {
    "execution": {
     "iopub.execute_input": "2025-09-10T10:54:58.387751Z",
     "iopub.status.busy": "2025-09-10T10:54:58.387460Z",
     "iopub.status.idle": "2025-09-10T10:54:58.394214Z",
     "shell.execute_reply": "2025-09-10T10:54:58.393722Z",
     "shell.execute_reply.started": "2025-09-10T10:54:58.387734Z"
    },
    "trusted": true
   },
   "outputs": [
    {
     "data": {
      "text/plain": [
       "Sequential(\n",
       "  (layer1): Linear(in_features=3, out_features=5, bias=True)\n",
       "  (layer2): Linear(in_features=5, out_features=1, bias=True)\n",
       ")"
      ]
     },
     "execution_count": 126,
     "metadata": {},
     "output_type": "execute_result"
    }
   ],
   "source": [
    "torch.manual_seed(42)\n",
    "# Building the model from the figure above\n",
    "model = nn.Sequential()\n",
    "model.add_module('layer1', nn.Linear(3, 5))\n",
    "model.add_module('layer2', nn.Linear(5, 1))\n",
    "model.to(device)"
   ]
  },
  {
   "cell_type": "markdown",
   "metadata": {},
   "source": [
    "# 1.10 Putting It All Together"
   ]
  },
  {
   "cell_type": "markdown",
   "metadata": {},
   "source": [
    "## 1.10.1 Data Preparation"
   ]
  },
  {
   "cell_type": "markdown",
   "metadata": {},
   "source": [
    "### Data Preparation V0"
   ]
  },
  {
   "cell_type": "code",
   "execution_count": 127,
   "metadata": {
    "execution": {
     "iopub.execute_input": "2025-09-10T10:55:31.395279Z",
     "iopub.status.busy": "2025-09-10T10:55:31.394706Z",
     "iopub.status.idle": "2025-09-10T10:55:31.399857Z",
     "shell.execute_reply": "2025-09-10T10:55:31.399152Z",
     "shell.execute_reply.started": "2025-09-10T10:55:31.395257Z"
    },
    "trusted": true
   },
   "outputs": [
    {
     "name": "stdout",
     "output_type": "stream",
     "text": [
      "Writing data_preparation/v0.py\n"
     ]
    }
   ],
   "source": [
    "%%writefile data_preparation/v0.py\n",
    "\n",
    "device = 'cuda' if torch.cuda.is_available() else 'cpu'\n",
    "\n",
    "# Our data was in Numpy arrays, but we need to transform them\n",
    "# into PyTorch's Tensors and then we send them to the \n",
    "# chosen device\n",
    "x_train_tensor = torch.as_tensor(x_train).float().to(device)\n",
    "y_train_tensor = torch.as_tensor(y_train).float().to(device)"
   ]
  },
  {
   "cell_type": "code",
   "execution_count": 128,
   "metadata": {
    "execution": {
     "iopub.execute_input": "2025-09-10T10:55:37.053785Z",
     "iopub.status.busy": "2025-09-10T10:55:37.053552Z",
     "iopub.status.idle": "2025-09-10T10:55:37.061819Z",
     "shell.execute_reply": "2025-09-10T10:55:37.061221Z",
     "shell.execute_reply.started": "2025-09-10T10:55:37.053768Z"
    },
    "trusted": true
   },
   "outputs": [
    {
     "data": {
      "text/plain": [
       "<Figure size 640x480 with 0 Axes>"
      ]
     },
     "metadata": {},
     "output_type": "display_data"
    }
   ],
   "source": [
    "%run -i data_preparation/v0.py"
   ]
  },
  {
   "cell_type": "markdown",
   "metadata": {},
   "source": [
    "## 1.10.2 Model Configurtion"
   ]
  },
  {
   "cell_type": "markdown",
   "metadata": {},
   "source": [
    "模型配置主要定义以下三个对象：\n",
    "- 模型\n",
    "- 损失函数\n",
    "- 优化器"
   ]
  },
  {
   "cell_type": "markdown",
   "metadata": {},
   "source": [
    "### Model Configuration V0"
   ]
  },
  {
   "cell_type": "code",
   "execution_count": 129,
   "metadata": {
    "execution": {
     "iopub.execute_input": "2025-09-10T10:56:09.975342Z",
     "iopub.status.busy": "2025-09-10T10:56:09.974764Z",
     "iopub.status.idle": "2025-09-10T10:56:09.979641Z",
     "shell.execute_reply": "2025-09-10T10:56:09.978959Z",
     "shell.execute_reply.started": "2025-09-10T10:56:09.975321Z"
    },
    "trusted": true
   },
   "outputs": [
    {
     "name": "stdout",
     "output_type": "stream",
     "text": [
      "Writing model_configuration/v0.py\n"
     ]
    }
   ],
   "source": [
    "%%writefile model_configuration/v0.py\n",
    "\n",
    "# This is redundant now, but it won't be when we introduce\n",
    "# Datasets...\n",
    "device = 'cuda' if torch.cuda.is_available() else 'cpu'\n",
    "\n",
    "# Sets learning rate - this is \"eta\" ~ the \"n\"-like Greek letter\n",
    "lr = 0.1\n",
    "\n",
    "torch.manual_seed(42)\n",
    "# Now we can create a model and send it at once to the device\n",
    "model = nn.Sequential(nn.Linear(1, 1)).to(device)\n",
    "\n",
    "# Defines a SGD optimizer to update the parameters \n",
    "# (now retrieved directly from the model)\n",
    "optimizer = optim.SGD(model.parameters(), lr=lr)\n",
    "\n",
    "# Defines a MSE loss function\n",
    "loss_fn = nn.MSELoss(reduction='mean')"
   ]
  },
  {
   "cell_type": "code",
   "execution_count": 130,
   "metadata": {
    "execution": {
     "iopub.execute_input": "2025-09-10T10:57:26.498390Z",
     "iopub.status.busy": "2025-09-10T10:57:26.498082Z",
     "iopub.status.idle": "2025-09-10T10:57:26.511942Z",
     "shell.execute_reply": "2025-09-10T10:57:26.511135Z",
     "shell.execute_reply.started": "2025-09-10T10:57:26.498369Z"
    },
    "trusted": true
   },
   "outputs": [],
   "source": [
    "%run -i model_configuration/v0.py"
   ]
  },
  {
   "cell_type": "markdown",
   "metadata": {},
   "source": [
    "## 1.10.3 Model Training"
   ]
  },
  {
   "cell_type": "markdown",
   "metadata": {},
   "source": [
    "### Model Training V0"
   ]
  },
  {
   "cell_type": "code",
   "execution_count": 131,
   "metadata": {
    "execution": {
     "iopub.execute_input": "2025-09-10T10:57:42.936999Z",
     "iopub.status.busy": "2025-09-10T10:57:42.936295Z",
     "iopub.status.idle": "2025-09-10T10:57:42.941539Z",
     "shell.execute_reply": "2025-09-10T10:57:42.940758Z",
     "shell.execute_reply.started": "2025-09-10T10:57:42.936977Z"
    },
    "trusted": true
   },
   "outputs": [
    {
     "name": "stdout",
     "output_type": "stream",
     "text": [
      "Writing model_training/v0.py\n"
     ]
    }
   ],
   "source": [
    "%%writefile model_training/v0.py\n",
    "\n",
    "# Defines number of epochs\n",
    "n_epochs = 1000\n",
    "\n",
    "for epoch in range(n_epochs):\n",
    "    # Sets model to TRAIN mode\n",
    "    model.train()\n",
    "\n",
    "    # Step 1 - Computes model's predicted output - forward pass\n",
    "    yhat = model(x_train_tensor)\n",
    "    \n",
    "    # Step 2 - Computes the loss\n",
    "    loss = loss_fn(yhat, y_train_tensor)\n",
    "\n",
    "    # Step 3 - Computes gradients for both \"b\" and \"w\" parameters\n",
    "    loss.backward()\n",
    "    \n",
    "    # Step 4 - Updates parameters using gradients and \n",
    "    # the learning rate\n",
    "    optimizer.step()\n",
    "    optimizer.zero_grad()"
   ]
  },
  {
   "cell_type": "code",
   "execution_count": 132,
   "metadata": {
    "trusted": true
   },
   "outputs": [],
   "source": [
    "%run -i model_training/v0.py"
   ]
  },
  {
   "cell_type": "code",
   "execution_count": 133,
   "metadata": {
    "execution": {
     "iopub.execute_input": "2025-09-10T10:57:48.663677Z",
     "iopub.status.busy": "2025-09-10T10:57:48.662925Z",
     "iopub.status.idle": "2025-09-10T10:57:48.669259Z",
     "shell.execute_reply": "2025-09-10T10:57:48.668763Z",
     "shell.execute_reply.started": "2025-09-10T10:57:48.663646Z"
    },
    "trusted": true
   },
   "outputs": [
    {
     "name": "stdout",
     "output_type": "stream",
     "text": [
      "OrderedDict([('0.weight', tensor([[1.9690]], device='cuda:0')), ('0.bias', tensor([1.0235], device='cuda:0'))])\n"
     ]
    }
   ],
   "source": [
    "print(model.state_dict())"
   ]
  }
 ],
 "metadata": {
  "kaggle": {
   "accelerator": "gpu",
   "dataSources": [],
   "dockerImageVersionId": 31089,
   "isGpuEnabled": true,
   "isInternetEnabled": true,
   "language": "python",
   "sourceType": "notebook"
  },
  "kernelspec": {
   "display_name": "Python 3",
   "language": "python",
   "name": "python3"
  },
  "language_info": {
   "codemirror_mode": {
    "name": "ipython",
    "version": 3
   },
   "file_extension": ".py",
   "mimetype": "text/x-python",
   "name": "python",
   "nbconvert_exporter": "python",
   "pygments_lexer": "ipython3",
   "version": "3.11.13"
  }
 },
 "nbformat": 4,
 "nbformat_minor": 4
}
