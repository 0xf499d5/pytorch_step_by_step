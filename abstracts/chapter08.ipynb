{
 "cells": [
  {
   "cell_type": "markdown",
   "id": "7901d813",
   "metadata": {},
   "source": [
    "# 1. Data Generation and Data Preparation"
   ]
  },
  {
   "cell_type": "markdown",
   "id": "0754ad5f",
   "metadata": {},
   "source": [
    "## 1.1 Data Generation"
   ]
  },
  {
   "cell_type": "code",
   "execution_count": 1,
   "id": "5322d4e5",
   "metadata": {},
   "outputs": [
    {
     "name": "stdout",
     "output_type": "stream",
     "text": [
      "[0.88881199 1.03189022]\n",
      "[ 1.02790413 -0.89894847]\n",
      "[-1.05808781 -1.05251698]\n",
      "[-1.05713802  0.90759172]\n",
      "1\n",
      "--------------------------------------------------\n",
      "[-1.17249178  0.94377125]\n",
      "[-1.10128311 -0.96857527]\n",
      "[ 0.90919759 -1.14123037]\n",
      "[1.14656488 0.97742237]\n",
      "-1\n",
      "--------------------------------------------------\n",
      "[1.2559488 1.0394233]\n",
      "[ 1.01222192 -1.05154357]\n",
      "[-1.06002539 -0.90525602]\n",
      "[-0.9708966   0.93644403]\n",
      "1\n",
      "--------------------------------------------------\n",
      "[0.99865028 0.89422891]\n",
      "[ 1.08225449 -1.12208436]\n",
      "[-0.97911364 -1.19596701]\n",
      "[-1.1328186   1.01968612]\n",
      "1\n",
      "--------------------------------------------------\n",
      "[1.02186383 1.0881761 ]\n",
      "[ 0.89909147 -1.15832942]\n",
      "[-0.92262996 -1.05381417]\n",
      "[-1.13466781  0.91194087]\n",
      "1\n",
      "--------------------------------------------------\n"
     ]
    }
   ],
   "source": [
    "import numpy as np\n",
    "\n",
    "np.random.seed(42)\n",
    "\n",
    "M, N = 5, 4\n",
    "\n",
    "direct_choices = [-1, 1]\n",
    "basic_corners = np.array([[-1, -1], [-1, 1], [1, 1], [1, -1]])\n",
    "\n",
    "squares = []\n",
    "directions = []\n",
    "for _ in range(M):\n",
    "    points = []\n",
    "    base = np.random.randint(N, size=1)  # 基址\n",
    "    d = np.random.choice(direct_choices, replace=True)\n",
    "    offset_indices = range(0, d * N, d)\n",
    "    for offset in offset_indices:\n",
    "        p = basic_corners[(base + offset) % N].reshape(-1)\n",
    "        n = np.random.randn(2) * 0.1\n",
    "        points.append(p + n)\n",
    "    squares.append(points)\n",
    "    directions.append(d)\n",
    "\n",
    "for points, direct in zip(squares, directions):\n",
    "    for point in points:\n",
    "        print(point)\n",
    "    print(direct)\n",
    "    print(\"-\" * 50)"
   ]
  },
  {
   "cell_type": "code",
   "execution_count": 2,
   "id": "2320335e",
   "metadata": {},
   "outputs": [],
   "source": [
    "import numpy as np\n",
    "\n",
    "def generate_sequences(n=128, variable_len=False, seed=13):\n",
    "    \"\"\" 以basic_corners代表的正方形四个顶点坐标为基准，再加上随机噪声、以顺时针或者逆时针方向\n",
    "        生成给定形状(n, 4)的序列样本数据. \n",
    "    \"\"\"\n",
    "    basic_corners = np.array([[-1, -1], [-1, 1], [1, 1], [1, -1]]) # 3, 2, 1, 4象限\n",
    "    np.random.seed(seed)\n",
    "    bases = np.random.randint(4, size=n)\n",
    "    if variable_len:  # 是否生成可变长的序列\n",
    "        lengths = np.random.randint(3, size=n) + 2\n",
    "    else:\n",
    "        lengths = [4] * n\n",
    "    directions = np.random.randint(2, size=n)\n",
    "    points = [\n",
    "        basic_corners[[(b + i) % 4 for i in range(4)]][slice(None, None, d*2-1)][:l] + \\\n",
    "        np.random.randn(l, 2) * 0.1 for b, d, l in zip(bases, directions, lengths)\n",
    "    ]\n",
    "    return points, directions"
   ]
  },
  {
   "cell_type": "markdown",
   "id": "61a11645",
   "metadata": {},
   "source": [
    "## 1.2 Data Preparation"
   ]
  },
  {
   "cell_type": "markdown",
   "id": "be7cca58",
   "metadata": {},
   "source": [
    "### 1.2.1 定长的数据集"
   ]
  },
  {
   "cell_type": "code",
   "execution_count": 3,
   "id": "b96cb76a",
   "metadata": {},
   "outputs": [
    {
     "name": "stderr",
     "output_type": "stream",
     "text": [
      "/var/folders/y0/lldpmrp90mj8b4y0bcb251dw0000gn/T/ipykernel_71205/2657806666.py:7: UserWarning: Creating a tensor from a list of numpy.ndarrays is extremely slow. Please consider converting the list to a single numpy.ndarray with numpy.array() before converting to a tensor. (Triggered internally at /Users/runner/work/pytorch/pytorch/pytorch/torch/csrc/utils/tensor_new.cpp:256.)\n",
      "  x_tensor = torch.as_tensor(points).float()\n"
     ]
    }
   ],
   "source": [
    "from torch.utils.data import DataLoader, TensorDataset\n",
    "import torch\n",
    "\n",
    "\n",
    "points, directions = generate_sequences(n=128, variable_len=False, seed=13)\n",
    "\n",
    "x_tensor = torch.as_tensor(points).float()\n",
    "t_tensor = torch.as_tensor(directions).float().view(-1, 1)\n",
    "\n",
    "train_dataset = TensorDataset(x_tensor, t_tensor)\n",
    "\n",
    "train_loader = DataLoader(train_dataset, batch_size=16, shuffle=True)"
   ]
  },
  {
   "cell_type": "markdown",
   "id": "1592f8ad",
   "metadata": {},
   "source": [
    "### 1.2.2 变长数据集\n",
    "\n",
    "变长数据集涉及到`torch.nn.utils.rnn`的工具函数，弃坑！"
   ]
  },
  {
   "cell_type": "markdown",
   "id": "1d7f49a1",
   "metadata": {},
   "source": [
    "# 2. Model Configuration & Training\n",
    "\n",
    "模型配置以及训练涉及到RNN、GRU以及LSTM，弃坑！直接进入Transformer的世界！"
   ]
  }
 ],
 "metadata": {
  "kernelspec": {
   "display_name": "llm",
   "language": "python",
   "name": "python3"
  },
  "language_info": {
   "codemirror_mode": {
    "name": "ipython",
    "version": 3
   },
   "file_extension": ".py",
   "mimetype": "text/x-python",
   "name": "python",
   "nbconvert_exporter": "python",
   "pygments_lexer": "ipython3",
   "version": "3.12.10"
  }
 },
 "nbformat": 4,
 "nbformat_minor": 5
}
