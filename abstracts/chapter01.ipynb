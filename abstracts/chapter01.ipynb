{
 "cells": [
  {
   "cell_type": "markdown",
   "id": "2b481a35",
   "metadata": {},
   "source": [
    "# 1. Data Preparation"
   ]
  },
  {
   "cell_type": "code",
   "execution_count": 1,
   "id": "c94c3085",
   "metadata": {},
   "outputs": [],
   "source": [
    "import numpy as np\n",
    "\n",
    "N = 100\n",
    "true_b = 1\n",
    "true_w = 2\n",
    "\n",
    "np.random.seed(42)\n",
    "x = np.random.rand(N, 1)\n",
    "noise = 0.1 * np.random.randn(N, 1)\n",
    "t = true_b + true_w * x + noise"
   ]
  },
  {
   "cell_type": "code",
   "execution_count": 2,
   "id": "853b400d",
   "metadata": {},
   "outputs": [],
   "source": [
    "from torch.utils.data import DataLoader, TensorDataset, random_split\n",
    "import torch"
   ]
  },
  {
   "cell_type": "code",
   "execution_count": 3,
   "id": "2bfd8ee8",
   "metadata": {},
   "outputs": [],
   "source": [
    "\n",
    "# torch.manual_seed(13)\n",
    "\n",
    "# x_tensor = torch.as_tensor(x).float()\n",
    "# t_tensor = torch.as_tensor(t).float()\n",
    "# dataset = TensorDataset(x_tensor, t_tensor)\n",
    "\n",
    "# ratio = 0.8\n",
    "# n_train = int(N * ratio)\n",
    "# n_val = N - n_train\n",
    "# train_dataset, val_dataset = random_split(dataset, [n_train, n_val])\n",
    "# print(len(train_dataset), len(val_dataset))\n",
    "\n",
    "# batch_size = 16\n",
    "# train_dataloader = DataLoader(train_dataset, batch_size=batch_size, shuffle=True)\n",
    "# val_dataloader = DataLoader(val_dataset, batch_size=batch_size)"
   ]
  },
  {
   "cell_type": "markdown",
   "id": "5f2b6b53",
   "metadata": {},
   "source": [
    "如果使用下面的数据集划分，则可能会导致验证损失小于训练损失："
   ]
  },
  {
   "cell_type": "code",
   "execution_count": 4,
   "id": "469dd57d",
   "metadata": {},
   "outputs": [
    {
     "name": "stdout",
     "output_type": "stream",
     "text": [
      "torch.Size([80, 1]) torch.Size([80, 1]) torch.Size([20, 1]) torch.Size([20, 1])\n"
     ]
    }
   ],
   "source": [
    "torch.manual_seed(13)\n",
    "np.random.seed(13)\n",
    "\n",
    "ratio = 0.8\n",
    "n_train = int(N * ratio)\n",
    "idx = np.arange(N)\n",
    "np.random.shuffle(idx)\n",
    "\n",
    "train_idx, val_idx = idx[:n_train], idx[n_train:]\n",
    "x_train, t_train = x[train_idx], t[train_idx]\n",
    "x_val, t_val = x[val_idx], t[val_idx]\n",
    "\n",
    "x_train_tensor = torch.as_tensor(x_train).float()\n",
    "t_train_tensor = torch.as_tensor(t_train).float()\n",
    "x_val_tensor = torch.as_tensor(x_val).float()\n",
    "t_val_tensor = torch.as_tensor(t_val).float()\n",
    "print(x_train_tensor.shape, t_train_tensor.shape, x_val_tensor.shape, t_val_tensor.shape)\n",
    "\n",
    "train_dataset = TensorDataset(x_train_tensor, t_train_tensor)\n",
    "val_dataset = TensorDataset(x_val_tensor, t_val_tensor)\n",
    "\n",
    "batch_size = 16\n",
    "train_dataloader = DataLoader(train_dataset, batch_size=batch_size, shuffle=True)\n",
    "val_dataloader = DataLoader(val_dataset, batch_size=batch_size)"
   ]
  },
  {
   "cell_type": "markdown",
   "id": "0876957e",
   "metadata": {},
   "source": [
    "# 2. Model Configuration"
   ]
  },
  {
   "cell_type": "code",
   "execution_count": 5,
   "id": "e827a292",
   "metadata": {},
   "outputs": [],
   "source": [
    "from torch import nn, optim\n",
    "\n",
    "device = \"cuda\" if torch.cuda.is_available() else \"cpu\"\n",
    "\n",
    "model = nn.Sequential()\n",
    "model.add_module(\"linear\", nn.Linear(1, 1))\n",
    "model.to(device)\n",
    "\n",
    "loss_fn = nn.MSELoss(reduction=\"mean\")\n",
    "\n",
    "lr = 0.1\n",
    "optimizer = optim.SGD(params=model.parameters(), lr=lr)"
   ]
  },
  {
   "cell_type": "markdown",
   "id": "c40addd0",
   "metadata": {},
   "source": [
    "# 3. Model Training"
   ]
  },
  {
   "cell_type": "code",
   "execution_count": 6,
   "id": "09d26bf7",
   "metadata": {},
   "outputs": [],
   "source": [
    "import datetime\n",
    "from torch.utils.tensorboard import SummaryWriter\n",
    "\n",
    "seed = 42\n",
    "torch.backends.cudnn.deterministic = True\n",
    "torch.backends.cudnn.benchmark = False    \n",
    "torch.manual_seed(seed)\n",
    "np.random.seed(seed)\n",
    "\n",
    "n_epochs = 200\n",
    "train_losses = []\n",
    "val_losses = []\n",
    "suffix = datetime.datetime.now().strftime(\"%Y-%m-%d_%H:%M:%S\")\n",
    "log_dir = f\"runs/simple_linear_regression.{suffix}\"\n",
    "writer = SummaryWriter(log_dir)\n",
    "for epoch in range(n_epochs):\n",
    "    model.train()\n",
    "    train_loss_batch = []\n",
    "    for x_batch, t_batch in train_dataloader:\n",
    "        x_batch = x_batch.to(device)\n",
    "        t_batch = t_batch.to(device)\n",
    "        y_batch = model(x_batch)\n",
    "        loss = loss_fn(y_batch, t_batch)\n",
    "        loss.backward()\n",
    "        optimizer.step()\n",
    "        optimizer.zero_grad()\n",
    "        train_loss_batch.append(loss.item())\n",
    "    train_loss_mean = np.mean(train_loss_batch)\n",
    "    train_losses.append(train_loss_mean)\n",
    "    \n",
    "    model.eval()\n",
    "    val_loss_batch = []\n",
    "    for x_batch, t_batch in val_dataloader:\n",
    "        x_batch = x_batch.to(device)\n",
    "        t_batch = t_batch.to(device)\n",
    "        with torch.no_grad():\n",
    "            y_batch = model(x_batch)\n",
    "            val_loss = loss_fn(y_batch, t_batch)\n",
    "        val_loss_batch.append(val_loss.item())\n",
    "    val_loss_mean = np.mean(val_loss_batch)\n",
    "    val_losses.append(val_loss_mean)\n",
    "\n",
    "    loss_scalars = {\n",
    "        \"training\": train_loss_mean,\n",
    "        \"validation\": val_loss_mean,\n",
    "    }\n",
    "    writer.add_scalars(\n",
    "        main_tag=\"Loss\",\n",
    "        tag_scalar_dict=loss_scalars,\n",
    "        global_step=epoch\n",
    "    )"
   ]
  },
  {
   "cell_type": "code",
   "execution_count": 7,
   "id": "15cf3444",
   "metadata": {},
   "outputs": [
    {
     "name": "stdout",
     "output_type": "stream",
     "text": [
      "OrderedDict({'linear.weight': tensor([[1.9311]]), 'linear.bias': tensor([1.0350])})\n"
     ]
    }
   ],
   "source": [
    "print(model.state_dict())"
   ]
  },
  {
   "cell_type": "markdown",
   "id": "ab4328c3",
   "metadata": {},
   "source": [
    "# 4. Loss Curve"
   ]
  },
  {
   "cell_type": "code",
   "execution_count": 8,
   "id": "686f64e4",
   "metadata": {},
   "outputs": [
    {
     "data": {
      "image/png": "[encoded data removed]",
      "text/plain": [
       "<Figure size 1000x400 with 1 Axes>"
      ]
     },
     "metadata": {},
     "output_type": "display_data"
    }
   ],
   "source": [
    "import matplotlib.pyplot as plt\n",
    "\n",
    "plt.style.use('fivethirtyeight')\n",
    "\n",
    "fig = plt.figure(figsize=(10, 4))\n",
    "plt.plot(train_losses, label=\"Training Loss\", c=\"b\")\n",
    "plt.plot(val_losses, label=\"Validation Loss\", c=\"r\")\n",
    "plt.xlabel(\"Epoch\")\n",
    "plt.ylabel(\"Loss\")\n",
    "plt.yscale(\"log\")\n",
    "plt.legend()\n",
    "plt.tight_layout()"
   ]
  },
  {
   "cell_type": "code",
   "execution_count": 9,
   "id": "ece21c51",
   "metadata": {},
   "outputs": [
    {
     "name": "stdout",
     "output_type": "stream",
     "text": [
      "mkdir: runs: File exists\n"
     ]
    }
   ],
   "source": [
    "!mkdir runs && ls | grep runs"
   ]
  },
  {
   "cell_type": "code",
   "execution_count": 10,
   "id": "12ae6699",
   "metadata": {},
   "outputs": [],
   "source": [
    "%load_ext tensorboard\n"
   ]
  },
  {
   "cell_type": "code",
   "execution_count": 11,
   "id": "3199250c",
   "metadata": {},
   "outputs": [
    {
     "data": {
      "text/html": [
       "\n",
       "      <iframe id=\"tensorboard-frame-737a447768e1ac55\" width=\"100%\" height=\"800\" frameborder=\"0\">\n",
       "      </iframe>\n",
       "      <script>\n",
       "        (function() {\n",
       "          const frame = document.getElementById(\"tensorboard-frame-737a447768e1ac55\");\n",
       "          const url = new URL(\"/\", window.location);\n",
       "          const port = 6009;\n",
       "          if (port) {\n",
       "            url.port = port;\n",
       "          }\n",
       "          frame.src = url;\n",
       "        })();\n",
       "      </script>\n",
       "    "
      ],
      "text/plain": [
       "<IPython.core.display.HTML object>"
      ]
     },
     "metadata": {},
     "output_type": "display_data"
    }
   ],
   "source": [
    "%tensorboard --logdir runs/simple_linear_regression.2025-09-14_23:08:40"
   ]
  }
 ],
 "metadata": {
  "kernelspec": {
   "display_name": "llm",
   "language": "python",
   "name": "python3"
  },
  "language_info": {
   "codemirror_mode": {
    "name": "ipython",
    "version": 3
   },
   "file_extension": ".py",
   "mimetype": "text/x-python",
   "name": "python",
   "nbconvert_exporter": "python",
   "pygments_lexer": "ipython3",
   "version": "3.12.10"
  }
 },
 "nbformat": 4,
 "nbformat_minor": 5
}
