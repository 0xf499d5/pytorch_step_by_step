{
 "cells": [
  {
   "cell_type": "markdown",
   "metadata": {},
   "source": [
    "# 1. Data Preparation"
   ]
  },
  {
   "cell_type": "code",
   "execution_count": 1,
   "metadata": {},
   "outputs": [],
   "source": [
    "import numpy as np\n",
    "\n",
    "def generate_sequences(n=128, variable_len=False, seed=13):\n",
    "    basic_corners = np.array([[-1, -1], [-1, 1], [1, 1], [1, -1]])\n",
    "    np.random.seed(seed)\n",
    "    bases = np.random.randint(4, size=n)\n",
    "    if variable_len:\n",
    "        lengths = np.random.randint(3, size=n) + 2\n",
    "    else:\n",
    "        lengths = [4] * n\n",
    "    directions = np.random.randint(2, size=n)\n",
    "    points = np.array([basic_corners[[(b + i) % 4 for i in range(4)]][slice(None, None, d*2-1)][:l] + np.random.randn(l, 2) * 0.1 for b, d, l in zip(bases, directions, lengths)])\n",
    "    return points, directions"
   ]
  },
  {
   "cell_type": "code",
   "execution_count": 2,
   "metadata": {},
   "outputs": [],
   "source": [
    "from torch.utils.data import DataLoader, TensorDataset\n",
    "import torch"
   ]
  },
  {
   "cell_type": "code",
   "execution_count": 3,
   "metadata": {},
   "outputs": [
    {
     "name": "stdout",
     "output_type": "stream",
     "text": [
      "x_train shape: torch.Size([256, 4, 2])\n",
      "t_train shape: torch.Size([256, 2, 2])\n"
     ]
    }
   ],
   "source": [
    "train_points, train_directs = generate_sequences(n=256, seed=13)\n",
    "x_train = torch.as_tensor(train_points).float()\n",
    "print(f\"x_train shape: {x_train.shape}\")  # (256, 4, 2)\n",
    "t_train = torch.as_tensor(x_train[:, 2:]).float()\n",
    "print(f\"t_train shape: {t_train.shape}\")"
   ]
  },
  {
   "cell_type": "code",
   "execution_count": 4,
   "metadata": {},
   "outputs": [],
   "source": [
    "train_set = TensorDataset(x_train, t_train)\n",
    "train_loader = DataLoader(train_set, batch_size=16, shuffle=True)"
   ]
  },
  {
   "cell_type": "code",
   "execution_count": 5,
   "metadata": {},
   "outputs": [
    {
     "name": "stdout",
     "output_type": "stream",
     "text": [
      "x_test shape: torch.Size([128, 2, 2])\n",
      "t_test shape: torch.Size([128, 2, 2])\n"
     ]
    }
   ],
   "source": [
    "test_points, test_directs = generate_sequences(n=128, seed=19)\n",
    "full_test = torch.as_tensor(test_points).float()\n",
    "x_test = full_test[:, :2]\n",
    "t_test = full_test[:, 2:]\n",
    "print(f\"x_test shape: {x_test.shape}\")\n",
    "print(f\"t_test shape: {t_test.shape}\")"
   ]
  },
  {
   "cell_type": "code",
   "execution_count": 6,
   "metadata": {},
   "outputs": [],
   "source": [
    "test_set = TensorDataset(x_test, t_test)\n",
    "test_loader = DataLoader(test_set, batch_size=16, shuffle=False)"
   ]
  },
  {
   "cell_type": "markdown",
   "metadata": {},
   "source": [
    "# 2. Model Implement\n",
    "内容大纲：\n",
    "- MHA：同时支持`self-attention`和`cross-attention`\n",
    "- FFN\n",
    "- Encoder：`self-attention` & `FFN` (Pre-Normal)\n",
    "- Decoder：`self-attention`, `cross-attention` & `FFN` (Pre-Normal)\n",
    "- Embedding\n",
    "- Transformer"
   ]
  },
  {
   "cell_type": "code",
   "execution_count": 7,
   "metadata": {},
   "outputs": [],
   "source": [
    "from torch import nn, optim"
   ]
  },
  {
   "cell_type": "code",
   "execution_count": 8,
   "metadata": {},
   "outputs": [],
   "source": [
    "input_emb = nn.Linear(2, 6)"
   ]
  },
  {
   "cell_type": "markdown",
   "metadata": {},
   "source": [
    "## 2.1 Embedding"
   ]
  },
  {
   "cell_type": "code",
   "execution_count": 9,
   "metadata": {},
   "outputs": [
    {
     "data": {
      "text/plain": [
       "torch.Size([4, 6])"
      ]
     },
     "execution_count": 9,
     "metadata": {},
     "output_type": "execute_result"
    }
   ],
   "source": [
    "seq_len, model_dim = 4, 6\n",
    "pos_encodings = torch.zeros(seq_len, model_dim)\n",
    "pos_encodings.shape"
   ]
  },
  {
   "cell_type": "code",
   "execution_count": 10,
   "metadata": {},
   "outputs": [
    {
     "data": {
      "text/plain": [
       "torch.Size([4, 1])"
      ]
     },
     "execution_count": 10,
     "metadata": {},
     "output_type": "execute_result"
    }
   ],
   "source": [
    "pos = torch.arange(0, seq_len).unsqueeze(1)\n",
    "pos.shape"
   ]
  },
  {
   "cell_type": "code",
   "execution_count": 11,
   "metadata": {},
   "outputs": [
    {
     "data": {
      "text/plain": [
       "torch.Size([3])"
      ]
     },
     "execution_count": 11,
     "metadata": {},
     "output_type": "execute_result"
    }
   ],
   "source": [
    "spd = torch.arange(0, model_dim, 2).float()  # spd := angular speed\n",
    "spd = 10000 ** (-1 * spd / model_dim)\n",
    "spd.shape"
   ]
  },
  {
   "cell_type": "code",
   "execution_count": 12,
   "metadata": {},
   "outputs": [],
   "source": [
    "(pos * spd).shape\n",
    "pos_encodings[:, 0::2] = torch.sin(pos * spd)\n",
    "pos_encodings[:, 1::2] = torch.cos(pos * spd)"
   ]
  },
  {
   "cell_type": "code",
   "execution_count": 13,
   "metadata": {},
   "outputs": [
    {
     "data": {
      "text/plain": [
       "torch.Size([4, 6])"
      ]
     },
     "execution_count": 13,
     "metadata": {},
     "output_type": "execute_result"
    }
   ],
   "source": [
    "pos_encodings.shape"
   ]
  },
  {
   "cell_type": "code",
   "execution_count": 14,
   "metadata": {},
   "outputs": [],
   "source": [
    "max_len = 4\n",
    "d_model = 6"
   ]
  },
  {
   "cell_type": "code",
   "execution_count": 15,
   "metadata": {},
   "outputs": [],
   "source": [
    "position = torch.arange(0, max_len).float().unsqueeze(1)\n",
    "angular_speed = torch.exp(torch.arange(0, d_model, 2).float() * (-np.log(10000.0) / d_model))"
   ]
  },
  {
   "cell_type": "code",
   "execution_count": 16,
   "metadata": {},
   "outputs": [],
   "source": [
    "encoding = torch.zeros(max_len, d_model)\n",
    "encoding[:, 0::2] = torch.sin(angular_speed * position)\n",
    "encoding[:, 1::2] = torch.cos(angular_speed * position)"
   ]
  },
  {
   "cell_type": "code",
   "execution_count": 17,
   "metadata": {},
   "outputs": [
    {
     "data": {
      "text/plain": [
       "torch.Size([4, 6])"
      ]
     },
     "execution_count": 17,
     "metadata": {},
     "output_type": "execute_result"
    }
   ],
   "source": [
    "encoding.shape"
   ]
  },
  {
   "cell_type": "code",
   "execution_count": 18,
   "metadata": {},
   "outputs": [
    {
     "data": {
      "text/plain": [
       "torch.Size([1, 4, 6])"
      ]
     },
     "execution_count": 18,
     "metadata": {},
     "output_type": "execute_result"
    }
   ],
   "source": [
    "encoding.unsqueeze(0).shape"
   ]
  },
  {
   "cell_type": "code",
   "execution_count": 19,
   "metadata": {},
   "outputs": [
    {
     "data": {
      "text/plain": [
       "True"
      ]
     },
     "execution_count": 19,
     "metadata": {},
     "output_type": "execute_result"
    }
   ],
   "source": [
    "torch.allclose(pos_encodings, encoding, 1e-8)"
   ]
  },
  {
   "cell_type": "code",
   "execution_count": 20,
   "metadata": {},
   "outputs": [],
   "source": [
    "class Embedding(nn.Module):\n",
    "    \"\"\" Input Embedding and Positional Embedding. \"\"\"\n",
    "    def __init__(\n",
    "            self, \n",
    "            max_seq_len: int, \n",
    "            in_dim: int, \n",
    "            emb_dim: int\n",
    "        ):\n",
    "        super().__init__()\n",
    "        self.input_dim = in_dim\n",
    "        self.emb_dim = emb_dim\n",
    "\n",
    "        # input embedding:\n",
    "        self.input_emb = nn.Linear(in_dim, emb_dim)\n",
    "\n",
    "        # positional embedding:\n",
    "        pe = torch.zeros(max_seq_len, emb_dim)\n",
    "        position = torch.arange(0, max_seq_len).float().unsqueeze(1)\n",
    "        angular_speed = torch.arange(0, emb_dim, 2).float()\n",
    "        angular_speed = 10000 ** (-1 * angular_speed / emb_dim)\n",
    "        pe[:, 0::2] = torch.sin(position * angular_speed)\n",
    "        pe[:, 1::2] = torch.cos(position * angular_speed)\n",
    "        self.register_buffer(\"pos_emb\", pe.unsqueeze(0))\n",
    "        \n",
    "    def forward(self, x: torch.Tensor):\n",
    "        _, seq_len, input_dim = x.shape\n",
    "        assert input_dim == self.input_dim\n",
    "        x_embed = self.input_emb(x)\n",
    "        x_scaled = x_embed * (self.emb_dim ** -0.5)\n",
    "        # x_pe = x_scaled + self.pos_emb.view(-1, seq_len, self.emb_dim)\n",
    "        x_pe = x_scaled + self.pos_emb[:, :seq_len]\n",
    "        return x_pe"
   ]
  },
  {
   "cell_type": "code",
   "execution_count": 21,
   "metadata": {},
   "outputs": [
    {
     "name": "stdout",
     "output_type": "stream",
     "text": [
      "torch.Size([1, 4, 2])\n"
     ]
    },
    {
     "data": {
      "text/plain": [
       "torch.Size([1, 4, 6])"
      ]
     },
     "execution_count": 21,
     "metadata": {},
     "output_type": "execute_result"
    }
   ],
   "source": [
    "x = x_train[0].unsqueeze(0)\n",
    "emb = Embedding(\n",
    "    max_seq_len=4,\n",
    "    in_dim=2,\n",
    "    emb_dim=6\n",
    ")\n",
    "print(x.shape)\n",
    "x_embed = emb(x)\n",
    "x_embed.shape"
   ]
  },
  {
   "cell_type": "markdown",
   "metadata": {},
   "source": [
    "## 2.2 Multi-Head Attention"
   ]
  },
  {
   "cell_type": "code",
   "execution_count": 22,
   "metadata": {},
   "outputs": [],
   "source": [
    "class MHA(nn.Module):\n",
    "    \"\"\" Multi-Head Attention, \n",
    "        include self-attention and cross-attention.\n",
    "    \"\"\"\n",
    "    def __init__(\n",
    "        self,\n",
    "        emb_dim: int,\n",
    "        n_heads: int,\n",
    "        max_seq_len: int,\n",
    "        dropout_rate: float = 0.1\n",
    "    ):\n",
    "        super().__init__()\n",
    "\n",
    "        assert emb_dim % n_heads == 0, (\n",
    "            f\"emb_dim({emb_dim}) must be divisible by n_heads({n_heads})\"\n",
    "        )\n",
    "\n",
    "        self.emb_dim = emb_dim\n",
    "        self.n_heads = n_heads\n",
    "        self.head_dim = emb_dim // n_heads\n",
    "        self.max_seq_len = max_seq_len\n",
    "        self.dropout_rate = dropout_rate\n",
    "\n",
    "        self.wq = nn.Linear(self.emb_dim, self.emb_dim)\n",
    "        self.wk = nn.Linear(self.emb_dim, self.emb_dim)\n",
    "        self.wv = nn.Linear(self.emb_dim, self.emb_dim)\n",
    "        self.register_buffer(\"mask\", torch.tril(torch.ones(max_seq_len, max_seq_len)))\n",
    "        self.dropout = nn.Dropout(self.dropout_rate)\n",
    "        self.proj = nn.Linear(self.emb_dim, self.emb_dim)  # TODO: why?\n",
    "\n",
    "        self.k = None\n",
    "        self.v = None\n",
    "        \n",
    "    def init_kv(self, hidden_states: torch.Tensor):\n",
    "        \"\"\" If this class is using in Decoder,\n",
    "            this function is used to receive hidden state from Encoder. \n",
    "        \"\"\"\n",
    "        self.k = self.wk(hidden_states)\n",
    "        self.v = self.wv(hidden_states)\n",
    "        \n",
    "    def clear_kv(self):\n",
    "        self.k = None\n",
    "        self.v = None\n",
    "        \n",
    "    def forward(self, x: torch.Tensor, is_masked: bool = False):\n",
    "        n_batch, seq_len, _ = x.shape\n",
    "        q = self.wq(x)\n",
    "        if self.k is not None and self.v is not None:\n",
    "            k, v = self.k, self.v\n",
    "        else:\n",
    "            k = self.wk(x)\n",
    "            v = self.wv(x)\n",
    "\n",
    "        # q, k, v shape: (n_batch, n_heads, seq_len, head_dim)\n",
    "        # but q's seq_len may be not equal to kv's seq_len\n",
    "        q = q.view(n_batch, seq_len, self.n_heads, self.head_dim).transpose(1, 2).contiguous()\n",
    "        k = k.view(n_batch, -1, self.n_heads, self.head_dim).transpose(1, 2).contiguous()\n",
    "        v = v.view(n_batch, -1, self.n_heads, self.head_dim).transpose(1, 2).contiguous()\n",
    "\n",
    "        # compute attention scores:\n",
    "        a = q @ k.transpose(-2, -1)  # (n_batch, n_heads, q_seq_len, kv_seq_len)\n",
    "        a = a * (self.head_dim ** -0.5)\n",
    "        if is_masked:  # self-masked-attention\n",
    "            mask = self.mask[:seq_len, :seq_len]\n",
    "            a.masked_fill_(mask == 0, -torch.inf)\n",
    "        a = torch.softmax(a, dim=-1)\n",
    "        a = self.dropout(a)\n",
    "        \n",
    "        # compute context vectors:\n",
    "        z = a @ v  # (n_batch, n_heads, seq_len, head_dim)\n",
    "        z = z.transpose(1, 2).contiguous().view(n_batch, seq_len, -1)  # (n_batch, seq_len, out_dim)\n",
    "        return z"
   ]
  },
  {
   "cell_type": "markdown",
   "metadata": {},
   "source": [
    "%% [markdown]<br>\n",
    "%%"
   ]
  },
  {
   "cell_type": "markdown",
   "metadata": {},
   "source": [
    "%%"
   ]
  },
  {
   "cell_type": "code",
   "execution_count": 23,
   "metadata": {},
   "outputs": [
    {
     "data": {
      "text/plain": [
       "torch.Size([1, 4, 2])"
      ]
     },
     "execution_count": 23,
     "metadata": {},
     "output_type": "execute_result"
    }
   ],
   "source": [
    "mha = MHA(\n",
    "    emb_dim=2,\n",
    "    n_heads=1,\n",
    "    max_seq_len=4,\n",
    "    dropout_rate=0.1\n",
    ")\n",
    "z = mha(x, is_masked=True)\n",
    "z.shape"
   ]
  },
  {
   "cell_type": "markdown",
   "metadata": {},
   "source": [
    "## 2.3 FeedForward Layer"
   ]
  },
  {
   "cell_type": "code",
   "execution_count": 24,
   "metadata": {},
   "outputs": [],
   "source": [
    "class FeedForward(nn.Module):\n",
    "    def __init__(\n",
    "        self, \n",
    "        in_dim: int, \n",
    "        hidden_dim: int, \n",
    "        out_dim: int,\n",
    "        dropout_rate: float = 0.1\n",
    "    ):\n",
    "        super().__init__()\n",
    "        \n",
    "        self.ffn = nn.Sequential(\n",
    "            nn.Linear(in_dim, hidden_dim),\n",
    "            nn.ReLU(),\n",
    "            nn.Dropout(dropout_rate),\n",
    "            nn.Linear(hidden_dim, out_dim)\n",
    "        )\n",
    "        \n",
    "    def forward(self, x: torch.Tensor):\n",
    "        y = self.ffn(x)\n",
    "        return y"
   ]
  },
  {
   "cell_type": "code",
   "execution_count": 25,
   "metadata": {},
   "outputs": [
    {
     "data": {
      "text/plain": [
       "torch.Size([1, 4, 2])"
      ]
     },
     "execution_count": 25,
     "metadata": {},
     "output_type": "execute_result"
    }
   ],
   "source": [
    "ffn_in_dim, ffn_hidden_dim, ffn_out_dim = 2, 10, 2\n",
    "ffn = FeedForward(ffn_in_dim, ffn_hidden_dim, ffn_out_dim)\n",
    "y = ffn(x)\n",
    "y.shape"
   ]
  },
  {
   "cell_type": "markdown",
   "metadata": {},
   "source": [
    "## 2.4 Encoder"
   ]
  },
  {
   "cell_type": "code",
   "execution_count": 26,
   "metadata": {},
   "outputs": [],
   "source": [
    "class Encoder(nn.Module):\n",
    "    def __init__(\n",
    "        self,\n",
    "        emb_dim: int,\n",
    "        n_heads: int,\n",
    "        max_seq_len: int,\n",
    "        ffn_hidden_dim: int,\n",
    "        dropout_rate: float = 0.1\n",
    "    ):\n",
    "        super().__init__()\n",
    "\n",
    "        # LayerNorm Block 1:\n",
    "        self.layer_norm1 = nn.LayerNorm(emb_dim)\n",
    "\n",
    "        # Multi-Head Self-Attention Block:\n",
    "        self.self_attn = MHA(\n",
    "            emb_dim=emb_dim,\n",
    "            n_heads=n_heads,\n",
    "            max_seq_len=max_seq_len,\n",
    "            dropout_rate=dropout_rate\n",
    "        )\n",
    "\n",
    "        # LayerNorm Block 2:\n",
    "        self.layer_norm2 = nn.LayerNorm(emb_dim)\n",
    "\n",
    "        # FeedForward Block:\n",
    "        self.ffn = FeedForward(\n",
    "            in_dim=emb_dim,\n",
    "            hidden_dim=ffn_hidden_dim,\n",
    "            out_dim=emb_dim\n",
    "        )\n",
    "\n",
    "        # Dropout Block:\n",
    "        self.dropout = nn.Dropout(dropout_rate)\n",
    "        \n",
    "    def forward(self, x: torch.Tensor):\n",
    "        y = self.layer_norm1(x)\n",
    "        y = self.self_attn(y)\n",
    "        y = self.dropout(y)\n",
    "        # x += y\n",
    "        x = x + y\n",
    "        \n",
    "        y = self.layer_norm2(x)\n",
    "        y = self.ffn(y)\n",
    "        y = self.dropout(y)\n",
    "        # x += y\n",
    "        x = x + y\n",
    "        return x"
   ]
  },
  {
   "cell_type": "code",
   "execution_count": 27,
   "metadata": {},
   "outputs": [
    {
     "name": "stdout",
     "output_type": "stream",
     "text": [
      "torch.Size([1, 4, 2])\n",
      "torch.Size([1, 4, 6])\n"
     ]
    },
    {
     "data": {
      "text/plain": [
       "torch.Size([1, 4, 6])"
      ]
     },
     "execution_count": 27,
     "metadata": {},
     "output_type": "execute_result"
    }
   ],
   "source": [
    "print(x.shape)\n",
    "x_emb = input_emb(x)\n",
    "print(x_emb.shape)\n",
    "encoder = Encoder(\n",
    "    emb_dim=6,\n",
    "    n_heads=3,\n",
    "    max_seq_len=4,\n",
    "    ffn_hidden_dim=10,\n",
    "    dropout_rate=0.1\n",
    ")\n",
    "y = encoder(x_emb)\n",
    "y.shape"
   ]
  },
  {
   "cell_type": "code",
   "execution_count": 28,
   "metadata": {},
   "outputs": [],
   "source": [
    "class Encoders(nn.Module):\n",
    "    def __init__(\n",
    "        self,\n",
    "        n_layers: int,\n",
    "        in_dim: int,\n",
    "        emb_dim: int,\n",
    "        n_heads: int,\n",
    "        max_seq_len: int,\n",
    "        ffn_hidden_dim: int,\n",
    "        dropout_rate: float = 0.1\n",
    "    ):\n",
    "        super().__init__()\n",
    "        \n",
    "        self.embedding = Embedding(\n",
    "            max_seq_len=max_seq_len, \n",
    "            in_dim=in_dim, \n",
    "            emb_dim=emb_dim\n",
    "        )\n",
    "        self.layers = nn.ModuleList([\n",
    "            Encoder(\n",
    "                emb_dim=emb_dim,\n",
    "                n_heads=n_heads,\n",
    "                max_seq_len=max_seq_len,\n",
    "                ffn_hidden_dim=ffn_hidden_dim,\n",
    "                dropout_rate=dropout_rate\n",
    "            )\n",
    "            for _ in range(n_layers)\n",
    "        ])\n",
    "        self.layer_norm = nn.LayerNorm(emb_dim)\n",
    "        \n",
    "    def forward(self, x: torch.Tensor):\n",
    "        x = self.embedding(x)\n",
    "        for layer in self.layers:\n",
    "            x = layer(x)\n",
    "        y = self.layer_norm(x)\n",
    "        return y"
   ]
  },
  {
   "cell_type": "code",
   "execution_count": 29,
   "metadata": {},
   "outputs": [
    {
     "name": "stdout",
     "output_type": "stream",
     "text": [
      "torch.Size([1, 4, 2])\n"
     ]
    },
    {
     "data": {
      "text/plain": [
       "torch.Size([1, 4, 6])"
      ]
     },
     "execution_count": 29,
     "metadata": {},
     "output_type": "execute_result"
    }
   ],
   "source": [
    "encoders = Encoders(\n",
    "    n_layers=2,\n",
    "    in_dim=2,\n",
    "    emb_dim=6,\n",
    "    n_heads=3,\n",
    "    max_seq_len=4,\n",
    "    ffn_hidden_dim=10,\n",
    "    dropout_rate=0.1\n",
    ")\n",
    "print(x.shape)\n",
    "y = encoders(x)\n",
    "y.shape"
   ]
  },
  {
   "cell_type": "markdown",
   "metadata": {},
   "source": [
    "## 2.5 Decoder"
   ]
  },
  {
   "cell_type": "code",
   "execution_count": 30,
   "metadata": {},
   "outputs": [],
   "source": [
    "class Decoder(nn.Module):\n",
    "    def __init__(\n",
    "        self,\n",
    "        emb_dim: int,\n",
    "        n_heads: int,\n",
    "        max_seq_len: int,\n",
    "        ffn_hidden_dim: int,\n",
    "        dropout_rate: float = 0.1\n",
    "    ):\n",
    "        super().__init__()\n",
    "\n",
    "        # LayerNorm Block 1:\n",
    "        self.layer_norm1 = nn.LayerNorm(emb_dim)\n",
    "\n",
    "        # Multi-Head Self-Attention Block:\n",
    "        self.self_attn = MHA(\n",
    "            emb_dim=emb_dim,\n",
    "            n_heads=n_heads,\n",
    "            max_seq_len=max_seq_len,\n",
    "            dropout_rate=dropout_rate\n",
    "        )\n",
    "\n",
    "        # LayerNorm Block 2:\n",
    "        self.layer_norm2 = nn.LayerNorm(emb_dim)\n",
    "\n",
    "        # Multi-Head Cross-Attention Block:\n",
    "        self.cross_attn = MHA(\n",
    "            emb_dim=emb_dim,\n",
    "            n_heads=n_heads,\n",
    "            max_seq_len=max_seq_len,\n",
    "            dropout_rate=dropout_rate\n",
    "        )\n",
    "\n",
    "        # LayerNorm Block 3:\n",
    "        self.layer_norm3 = nn.LayerNorm(emb_dim)\n",
    "\n",
    "        # FeedForward Block:\n",
    "        self.ffn = FeedForward(\n",
    "            in_dim=emb_dim,\n",
    "            hidden_dim=ffn_hidden_dim,\n",
    "            out_dim=emb_dim\n",
    "        )\n",
    "\n",
    "        # Dropout Block:\n",
    "        self.dropout = nn.Dropout(dropout_rate)\n",
    "\n",
    "    def init_kv(self, hidden_states: torch.Tensor):\n",
    "        # Receive hidden states from Encoders\n",
    "        self.cross_attn.init_kv(hidden_states)\n",
    "\n",
    "    def clear_kv(self):\n",
    "        self.cross_attn.clear_kv()\n",
    "\n",
    "    def forward(self, x: torch.Tensor):\n",
    "        y = self.layer_norm1(x)\n",
    "        y = self.self_attn(y, is_masked=True)\n",
    "        y = self.dropout(y)\n",
    "        # x += y\n",
    "        x = x + y\n",
    "        \n",
    "        y = self.layer_norm2(x)\n",
    "        y = self.cross_attn(y, is_masked=False)\n",
    "        y = self.dropout(y)\n",
    "        # x += y\n",
    "        x = x + y\n",
    "        \n",
    "        y = self.layer_norm3(x)\n",
    "        y = self.ffn(y)\n",
    "        y = self.dropout(y)\n",
    "        # x += y\n",
    "        x = x + y\n",
    "        return x"
   ]
  },
  {
   "cell_type": "code",
   "execution_count": 31,
   "metadata": {},
   "outputs": [
    {
     "data": {
      "text/plain": [
       "torch.Size([1, 4, 6])"
      ]
     },
     "execution_count": 31,
     "metadata": {},
     "output_type": "execute_result"
    }
   ],
   "source": [
    "decoder = Decoder(\n",
    "    emb_dim=6,\n",
    "    n_heads=3,\n",
    "    max_seq_len=4,\n",
    "    ffn_hidden_dim=10,\n",
    "    dropout_rate=0.1\n",
    ")\n",
    "decoder.init_kv(y)\n",
    "z = decoder(x_emb)\n",
    "z.shape"
   ]
  },
  {
   "cell_type": "code",
   "execution_count": 32,
   "metadata": {},
   "outputs": [],
   "source": [
    "class Decoders(nn.Module):\n",
    "    def __init__(\n",
    "        self,\n",
    "        n_layers: int,\n",
    "        in_dim: int,\n",
    "        emb_dim: int,\n",
    "        n_heads: int,\n",
    "        n_features: int,\n",
    "        max_seq_len: int,\n",
    "        ffn_hidden_dim: int,\n",
    "        dropout_rate: float = 0.1\n",
    "    ):\n",
    "        super().__init__()\n",
    "\n",
    "        self.embedding = Embedding(\n",
    "            max_seq_len=max_seq_len,\n",
    "            in_dim=in_dim,\n",
    "            emb_dim=emb_dim\n",
    "        )\n",
    "        self.layers = nn.ModuleList([\n",
    "            Decoder(\n",
    "                emb_dim=emb_dim,\n",
    "                n_heads=n_heads,\n",
    "                max_seq_len=max_seq_len,\n",
    "                ffn_hidden_dim=ffn_hidden_dim,\n",
    "                dropout_rate=dropout_rate\n",
    "            )\n",
    "            for _ in range(n_layers)\n",
    "        ])\n",
    "        self.layer_norm = nn.LayerNorm(emb_dim)\n",
    "        self.out_linear = nn.Linear(emb_dim, n_features)\n",
    "        \n",
    "    def init_kv(self, hidden_states: torch.Tensor):\n",
    "        for layer in self.layers:\n",
    "            layer.init_kv(hidden_states)\n",
    "            \n",
    "    def forward(self, x: torch.Tensor):\n",
    "        x = self.embedding(x)\n",
    "        for layer in self.layers:\n",
    "            x = layer(x)\n",
    "        y = self.layer_norm(x)\n",
    "        y = self.out_linear(y)\n",
    "        return y"
   ]
  },
  {
   "cell_type": "code",
   "execution_count": 33,
   "metadata": {},
   "outputs": [
    {
     "name": "stdout",
     "output_type": "stream",
     "text": [
      "torch.Size([1, 4, 2])\n"
     ]
    },
    {
     "data": {
      "text/plain": [
       "torch.Size([1, 4, 2])"
      ]
     },
     "execution_count": 33,
     "metadata": {},
     "output_type": "execute_result"
    }
   ],
   "source": [
    "decoders = Decoders(\n",
    "    n_layers=2,\n",
    "    in_dim=2,\n",
    "    emb_dim=6,\n",
    "    n_heads=3,\n",
    "    n_features=2,\n",
    "    max_seq_len=4,\n",
    "    ffn_hidden_dim=10,\n",
    "    dropout_rate=0.1\n",
    ")\n",
    "decoders.init_kv(y)\n",
    "print(x.shape)\n",
    "z = decoders(x)\n",
    "z.shape"
   ]
  },
  {
   "cell_type": "markdown",
   "metadata": {},
   "source": [
    "## 2.6 Transformer"
   ]
  },
  {
   "cell_type": "code",
   "execution_count": 34,
   "metadata": {},
   "outputs": [],
   "source": [
    "class Transformer(nn.Module):\n",
    "    def __init__(\n",
    "        self,\n",
    "        n_layers: int,\n",
    "        in_dim: int,\n",
    "        emb_dim: int,\n",
    "        n_heads: int,\n",
    "        ffn_hidden_dim: int,\n",
    "        source_len: int,\n",
    "        target_len: int,\n",
    "        max_seq_len: int,\n",
    "        dropout_rate: float = 0.1\n",
    "    ):\n",
    "        super().__init__()\n",
    "\n",
    "        self.source_len = source_len\n",
    "        self.target_len = target_len\n",
    "\n",
    "        self.encoders = Encoders(\n",
    "            n_layers=n_layers,\n",
    "            in_dim=in_dim,\n",
    "            emb_dim=emb_dim,\n",
    "            n_heads=n_heads,\n",
    "            max_seq_len=target_len,\n",
    "            ffn_hidden_dim=ffn_hidden_dim,\n",
    "            dropout_rate=dropout_rate\n",
    "        )\n",
    "        self.decoders = Decoders(\n",
    "            n_layers=n_layers,\n",
    "            in_dim=in_dim,\n",
    "            emb_dim=emb_dim,\n",
    "            n_heads=n_heads,\n",
    "            n_features=in_dim,\n",
    "            max_seq_len=target_len,\n",
    "            ffn_hidden_dim=ffn_hidden_dim,\n",
    "            dropout_rate=dropout_rate\n",
    "        )\n",
    "\n",
    "    def encode(self, src_seq: torch.Tensor):\n",
    "        hidden_states = self.encoders(src_seq)\n",
    "        self.decoders.init_kv(hidden_states=hidden_states)\n",
    "\n",
    "    def decode(self, shift_tgt_seq: torch.Tensor):\n",
    "        outputs = self.decoders(shift_tgt_seq)\n",
    "        return outputs\n",
    "    \n",
    "    def predict(self, src_seq: torch.Tensor):\n",
    "        inputs = src_seq[:, -1:]\n",
    "        for _ in range(self.target_len):\n",
    "            outputs = self.decode(shift_tgt_seq=inputs)\n",
    "            # outputs = torch.cat([inputs, outputs[:, -1]], dim=-2)\n",
    "            outputs = torch.cat([inputs, outputs[:, -1:]], dim=-2)\n",
    "            inputs = outputs.detach()\n",
    "        outputs = inputs[:, 1:]\n",
    "        return outputs\n",
    "        \n",
    "    def forward(self, full_seq: torch.Tensor):\n",
    "        src_seq = full_seq[:, :self.source_len]\n",
    "        self.encode(src_seq=src_seq)\n",
    "        shift_tgt_seq = full_seq[:, self.source_len-1:-1]\n",
    "        if self.training:\n",
    "            pred_seq = self.decode(shift_tgt_seq=shift_tgt_seq)\n",
    "        else:\n",
    "            pred_seq = self.predict(src_seq=src_seq)\n",
    "        return pred_seq"
   ]
  },
  {
   "cell_type": "markdown",
   "metadata": {},
   "source": [
    "# 3. Model Configuration & Training"
   ]
  },
  {
   "cell_type": "code",
   "execution_count": 35,
   "metadata": {},
   "outputs": [],
   "source": [
    "from torch import optim\n",
    "\n",
    "device = \"mps\" if torch.backends.mps.is_available() else \"cpu\"\n",
    "\n",
    "model = Transformer(\n",
    "    n_layers=2,\n",
    "    in_dim=2,\n",
    "    emb_dim=6,\n",
    "    n_heads=3,\n",
    "    ffn_hidden_dim=10,\n",
    "    source_len=2,\n",
    "    target_len=2,\n",
    "    max_seq_len=4,\n",
    "    dropout_rate=0.1\n",
    ")\n",
    "model.to(device)\n",
    "\n",
    "loss_fn = nn.MSELoss()\n",
    "\n",
    "optimizer = optim.Adam(params=model.parameters(), lr=0.01)"
   ]
  },
  {
   "cell_type": "markdown",
   "metadata": {},
   "source": [
    "最初的`transformer`模型是使用`Glorot/Xavier`均匀分布来初始化模型参数的："
   ]
  },
  {
   "cell_type": "code",
   "execution_count": 36,
   "metadata": {},
   "outputs": [],
   "source": [
    "for p in model.parameters():\n",
    "    if p.dim() > 1:\n",
    "        nn.init.xavier_uniform_(p)"
   ]
  },
  {
   "cell_type": "code",
   "execution_count": 37,
   "metadata": {},
   "outputs": [],
   "source": [
    "import numpy as np\n",
    "\n",
    "torch.autograd.set_detect_anomaly(True)\n",
    "\n",
    "n_epochs = 50\n",
    "train_losses = []\n",
    "val_losses = []\n",
    "for epoch in range(n_epochs):\n",
    "    model.train()\n",
    "    train_loss_batch = []\n",
    "    for x_batch, t_batch in train_loader:\n",
    "        x_batch = x_batch.to(device)\n",
    "        t_batch = t_batch.to(device)\n",
    "        y_batch = model(x_batch)\n",
    "        train_loss = loss_fn(y_batch, t_batch)\n",
    "        train_loss.backward()\n",
    "        optimizer.step()\n",
    "        optimizer.zero_grad()\n",
    "        train_loss_batch.append(train_loss.item())\n",
    "    train_losses.append(np.mean(train_loss_batch))  # 取平均值\n",
    "    \n",
    "    model.eval()\n",
    "    val_loss_batch = []\n",
    "    for x_batch, t_batch in test_loader:\n",
    "        x_batch = x_batch.to(device)\n",
    "        t_batch = t_batch.to(device)\n",
    "        try:\n",
    "            with torch.no_grad():\n",
    "                y_batch = model(x_batch)\n",
    "                val_loss = loss_fn(y_batch, t_batch)\n",
    "        except Exception as e:\n",
    "            print(\"-\" * 50)\n",
    "            print(x_batch.shape, t_batch.shape)\n",
    "            y_batch = model(x_batch)\n",
    "            print(\"-\" * 50)\n",
    "            raise e\n",
    "        val_loss_batch.append(val_loss.item())\n",
    "    val_losses.append(np.mean(val_loss_batch))"
   ]
  },
  {
   "cell_type": "code",
   "execution_count": 38,
   "metadata": {},
   "outputs": [
    {
     "data": {
      "image/png": "[encoded data removed]",
      "text/plain": [
       "<Figure size 1000x400 with 1 Axes>"
      ]
     },
     "metadata": {},
     "output_type": "display_data"
    }
   ],
   "source": [
    "import matplotlib.pyplot as plt\n",
    "\n",
    "plt.style.use('fivethirtyeight')\n",
    "\n",
    "fig = plt.figure(figsize=(10, 4))\n",
    "plt.plot(train_losses, label=\"Training Loss\", c=\"b\")\n",
    "plt.plot(val_losses, label=\"Validation Loss\", c=\"r\")\n",
    "plt.xlabel(\"Epoch\")\n",
    "plt.ylabel(\"Loss\")\n",
    "plt.yscale(\"log\")\n",
    "plt.legend()\n",
    "plt.tight_layout()"
   ]
  },
  {
   "cell_type": "code",
   "execution_count": 39,
   "metadata": {},
   "outputs": [
    {
     "data": {
      "text/plain": [
       "tensor(0.0856, device='mps:0', grad_fn=<MseLossBackward0>)"
      ]
     },
     "execution_count": 39,
     "metadata": {},
     "output_type": "execute_result"
    }
   ],
   "source": [
    "# training loss:\n",
    "torch.manual_seed(11)\n",
    "x, t = next(iter(train_loader))\n",
    "x, t = x.to(device), t.to(device)\n",
    "model.train()\n",
    "y = model(x)  # using forward\n",
    "loss = loss_fn(y, t)\n",
    "loss"
   ]
  },
  {
   "cell_type": "code",
   "execution_count": 40,
   "metadata": {},
   "outputs": [
    {
     "data": {
      "text/plain": [
       "tensor(0.0151, device='mps:0')"
      ]
     },
     "execution_count": 40,
     "metadata": {},
     "output_type": "execute_result"
    }
   ],
   "source": [
    "# test loss:\n",
    "model.eval()\n",
    "y = model(x)  # using predict\n",
    "test_loss = loss_fn(y, t)\n",
    "test_loss"
   ]
  }
 ],
 "metadata": {
  "kernelspec": {
   "display_name": "Python 3",
   "language": "python",
   "name": "python3"
  },
  "language_info": {
   "codemirror_mode": {
    "name": "ipython",
    "version": 3
   },
   "file_extension": ".py",
   "mimetype": "text/x-python",
   "name": "python",
   "nbconvert_exporter": "python",
   "pygments_lexer": "ipython3",
   "version": "3.6.4"
  }
 },
 "nbformat": 4,
 "nbformat_minor": 2
}
