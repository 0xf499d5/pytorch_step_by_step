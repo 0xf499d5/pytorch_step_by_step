{
 "cells": [
  {
   "cell_type": "markdown",
   "id": "6b3a70f7",
   "metadata": {},
   "source": [
    "# Build transformer from scratch"
   ]
  },
  {
   "cell_type": "code",
   "execution_count": 1,
   "id": "46ce47c0",
   "metadata": {},
   "outputs": [],
   "source": [
    "%run -i transformer.py"
   ]
  },
  {
   "cell_type": "code",
   "execution_count": 2,
   "id": "6c3ffc07",
   "metadata": {},
   "outputs": [
    {
     "data": {
      "text/plain": [
       "<torch._C.Generator at 0x117497eb0>"
      ]
     },
     "execution_count": 2,
     "metadata": {},
     "output_type": "execute_result"
    }
   ],
   "source": [
    "torch.manual_seed(42)"
   ]
  },
  {
   "cell_type": "markdown",
   "id": "e0ac274f",
   "metadata": {},
   "source": [
    "## 1. Unit Test"
   ]
  },
  {
   "cell_type": "code",
   "execution_count": 3,
   "id": "9d791afa",
   "metadata": {},
   "outputs": [],
   "source": [
    "max_seq_len = 4\n",
    "input_dim, embed_dim = 2, 6"
   ]
  },
  {
   "cell_type": "markdown",
   "id": "95739b09",
   "metadata": {},
   "source": [
    "### 1.1 Test WordEmbedding"
   ]
  },
  {
   "cell_type": "code",
   "execution_count": 4,
   "id": "16d0620a",
   "metadata": {},
   "outputs": [],
   "source": [
    "x = torch.rand(2, 2).unsqueeze(0)\n",
    "assert x.shape == (1, 2, 2)\n",
    "\n",
    "we = WordEmbedding(input_dim=input_dim, embed_dim=embed_dim)\n",
    "xe = we(x)\n",
    "assert xe.shape == (1, 2, 6)"
   ]
  },
  {
   "cell_type": "markdown",
   "id": "c1213741",
   "metadata": {},
   "source": [
    "### 1.2 Test PositionEmbedding"
   ]
  },
  {
   "cell_type": "code",
   "execution_count": 5,
   "id": "71b07658",
   "metadata": {},
   "outputs": [],
   "source": [
    "pe = PositionEmbedding(max_seq_len=4, model_dim=embed_dim)\n",
    "xpe = pe(xe)\n",
    "assert xpe.shape == (1, 2, 6)"
   ]
  },
  {
   "cell_type": "code",
   "execution_count": 6,
   "id": "793967c8",
   "metadata": {},
   "outputs": [
    {
     "data": {
      "text/plain": [
       "tensor([[[0.0000, 1.0000],\n",
       "         [0.8415, 0.5403]]])"
      ]
     },
     "execution_count": 6,
     "metadata": {},
     "output_type": "execute_result"
    }
   ],
   "source": [
    "expected = torch.tensor([[[0.0000, 1.0000], [0.8415, 0.5403]]])\n",
    "pe = PositionEmbedding(max_seq_len=2, model_dim=2)\n",
    "actual = pe.pe\n",
    "assert torch.allclose(expected, actual, 1e-4)\n",
    "actual"
   ]
  },
  {
   "cell_type": "markdown",
   "id": "089374ea",
   "metadata": {},
   "source": [
    "### 1.3 Test MultiHeadAttention"
   ]
  },
  {
   "cell_type": "code",
   "execution_count": 7,
   "id": "7fe151a0",
   "metadata": {},
   "outputs": [
    {
     "name": "stdout",
     "output_type": "stream",
     "text": [
      "x shape: torch.Size([1, 2, 6])\n",
      "x: tensor([[[0.2969, 0.8317, 0.1053, 0.2695, 0.3588, 0.1994],\n",
      "         [0.5472, 0.0062, 0.9516, 0.0753, 0.8860, 0.5832]]])\n",
      "y shape: torch.Size([1, 2, 6])\n"
     ]
    },
    {
     "data": {
      "text/plain": [
       "tensor([[[ 0.1410, -0.2415, -0.0318,  0.3922, -0.4950, -0.0911],\n",
       "         [ 0.1424, -0.2383, -0.0315,  0.3907, -0.4926, -0.0913]]],\n",
       "       grad_fn=<ViewBackward0>)"
      ]
     },
     "execution_count": 7,
     "metadata": {},
     "output_type": "execute_result"
    }
   ],
   "source": [
    "x = torch.rand(2, 6).float().unsqueeze(0)\n",
    "print(f\"x shape: {x.shape}\")\n",
    "print(f\"x: {x}\")\n",
    "\n",
    "mha = MultiHeadAttention(\n",
    "    input_dim=embed_dim, \n",
    "    n_heads=3, \n",
    "    max_seq_len=max_seq_len,\n",
    ")\n",
    "y = mha(x, is_masked=False)\n",
    "print(f\"y shape: {y.shape}\")\n",
    "y"
   ]
  },
  {
   "cell_type": "markdown",
   "id": "d3bf0079",
   "metadata": {},
   "source": [
    "### 1.4 Test SelfAttentionBlock"
   ]
  },
  {
   "cell_type": "code",
   "execution_count": 8,
   "id": "7a3305be",
   "metadata": {},
   "outputs": [
    {
     "data": {
      "text/plain": [
       "tensor([[[ 0.4230,  0.5208,  0.1785,  0.0954,  0.3441,  0.2695],\n",
       "         [ 0.6548, -0.3133,  1.0914, -0.0742,  1.1456,  0.7610]]],\n",
       "       grad_fn=<AddBackward0>)"
      ]
     },
     "execution_count": 8,
     "metadata": {},
     "output_type": "execute_result"
    }
   ],
   "source": [
    "sab = SelfAttentionBlock(\n",
    "    input_dim=embed_dim, \n",
    "    n_heads=3, \n",
    "    max_seq_len=max_seq_len,\n",
    ")\n",
    "y = sab(x)\n",
    "assert y.shape == (1, 2, 6)\n",
    "y"
   ]
  },
  {
   "cell_type": "markdown",
   "id": "980edaaf",
   "metadata": {},
   "source": [
    "### 1.5 Test CrossAttentionBlock"
   ]
  },
  {
   "cell_type": "code",
   "execution_count": 9,
   "id": "f11ad2e5",
   "metadata": {},
   "outputs": [
    {
     "data": {
      "text/plain": [
       "tensor([[[ 0.4657,  0.6793,  0.2087,  0.4324,  0.3082,  0.9980],\n",
       "         [ 0.8305, -0.1967,  1.0616,  0.1902,  0.8449,  1.2522]]],\n",
       "       grad_fn=<AddBackward0>)"
      ]
     },
     "execution_count": 9,
     "metadata": {},
     "output_type": "execute_result"
    }
   ],
   "source": [
    "cab = CrossAttentionBlock(\n",
    "    input_dim=embed_dim, \n",
    "    n_heads=3, \n",
    "    max_seq_len=max_seq_len,\n",
    ")\n",
    "h = torch.rand(x.shape)\n",
    "y = cab(x, h)\n",
    "assert y.shape == (1, 2, 6)\n",
    "y"
   ]
  },
  {
   "cell_type": "markdown",
   "id": "800de677",
   "metadata": {},
   "source": [
    "### 1.6 Test FeedForwardBlock"
   ]
  },
  {
   "cell_type": "code",
   "execution_count": 10,
   "id": "70820dd6",
   "metadata": {},
   "outputs": [
    {
     "data": {
      "text/plain": [
       "tensor([[[ 0.1941,  0.3956,  0.2387,  0.4547,  0.7300,  0.1099],\n",
       "         [ 0.6936, -0.4001,  0.9455,  0.0020,  1.0205,  0.8613]]],\n",
       "       grad_fn=<AddBackward0>)"
      ]
     },
     "execution_count": 10,
     "metadata": {},
     "output_type": "execute_result"
    }
   ],
   "source": [
    "ffn = FeedForwardBlock(\n",
    "    input_dim=embed_dim,\n",
    "    hidden_dim=2*embed_dim,\n",
    "    output_dim=embed_dim,\n",
    ")\n",
    "y = ffn(x)\n",
    "assert y.shape == (1, 2, 6)\n",
    "y\n"
   ]
  },
  {
   "cell_type": "markdown",
   "id": "56d9d13a",
   "metadata": {},
   "source": [
    "### 1.7 Test Encoder"
   ]
  },
  {
   "cell_type": "code",
   "execution_count": 11,
   "id": "b67d1fdf",
   "metadata": {},
   "outputs": [
    {
     "data": {
      "text/plain": [
       "tensor([[[ 0.0229,  0.6373,  0.9636,  0.5993,  1.0467,  0.6053],\n",
       "         [ 0.2535, -0.0047,  1.0777, -0.2200,  1.0148,  1.1037]]],\n",
       "       grad_fn=<AddBackward0>)"
      ]
     },
     "execution_count": 11,
     "metadata": {},
     "output_type": "execute_result"
    }
   ],
   "source": [
    "encoder = Encoder(\n",
    "    input_dim=embed_dim, \n",
    "    ffn_hidden_dim=2*embed_dim,\n",
    "    n_heads=3, \n",
    "    max_seq_len=max_seq_len\n",
    ")\n",
    "y = encoder(x)\n",
    "assert y.shape == (1, 2, 6)\n",
    "y"
   ]
  },
  {
   "cell_type": "markdown",
   "id": "b83e5168",
   "metadata": {},
   "source": [
    "### 1.8 Test Decoder"
   ]
  },
  {
   "cell_type": "code",
   "execution_count": 12,
   "id": "600c5517",
   "metadata": {},
   "outputs": [
    {
     "data": {
      "text/plain": [
       "tensor([[[ 0.4443,  0.4832,  0.6520, -0.1377,  0.9540,  0.2160],\n",
       "         [ 0.6955, -0.1804,  1.1963, -0.3065,  1.6590,  0.4834]]],\n",
       "       grad_fn=<AddBackward0>)"
      ]
     },
     "execution_count": 12,
     "metadata": {},
     "output_type": "execute_result"
    }
   ],
   "source": [
    "decoder = Decoder(\n",
    "    input_dim=embed_dim, \n",
    "    ffn_hidden_dim=2*embed_dim,\n",
    "    n_heads=3, \n",
    "    max_seq_len=max_seq_len\n",
    ")\n",
    "y = decoder(x, h)\n",
    "assert y.shape == (1, 2, 6)\n",
    "y"
   ]
  },
  {
   "cell_type": "markdown",
   "id": "c8c89511",
   "metadata": {},
   "source": [
    "### 1.9 Test Encoders"
   ]
  },
  {
   "cell_type": "code",
   "execution_count": 13,
   "id": "9eb59fb1",
   "metadata": {},
   "outputs": [],
   "source": [
    "encoders = Encoders(\n",
    "    n_layers = 2,\n",
    "    input_dim = input_dim, \n",
    "    embed_dim = embed_dim,\n",
    "    ffn_hidden_dim = 2 * embed_dim,\n",
    "    n_heads = 3, \n",
    "    max_seq_len = 4,\n",
    "    dropout_rate = 0.1\n",
    ")"
   ]
  },
  {
   "cell_type": "code",
   "execution_count": 14,
   "id": "19980b69",
   "metadata": {},
   "outputs": [
    {
     "data": {
      "text/plain": [
       "tensor([[[-1.4552,  0.7041, -0.2659,  0.0997, -0.7425,  1.6597],\n",
       "         [ 1.0727, -1.0704, -0.2171,  0.3087, -1.3805,  1.2866]]],\n",
       "       grad_fn=<NativeLayerNormBackward0>)"
      ]
     },
     "execution_count": 14,
     "metadata": {},
     "output_type": "execute_result"
    }
   ],
   "source": [
    "x = torch.rand(2, 2).float().unsqueeze(0)\n",
    "y = encoders(x)\n",
    "assert y.shape == (1, 2, 6)\n",
    "y"
   ]
  },
  {
   "cell_type": "markdown",
   "id": "9508490c",
   "metadata": {},
   "source": [
    "### 1.10 Test Decoders"
   ]
  },
  {
   "cell_type": "code",
   "execution_count": 15,
   "id": "82bf70ac",
   "metadata": {},
   "outputs": [
    {
     "data": {
      "text/plain": [
       "tensor([[[ 0.3198,  0.5929],\n",
       "         [-0.4275,  0.0638]]], grad_fn=<ViewBackward0>)"
      ]
     },
     "execution_count": 15,
     "metadata": {},
     "output_type": "execute_result"
    }
   ],
   "source": [
    "decoders = Decoders(\n",
    "    n_layers = 1,\n",
    "    input_dim = input_dim, \n",
    "    embed_dim = embed_dim,\n",
    "    ffn_hidden_dim = 2 * embed_dim,\n",
    "    n_heads = 3, \n",
    "    max_seq_len = 4,\n",
    "    dropout_rate = 0.1\n",
    ")\n",
    "h = torch.rand(2, embed_dim).float().unsqueeze(0)\n",
    "y = decoders(x, h)\n",
    "assert y.shape == (1, 2, 2)\n",
    "y"
   ]
  },
  {
   "cell_type": "markdown",
   "id": "03461180",
   "metadata": {},
   "source": [
    "### 1.11 Test Transformer"
   ]
  },
  {
   "cell_type": "code",
   "execution_count": 16,
   "id": "4c8166db",
   "metadata": {},
   "outputs": [
    {
     "data": {
      "text/plain": [
       "tensor([[[ 0.4592, -0.2402],\n",
       "         [-0.5283,  0.0123]]], grad_fn=<ViewBackward0>)"
      ]
     },
     "execution_count": 16,
     "metadata": {},
     "output_type": "execute_result"
    }
   ],
   "source": [
    "transformer = Transformer(\n",
    "    n_layers = 1,\n",
    "    input_dim = input_dim, \n",
    "    embed_dim = embed_dim,\n",
    "    ffn_hidden_dim = 2 * embed_dim,\n",
    "    n_heads = 3, \n",
    "    max_seq_len = 4,\n",
    "    dropout_rate = 0.1\n",
    ")\n",
    "y = transformer(x)\n",
    "assert y.shape == (1, 2, 2)\n",
    "y"
   ]
  },
  {
   "cell_type": "markdown",
   "id": "30ee4750",
   "metadata": {},
   "source": [
    "## 2. Quad Vertex Sequence Dataset"
   ]
  },
  {
   "cell_type": "markdown",
   "id": "b865f85b",
   "metadata": {},
   "source": [
    "## 2.1 Data Generator"
   ]
  },
  {
   "cell_type": "code",
   "execution_count": 17,
   "id": "c586680c",
   "metadata": {},
   "outputs": [],
   "source": [
    "import matplotlib.pyplot as plt\n",
    "import numpy as np\n"
   ]
  },
  {
   "cell_type": "code",
   "execution_count": 18,
   "id": "61fcf171",
   "metadata": {},
   "outputs": [
    {
     "name": "stdout",
     "output_type": "stream",
     "text": [
      "direction: -1\n",
      "clockwises: [2, 1, 0, 3]\n",
      "corners:\n",
      "\t[-0.93384498 -1.05354337]\n",
      "\t[-0.77933645  0.90579767]\n",
      "\t[1.06325685 1.12307414]\n",
      "\t[ 0.96859108 -1.01433899]\n",
      "--------------------------------------------------\n"
     ]
    }
   ],
   "source": [
    "np.random.seed(13)\n",
    "\n",
    "quads = []\n",
    "directions = []\n",
    "clockwises = []\n",
    "m = 1\n",
    "n = 4\n",
    "bases = np.array([[1, 1], [-1, 1], [-1, -1], [1, -1]])  # counter-clockwise\n",
    "for _ in range(m):\n",
    "    start = np.random.randint(0, n)\n",
    "    direct = np.random.choice([-1, 1], replace=True)\n",
    "    corners = []\n",
    "    clockwise = []\n",
    "    for step in range(n):\n",
    "        index = (start + step * direct) % n\n",
    "        clockwise.append(index)\n",
    "        base = bases[index]\n",
    "        noice = np.random.randn(2) * 0.1\n",
    "        vertex = base + noice\n",
    "        corners.append(vertex)\n",
    "        # print(f\"base: {base}, noice: {noice}, vertex: {vertex}\")\n",
    "        # print(f\"step * direct: {step * direct}, start: {start}, index: {index}\")\n",
    "    quads.append(corners)\n",
    "    directions.append(direct)\n",
    "    clockwises.append(clockwise)\n",
    "\n",
    "for d, c, q in zip(directions, clockwises, quads):\n",
    "    print(f\"direction: {d}\")\n",
    "    print(f\"clockwises: {c}\\ncorners:\")\n",
    "    for v in q:\n",
    "        print(f\"\\t{v}\")\n",
    "    print(\"-\" * 50)\n",
    "    "
   ]
  },
  {
   "cell_type": "code",
   "execution_count": 19,
   "id": "8e11b607",
   "metadata": {},
   "outputs": [],
   "source": [
    "class QuadVertexSeqGenerator:\n",
    "    def __init__(self, n_samples: int, n_vertices: int = 4, seed: int = 13):\n",
    "        self.n_samples = n_samples    # sequence length\n",
    "        self.n_vertices = n_vertices  # count of quad corners\n",
    "        self.seed = seed\n",
    "\n",
    "    def __call__(self):\n",
    "        np.random.seed(self.seed)\n",
    "        m, n = self.n_samples, self.n_vertices\n",
    "\n",
    "        quads = []\n",
    "        directions = []\n",
    "        bases = np.array([[1, 1], [-1, 1], [-1, -1], [1, -1]])  # counter-clockwise!\n",
    "        for _ in range(m):\n",
    "            start = np.random.randint(0, n)\n",
    "            direct = np.random.choice([-1, 1], replace=True)    # -1: clockwise, 1: counter-clockwise\n",
    "            clockwise = 1 if direct == -1 else 0\n",
    "            corners = []\n",
    "            for step in range(n):\n",
    "                index = (start + step * direct) % n\n",
    "                base = bases[index]\n",
    "                noice = np.random.randn(2) * 0.1\n",
    "                vertex = base + noice\n",
    "                corners.append(vertex)\n",
    "            quads.append(corners)\n",
    "            directions.append(clockwise)\n",
    "        return np.array(quads), np.array(directions)\n",
    "    \n",
    "    def plot(self, n_rows: int, n_cols: int):\n",
    "        points, directions = self()\n",
    "        fig, axs = plt.subplots(n_rows, n_cols, figsize=(3*n_cols, 3*n_rows))\n",
    "        axs = axs.flatten()\n",
    "        \n",
    "        for e, ax in enumerate(axs):\n",
    "            pred_corners = points[e]\n",
    "            clockwise = directions[e]\n",
    "            for i in range(4):\n",
    "                color = 'k'\n",
    "                ax.scatter(*pred_corners.T, c=color, s=400)\n",
    "                if i == 3:\n",
    "                    start = -1\n",
    "                else:\n",
    "                    start = i\n",
    "                ax.plot(*pred_corners[[start, start+1]].T, c='k', lw=2, alpha=.5, linestyle='-')\n",
    "                ax.text(*(pred_corners[i] - np.array([.04, 0.04])), str(i+1), c='w', fontsize=12)\n",
    "                if directions is not None:\n",
    "                    ax.set_title(f'{\"Counter-\" if not clockwise else \"\"}Clockwise (y={clockwise})', fontsize=14)\n",
    "\n",
    "            ax.set_xlabel(r\"$x_0$\")\n",
    "            ax.set_ylabel(r\"$x_1$\", rotation=0)\n",
    "            ax.set_xlim([-1.5, 1.5])\n",
    "            ax.set_ylim([-1.5, 1.5])\n",
    "\n",
    "        fig.tight_layout()\n",
    "        return fig"
   ]
  },
  {
   "cell_type": "code",
   "execution_count": 20,
   "id": "a5c68e4d",
   "metadata": {},
   "outputs": [
    {
     "data": {
      "image/png": "[encoded data removed]",
      "text/plain": [
       "<Figure size 1200x600 with 8 Axes>"
      ]
     },
     "metadata": {},
     "output_type": "display_data"
    }
   ],
   "source": [
    "m, n = 8, 4\n",
    "gen = QuadVertexSeqGenerator(n_samples=m, n_vertices=n, seed=13)\n",
    "fig = gen.plot(n_rows=2, n_cols=m//2)"
   ]
  },
  {
   "cell_type": "markdown",
   "id": "ab3d95de",
   "metadata": {},
   "source": [
    "## 3. Quad Vertex Sequence Direction Classification"
   ]
  },
  {
   "cell_type": "markdown",
   "id": "fe1b58e8",
   "metadata": {},
   "source": [
    "### 3.1 Data preparation"
   ]
  },
  {
   "cell_type": "code",
   "execution_count": 21,
   "id": "7ac5db00",
   "metadata": {},
   "outputs": [],
   "source": [
    "batch_size = 16"
   ]
  },
  {
   "cell_type": "markdown",
   "id": "4db10b1c",
   "metadata": {},
   "source": [
    "#### 3.1.1 Training Dataset"
   ]
  },
  {
   "cell_type": "code",
   "execution_count": 22,
   "id": "b8be98ab",
   "metadata": {},
   "outputs": [
    {
     "name": "stdout",
     "output_type": "stream",
     "text": [
      "quads shape: (128, 4, 2)\n",
      "clockwises shape: (128,)\n"
     ]
    },
    {
     "data": {
      "text/plain": [
       "(array([[-0.93384498, -1.05354337],\n",
       "        [-0.77933645,  0.90579767],\n",
       "        [ 1.06325685,  1.12307414],\n",
       "        [ 0.96859108, -1.01433899]]),\n",
       " 1)"
      ]
     },
     "execution_count": 22,
     "metadata": {},
     "output_type": "execute_result"
    }
   ],
   "source": [
    "train_data_gen = QuadVertexSeqGenerator(\n",
    "    n_samples=128,\n",
    "    n_vertices=4,\n",
    "    seed=13\n",
    ")\n",
    "quads, clockwises = train_data_gen()\n",
    "print(f\"quads shape: {quads.shape}\")\n",
    "print(f\"clockwises shape: {clockwises.shape}\")\n",
    "quads[0], clockwises[0]"
   ]
  },
  {
   "cell_type": "code",
   "execution_count": 23,
   "id": "18a618f5",
   "metadata": {},
   "outputs": [
    {
     "name": "stdout",
     "output_type": "stream",
     "text": [
      "x_train shape: torch.Size([128, 4, 2])\n",
      "t_train shape: torch.Size([128, 1])\n"
     ]
    }
   ],
   "source": [
    "from torch.utils.data import TensorDataset\n",
    "\n",
    "x_train = torch.as_tensor(quads).float()\n",
    "t_train = torch.as_tensor(clockwises).float().view(-1, 1)\n",
    "print(f\"x_train shape: {x_train.shape}\")\n",
    "print(f\"t_train shape: {t_train.shape}\")"
   ]
  },
  {
   "cell_type": "code",
   "execution_count": 24,
   "id": "000a8a0f",
   "metadata": {},
   "outputs": [],
   "source": [
    "train_set = TensorDataset(x_train, t_train)"
   ]
  },
  {
   "cell_type": "code",
   "execution_count": 25,
   "id": "14d4570c",
   "metadata": {},
   "outputs": [],
   "source": [
    "from torch.utils.data import DataLoader\n",
    "\n",
    "train_loader = DataLoader(\n",
    "    dataset=train_set,\n",
    "    shuffle=True,\n",
    "    batch_size=batch_size\n",
    ")"
   ]
  },
  {
   "cell_type": "markdown",
   "id": "7980097c",
   "metadata": {},
   "source": [
    "#### 3.1.2 Test Dataset"
   ]
  },
  {
   "cell_type": "code",
   "execution_count": 26,
   "id": "9ef664e1",
   "metadata": {},
   "outputs": [],
   "source": [
    "val_data_gen = QuadVertexSeqGenerator(\n",
    "    n_samples=128,\n",
    "    n_vertices=4,\n",
    "    seed=19\n",
    ")\n",
    "val_quads, test_clockwises = val_data_gen()\n",
    "x_val = torch.as_tensor(val_quads).float()\n",
    "t_val = torch.as_tensor(test_clockwises).float().view(-1, 1)\n",
    "x_val.shape, t_val.shape\n",
    "\n",
    "test_set = TensorDataset(x_val, t_val)\n",
    "len(test_set)\n",
    "\n",
    "test_loader = DataLoader(dataset=test_set, batch_size=batch_size)"
   ]
  },
  {
   "cell_type": "markdown",
   "id": "a8f8f070",
   "metadata": {},
   "source": [
    "### 3.2 Model Configuration"
   ]
  },
  {
   "cell_type": "code",
   "execution_count": 27,
   "id": "bca19353",
   "metadata": {},
   "outputs": [],
   "source": [
    "class QualVertexSeqDirectClassifier(nn.Module):\n",
    "    def __init__(\n",
    "        self,\n",
    "        n_layers: int,\n",
    "        input_dim: int,\n",
    "        output_dim: int,\n",
    "        embed_dim: int,\n",
    "        ffn_hidden_dim: int,\n",
    "        n_heads: int,\n",
    "        max_seq_len: int,\n",
    "        dropout_rate: float = 0.1\n",
    "    ):\n",
    "        super().__init__()\n",
    "\n",
    "        self.input_dim = input_dim\n",
    "\n",
    "        self.encoders = Encoders(\n",
    "            n_layers=n_layers,\n",
    "            input_dim=input_dim,\n",
    "            embed_dim=embed_dim,\n",
    "            ffn_hidden_dim=ffn_hidden_dim,\n",
    "            n_heads=n_heads,\n",
    "            max_seq_len=max_seq_len,\n",
    "            dropout_rate=dropout_rate\n",
    "        )\n",
    "        self.linear = nn.Linear(embed_dim, output_dim)\n",
    "\n",
    "    def forward(self, x: torch.Tensor) -> torch.Tensor:\n",
    "        y = self.encoders(x)    # (B, S, E)\n",
    "        h = y[:, -1]            # (B, 1, E)\n",
    "        z = self.linear(h)  # (B, 1, O)\n",
    "        return z"
   ]
  },
  {
   "cell_type": "code",
   "execution_count": 28,
   "id": "d9e031e2",
   "metadata": {},
   "outputs": [],
   "source": [
    "# class QualVertexSeqDirectClassifier(nn.Module):\n",
    "#     def __init__(self, n_features, hidden_dim, n_outputs):\n",
    "#         super().__init__()\n",
    "#         self.hidden_dim = hidden_dim\n",
    "#         self.n_features = n_features\n",
    "#         self.n_outputs = n_outputs\n",
    "#         self.hidden = None\n",
    "#         # Simple RNN\n",
    "#         self.basic_rnn = nn.RNN(self.n_features, self.hidden_dim, batch_first=True)\n",
    "#         # Classifier to produce as many logits as outputs\n",
    "#         self.classifier = nn.Linear(self.hidden_dim, self.n_outputs)\n",
    "                \n",
    "#     def forward(self, X):\n",
    "#         # X is batch first (N, L, F)\n",
    "#         # output is (N, L, H)\n",
    "#         # final hidden state is (1, N, H)\n",
    "#         batch_first_output, self.hidden = self.basic_rnn(X)\n",
    "        \n",
    "#         # only last item in sequence (N, 1, H)\n",
    "#         last_output = batch_first_output[:, -1]\n",
    "#         # classifier will output (N, 1, n_outputs)\n",
    "#         out = self.classifier(last_output)\n",
    "        \n",
    "#         # final output is (N, n_outputs)\n",
    "#         return out.view(-1, self.n_outputs)"
   ]
  },
  {
   "cell_type": "code",
   "execution_count": 29,
   "id": "959bce62",
   "metadata": {},
   "outputs": [],
   "source": [
    "from torch import optim"
   ]
  },
  {
   "cell_type": "code",
   "execution_count": 30,
   "id": "27aa07a2",
   "metadata": {},
   "outputs": [
    {
     "name": "stdout",
     "output_type": "stream",
     "text": [
      "cpu\n"
     ]
    }
   ],
   "source": [
    "torch.manual_seed(21)\n",
    "\n",
    "# device = \"mps\" if torch.backends.mps.is_available() else \"cpu\"\n",
    "device = \"cpu\"\n",
    "print(device)\n",
    "\n",
    "model = QualVertexSeqDirectClassifier(\n",
    "    n_layers=2,\n",
    "    input_dim=2,\n",
    "    output_dim=1,\n",
    "    embed_dim=8,\n",
    "    ffn_hidden_dim=32,\n",
    "    n_heads=4,\n",
    "    max_seq_len=4,\n",
    "    dropout_rate=0\n",
    ")\n",
    "# model = QualVertexSeqDirectClassifier(\n",
    "#     n_features=2, \n",
    "#     hidden_dim=2, \n",
    "#     n_outputs=1\n",
    "# )\n",
    "model.to(device)\n",
    "\n",
    "# loss_fn = nn.BCELoss()\n",
    "loss_fn = nn.BCEWithLogitsLoss()\n",
    "\n",
    "optimizer = optim.Adam(params=model.parameters(), lr=0.01)"
   ]
  },
  {
   "cell_type": "markdown",
   "id": "40a8672f",
   "metadata": {},
   "source": [
    "### 3.3 Model Training"
   ]
  },
  {
   "cell_type": "code",
   "execution_count": 31,
   "id": "3c921b1c",
   "metadata": {},
   "outputs": [],
   "source": [
    "for p in model.parameters():\n",
    "    if p.dim() > 1:\n",
    "        nn.init.xavier_uniform_(p)"
   ]
  },
  {
   "cell_type": "code",
   "execution_count": 32,
   "id": "6c8249b1",
   "metadata": {},
   "outputs": [],
   "source": [
    "torch.autograd.set_detect_anomaly(True)\n",
    "torch.manual_seed(42)\n",
    "\n",
    "n_epochs = 100\n",
    "\n",
    "losses = []\n",
    "val_losses = []\n",
    "\n",
    "for e in range(n_epochs):\n",
    "    model.train()\n",
    "    batch_losses = []\n",
    "    for x, t in train_loader:\n",
    "        x = x.to(device)\n",
    "        t = t.to(device)\n",
    "        y = model(x)\n",
    "        loss = loss_fn(y, t)\n",
    "        loss.backward(retain_graph=True)\n",
    "        optimizer.step()\n",
    "        optimizer.zero_grad()\n",
    "        batch_losses.append(loss.item())\n",
    "    losses.append(np.mean(batch_losses))\n",
    "\n",
    "    model.eval()\n",
    "    val_batch_losses = []\n",
    "    for x, t in test_loader:\n",
    "        x = x.to(device)\n",
    "        t = t.to(device)\n",
    "        with torch.no_grad():\n",
    "            y = model(x)\n",
    "            val_loss = loss_fn(y, t)\n",
    "        val_batch_losses.append(val_loss.item())\n",
    "    val_losses.append(np.mean(val_batch_losses))"
   ]
  },
  {
   "cell_type": "code",
   "execution_count": 33,
   "id": "62411c9f",
   "metadata": {},
   "outputs": [
    {
     "data": {
      "image/png": "[encoded data removed]",
      "text/plain": [
       "<Figure size 1000x400 with 1 Axes>"
      ]
     },
     "metadata": {},
     "output_type": "display_data"
    }
   ],
   "source": [
    "import matplotlib.pyplot as plt\n",
    "\n",
    "plt.style.use('fivethirtyeight')\n",
    "\n",
    "fig = plt.figure(figsize=(10, 4))\n",
    "plt.plot(losses, label=\"Training Loss\", c=\"b\")\n",
    "plt.plot(val_losses, label=\"Validation Loss\", c=\"r\")\n",
    "plt.xlabel(\"Epoch\")\n",
    "plt.ylabel(\"Loss\")\n",
    "plt.yscale(\"log\")\n",
    "plt.legend()\n",
    "plt.tight_layout()"
   ]
  },
  {
   "cell_type": "code",
   "execution_count": 34,
   "id": "8585bbc9",
   "metadata": {},
   "outputs": [
    {
     "name": "stdout",
     "output_type": "stream",
     "text": [
      "training accuracy: tensor([1.]), validation accuracy: tensor([1.])\n"
     ]
    }
   ],
   "source": [
    "corrects = 0\n",
    "val_corrects = 0\n",
    "for x, t in train_loader:\n",
    "    x = x.to(device)\n",
    "    t = t.to(device)\n",
    "    with torch.no_grad():\n",
    "        y = model(x)\n",
    "        p = (torch.sigmoid(y) > 0.5).long()\n",
    "        corrects += sum(p == t)\n",
    "for x, t in test_loader:\n",
    "    x = x.to(device)\n",
    "    t = t.to(device)\n",
    "    with torch.no_grad():\n",
    "        y = model(x)\n",
    "        p = (torch.sigmoid(y) > 0.5).long()\n",
    "        val_corrects += sum(p == t)\n",
    "acc = corrects / 128\n",
    "val_acc = val_corrects / 128\n",
    "print(f\"training accuracy: {acc}, validation accuracy: {val_acc}\")"
   ]
  },
  {
   "cell_type": "markdown",
   "id": "64d9afc0",
   "metadata": {},
   "source": [
    "## 4. Quad Vertex Sequence to Sequence"
   ]
  },
  {
   "cell_type": "markdown",
   "id": "cd4867ce",
   "metadata": {},
   "source": [
    "### 4.1 Data Preparation"
   ]
  },
  {
   "cell_type": "code",
   "execution_count": 35,
   "id": "bbd1183b",
   "metadata": {},
   "outputs": [],
   "source": [
    "train_data_gen = QuadVertexSeqGenerator(n_samples=256, n_vertices=4, seed=13)\n",
    "quads, _ = train_data_gen()\n",
    "x_train = torch.as_tensor(quads).float()\n",
    "t_train = x_train[:, 2:]\n",
    "train_set = TensorDataset(x_train, t_train)\n",
    "train_loader = DataLoader(train_set, shuffle=True, batch_size=batch_size)"
   ]
  },
  {
   "cell_type": "code",
   "execution_count": 36,
   "id": "2863ecab",
   "metadata": {},
   "outputs": [],
   "source": [
    "val_data_gen = QuadVertexSeqGenerator(n_samples=128, n_vertices=4, seed=17)\n",
    "val_quads, _ = val_data_gen()\n",
    "val_data = torch.as_tensor(val_quads).float()\n",
    "x_val = val_data[:, :2]\n",
    "t_val = val_data[:, 2:]\n",
    "val_set = TensorDataset(x_val, t_val)\n",
    "val_loader = DataLoader(val_set, shuffle=False, batch_size=batch_size)"
   ]
  },
  {
   "cell_type": "markdown",
   "id": "1d5a8abd",
   "metadata": {},
   "source": [
    "### 4.2 Model Configuration"
   ]
  },
  {
   "cell_type": "code",
   "execution_count": 37,
   "id": "d07bb138",
   "metadata": {},
   "outputs": [],
   "source": [
    "class QuadVertexSeq2Seq(Transformer):\n",
    "    def __init__(\n",
    "        self, \n",
    "        n_layers: int,\n",
    "        input_dim: int, \n",
    "        embed_dim: int,\n",
    "        ffn_hidden_dim: int,\n",
    "        n_heads: int, \n",
    "        max_seq_len: int,\n",
    "        source_seq_len: int,\n",
    "        target_seq_len: int,\n",
    "        dropout_rate: float = 0.1\n",
    "    ):\n",
    "        super().__init__(\n",
    "            n_layers=n_layers,\n",
    "            input_dim=input_dim,\n",
    "            embed_dim=embed_dim,\n",
    "            ffn_hidden_dim=ffn_hidden_dim,\n",
    "            n_heads=n_heads,\n",
    "            max_seq_len=max_seq_len,\n",
    "            dropout_rate=dropout_rate\n",
    "        )\n",
    "\n",
    "        self.source_seq_len = source_seq_len\n",
    "        self.target_seq_len = target_seq_len\n",
    "\n",
    "    def forward(self, full_seq: torch.Tensor) -> torch.Tensor:\n",
    "        src_seq = full_seq[:, :self.source_seq_len, :]  # (B, S, E)\n",
    "        hid_seq = self.encoders(src_seq)\n",
    "        if self.training:\n",
    "            shft_seq = full_seq[:, self.source_seq_len-1:-1, :]\n",
    "            pred_seq = self.decoders(shft_seq, hid_seq, is_masked=True)\n",
    "        else:\n",
    "            pred_seq = self.generate(src_seq, hid_seq, is_masked=True)\n",
    "        return pred_seq\n",
    "\n",
    "    def generate(\n",
    "        self, \n",
    "        src_seq: torch.Tensor,\n",
    "        hid_seq: torch.Tensor,\n",
    "        is_masked: bool = True\n",
    "    ) -> torch.Tensor:\n",
    "        shft_seq = src_seq[:, -1:]\n",
    "        # shft_hid = hid_seq[:, -1:]\n",
    "        for i in range(self.target_seq_len):\n",
    "            shft_hid = hid_seq[:, :i+1]\n",
    "            pred_seq = self.decoders(shft_seq, shft_hid, True)  # (B, S, E)\n",
    "            shft_seq = torch.cat([shft_seq, pred_seq[:, -1:]], dim=-2)\n",
    "        pred_seq = shft_seq[:, 1:]\n",
    "        return pred_seq"
   ]
  },
  {
   "cell_type": "code",
   "execution_count": 38,
   "id": "cb36daa5",
   "metadata": {},
   "outputs": [],
   "source": [
    "model = QuadVertexSeq2Seq(\n",
    "    n_layers=2,\n",
    "    input_dim=2,\n",
    "    embed_dim=6,\n",
    "    n_heads=3,\n",
    "    ffn_hidden_dim=10,\n",
    "    source_seq_len=2,\n",
    "    target_seq_len=2,\n",
    "    max_seq_len=4,\n",
    "    dropout_rate=0.1\n",
    ")\n",
    "model.to(device)\n",
    "\n",
    "loss_fn = nn.MSELoss()\n",
    "\n",
    "optimizer = optim.Adam(params=model.parameters(), lr=0.01)"
   ]
  },
  {
   "cell_type": "markdown",
   "id": "eff5ce8f",
   "metadata": {},
   "source": [
    "### 4.3 Model Training"
   ]
  },
  {
   "cell_type": "code",
   "execution_count": 39,
   "id": "b50d55c1",
   "metadata": {},
   "outputs": [],
   "source": [
    "for p in model.parameters():\n",
    "    if p.dim() > 1:\n",
    "        nn.init.xavier_uniform_(p)"
   ]
  },
  {
   "cell_type": "code",
   "execution_count": 40,
   "id": "52b3fe08",
   "metadata": {},
   "outputs": [],
   "source": [
    "torch.autograd.set_detect_anomaly(True)\n",
    "\n",
    "n_epochs = 50\n",
    "\n",
    "losses = []\n",
    "val_losses = []\n",
    "for e in range(n_epochs):\n",
    "    model.train()\n",
    "    batch_losses = []\n",
    "    for x, t in train_loader:\n",
    "        x = x.to(device)\n",
    "        t = t.to(device)\n",
    "        y = model(x)\n",
    "        loss = loss_fn(y, t)\n",
    "        loss.backward(retain_graph=True)\n",
    "        optimizer.step()\n",
    "        optimizer.zero_grad()\n",
    "        batch_losses.append(loss.item())\n",
    "    losses.append(np.mean(batch_losses))\n",
    "\n",
    "    model.eval()\n",
    "    val_batch_losses = []\n",
    "    for x, t in val_loader:\n",
    "        x = x.to(device)\n",
    "        t = t.to(device)\n",
    "        with torch.no_grad():\n",
    "            y = model(x)\n",
    "            val_loss = loss_fn(y, t)\n",
    "        val_batch_losses.append(val_loss.item())\n",
    "    val_losses.append(np.mean(val_batch_losses))"
   ]
  },
  {
   "cell_type": "code",
   "execution_count": 41,
   "id": "aa9087e1",
   "metadata": {},
   "outputs": [
    {
     "data": {
      "image/png": "[encoded data removed]",
      "text/plain": [
       "<Figure size 1000x400 with 1 Axes>"
      ]
     },
     "metadata": {},
     "output_type": "display_data"
    }
   ],
   "source": [
    "import matplotlib.pyplot as plt\n",
    "\n",
    "plt.style.use('fivethirtyeight')\n",
    "\n",
    "fig = plt.figure(figsize=(10, 4))\n",
    "plt.plot(losses, label=\"Training Loss\", c=\"b\")\n",
    "plt.plot(val_losses, label=\"Validation Loss\", c=\"r\")\n",
    "plt.xlabel(\"Epoch\")\n",
    "plt.ylabel(\"Loss\")\n",
    "plt.yscale(\"log\")\n",
    "plt.legend()\n",
    "plt.tight_layout()"
   ]
  }
 ],
 "metadata": {
  "kernelspec": {
   "display_name": "llm",
   "language": "python",
   "name": "python3"
  },
  "language_info": {
   "codemirror_mode": {
    "name": "ipython",
    "version": 3
   },
   "file_extension": ".py",
   "mimetype": "text/x-python",
   "name": "python",
   "nbconvert_exporter": "python",
   "pygments_lexer": "ipython3",
   "version": "3.12.10"
  }
 },
 "nbformat": 4,
 "nbformat_minor": 5
}
